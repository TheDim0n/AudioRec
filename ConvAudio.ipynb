{
 "cells": [
  {
   "cell_type": "code",
   "execution_count": 1,
   "metadata": {},
   "outputs": [
    {
     "data": {
      "text/plain": [
       "'/physical_device:GPU:0'"
      ]
     },
     "execution_count": 1,
     "metadata": {},
     "output_type": "execute_result"
    }
   ],
   "source": [
    "import tensorflow as tf\n",
    "import numpy as np\n",
    "import librosa as li\n",
    "import matplotlib.pyplot as plt\n",
    "import IPython.display as ipd\n",
    "import time\n",
    "from concurrent.futures import ThreadPoolExecutor\n",
    "from preprocessing import Audio\n",
    "\n",
    "%matplotlib inline\n",
    "GPU = tf.config.list_physical_devices('GPU')\n",
    "CPU = tf.config.list_physical_devices('CPU')\n",
    "DEVICE = GPU[0].name if GPU else CPU[0].name\n",
    "DEVICE"
   ]
  },
  {
   "cell_type": "code",
   "execution_count": 2,
   "metadata": {},
   "outputs": [],
   "source": [
    "def to_len(y, sec=1.0, sr=44100):\n",
    "    y, _ = li.effects.trim(y)\n",
    "    x = tf.keras.preprocessing.sequence.pad_sequences(\n",
    "        [y],\n",
    "        maxlen=int(sr * sec),\n",
    "        padding='post',\n",
    "        truncating='post',\n",
    "        dtype='float32'\n",
    "    )[0]\n",
    "    return x"
   ]
  },
  {
   "cell_type": "code",
   "execution_count": 3,
   "metadata": {},
   "outputs": [],
   "source": [
    "def get_audio(path):\n",
    "    audio = Audio(path)\n",
    "    #augmented = audio.augmented_source()\n",
    "    augmented = [audio.data]\n",
    "    data = list(map(to_len, augmented))\n",
    "    labels = [audio.label] * len(augmented)\n",
    "    return [data, labels]"
   ]
  },
  {
   "cell_type": "code",
   "execution_count": 8,
   "metadata": {},
   "outputs": [],
   "source": [
    "def get_labeled_data(nums=1500):\n",
    "    FALSE_DATA = 'AudioData/0 Данные'\n",
    "    NOISE = 'AudioData/0 Шум'\n",
    "    JARVIS = 'AudioData/1 Джарвис'\n",
    "    DIO = 'AudioData/2 Дио'\n",
    "    ITAN = 'AudioData/3 Итан'\n",
    "    LADA = 'AudioData/4 Лада'\n",
    "    MIRA = 'AudioData/5 Мира'\n",
    "    \n",
    "    p = li.util.find_files(FALSE_DATA)\n",
    "    np.random.shuffle(p)\n",
    "    PATHS = li.util.find_files(LADA) + li.util.find_files(NOISE) + p[:nums]\n",
    "    \n",
    "    np.random.shuffle(PATHS)\n",
    "    \n",
    "    START_TIME = time.time()\n",
    "    \n",
    "    data = list()\n",
    "    labels = list()\n",
    "    \n",
    "    with ThreadPoolExecutor(1) as pool:\n",
    "        DATA = list(pool.map(get_audio, PATHS))\n",
    "    \n",
    "    for d, l in DATA:\n",
    "        data += d\n",
    "        labels += l\n",
    "\n",
    "    data = np.array(data)\n",
    "    labels = np.array(labels)\n",
    "    data = np.reshape(data, [*data.shape, 1])\n",
    "    labels = np.reshape(labels, [*labels.shape, 1])\n",
    "    print('Loading at {:.2f} seconds'.format(time.time()-START_TIME))\n",
    "    return (data, labels)"
   ]
  },
  {
   "cell_type": "code",
   "execution_count": 9,
   "metadata": {},
   "outputs": [
    {
     "name": "stdout",
     "output_type": "stream",
     "text": [
      "Loading at 37.31 seconds\n"
     ]
    }
   ],
   "source": [
    "data, labels = get_labeled_data(100)"
   ]
  },
  {
   "cell_type": "code",
   "execution_count": 10,
   "metadata": {},
   "outputs": [
    {
     "data": {
      "text/plain": [
       "((323, 44100, 1), (323, 1))"
      ]
     },
     "execution_count": 10,
     "metadata": {},
     "output_type": "execute_result"
    }
   ],
   "source": [
    "data.shape, labels.shape"
   ]
  },
  {
   "cell_type": "code",
   "execution_count": 12,
   "metadata": {},
   "outputs": [
    {
     "data": {
      "text/plain": [
       "(<tf.Tensor: shape=(), dtype=int32, numpy=50>,\n",
       " <tf.Tensor: shape=(), dtype=int32, numpy=22>)"
      ]
     },
     "execution_count": 12,
     "metadata": {},
     "output_type": "execute_result"
    }
   ],
   "source": [
    "TRAIN = 200\n",
    "tf.math.reduce_sum(labels[:TRAIN]), tf.math.reduce_sum(labels[TRAIN:])"
   ]
  },
  {
   "cell_type": "code",
   "execution_count": 13,
   "metadata": {},
   "outputs": [
    {
     "name": "stdout",
     "output_type": "stream",
     "text": [
      "<BatchDataset shapes: ((None, 44100, 1), (None, 1)), types: (tf.float32, tf.int32)>\n",
      "<BatchDataset shapes: ((None, 44100, 1), (None, 1)), types: (tf.float32, tf.int32)>\n"
     ]
    }
   ],
   "source": [
    "train_dataset = tf.data.Dataset.from_tensor_slices((data[:TRAIN], labels[:TRAIN]))\n",
    "train_dataset = train_dataset.batch(32)\n",
    "print(train_dataset)\n",
    "\n",
    "validation_dataset = tf.data.Dataset.from_tensor_slices((data[TRAIN:], labels[TRAIN:]))\n",
    "validation_dataset = validation_dataset.batch(32)\n",
    "print(validation_dataset)"
   ]
  },
  {
   "cell_type": "code",
   "execution_count": 14,
   "metadata": {},
   "outputs": [
    {
     "name": "stdout",
     "output_type": "stream",
     "text": [
      "448\n",
      "256\n"
     ]
    }
   ],
   "source": [
    "print(len(train_dataset) * 64)\n",
    "print(len(validation_dataset) * 64)"
   ]
  },
  {
   "cell_type": "code",
   "execution_count": 15,
   "metadata": {},
   "outputs": [],
   "source": [
    "root_model = tf.keras.models.load_model('models/conv/RootModel-v3.0.h5')"
   ]
  },
  {
   "cell_type": "code",
   "execution_count": 16,
   "metadata": {},
   "outputs": [
    {
     "name": "stdout",
     "output_type": "stream",
     "text": [
      "Model: \"LadaConvV3.0\"\n",
      "_________________________________________________________________\n",
      "Layer (type)                 Output Shape              Param #   \n",
      "=================================================================\n",
      "conv1d_68 (Conv1D)           (None, 44100, 10)         1000      \n",
      "_________________________________________________________________\n",
      "dropout_68 (Dropout)         (None, 44100, 10)         0         \n",
      "_________________________________________________________________\n",
      "re_lu_68 (ReLU)              (None, 44100, 10)         0         \n",
      "_________________________________________________________________\n",
      "conv1d_69 (Conv1D)           (None, 44100, 1)          100       \n",
      "_________________________________________________________________\n",
      "dropout_69 (Dropout)         (None, 44100, 1)          0         \n",
      "_________________________________________________________________\n",
      "re_lu_69 (ReLU)              (None, 44100, 1)          0         \n",
      "_________________________________________________________________\n",
      "conv1d_70 (Conv1D)           (None, 100, 20)           8820      \n",
      "_________________________________________________________________\n",
      "dropout_70 (Dropout)         (None, 100, 20)           0         \n",
      "_________________________________________________________________\n",
      "re_lu_70 (ReLU)              (None, 100, 20)           0         \n",
      "_________________________________________________________________\n",
      "conv1d_71 (Conv1D)           (None, 20, 1)             100       \n",
      "_________________________________________________________________\n",
      "dropout_71 (Dropout)         (None, 20, 1)             0         \n",
      "_________________________________________________________________\n",
      "re_lu_71 (ReLU)              (None, 20, 1)             0         \n",
      "_________________________________________________________________\n",
      "gru_2 (GRU)                  (None, 20)                1380      \n",
      "_________________________________________________________________\n",
      "dense_2 (Dense)              (None, 1)                 21        \n",
      "=================================================================\n",
      "Total params: 11,421\n",
      "Trainable params: 11,421\n",
      "Non-trainable params: 0\n",
      "_________________________________________________________________\n"
     ]
    }
   ],
   "source": [
    "model = tf.keras.models.clone_model(root_model)\n",
    "model._name = 'LadaConvV3.0'\n",
    "\n",
    "model.summary()"
   ]
  },
  {
   "cell_type": "code",
   "execution_count": 17,
   "metadata": {},
   "outputs": [],
   "source": [
    "model.compile(\n",
    "    optimizer=tf.keras.optimizers.Adam(),\n",
    "    loss=tf.keras.losses.BinaryCrossentropy(),\n",
    "    metrics=[\n",
    "        tf.keras.metrics.Recall(name='rec'),\n",
    "        tf.keras.metrics.Precision(name='prec'),\n",
    "        tf.keras.metrics.AUC(name='auc'),\n",
    "        tf.keras.metrics.BinaryAccuracy(name='acc'),\n",
    "    ]\n",
    ")"
   ]
  },
  {
   "cell_type": "code",
   "execution_count": 22,
   "metadata": {},
   "outputs": [
    {
     "name": "stdout",
     "output_type": "stream",
     "text": [
      "Epoch 1/50\n",
      "7/7 - 0s - loss: 0.1097 - rec: 0.9200 - prec: 0.9200 - auc: 0.9906 - acc: 0.9600\n",
      "Epoch 2/50\n",
      "7/7 - 0s - loss: 0.0752 - rec: 0.9400 - prec: 0.9592 - auc: 0.9946 - acc: 0.9750\n",
      "Epoch 3/50\n",
      "7/7 - 0s - loss: 0.1103 - rec: 0.9600 - prec: 0.8727 - auc: 0.9915 - acc: 0.9550\n",
      "Epoch 4/50\n",
      "7/7 - 0s - loss: 0.0674 - rec: 0.9400 - prec: 0.9792 - auc: 0.9924 - acc: 0.9800\n",
      "Epoch 5/50\n",
      "7/7 - 0s - loss: 0.1313 - rec: 0.9000 - prec: 0.9574 - auc: 0.9822 - acc: 0.9650\n",
      "Epoch 6/50\n",
      "7/7 - 0s - loss: 0.0657 - rec: 0.9800 - prec: 0.9423 - auc: 0.9957 - acc: 0.9800\n",
      "Epoch 7/50\n",
      "7/7 - 0s - loss: 0.0749 - rec: 0.9600 - prec: 0.9600 - auc: 0.9919 - acc: 0.9800\n",
      "Epoch 8/50\n",
      "7/7 - 0s - loss: 0.0706 - rec: 0.9600 - prec: 0.9796 - auc: 0.9865 - acc: 0.9850\n",
      "Epoch 9/50\n",
      "7/7 - 0s - loss: 0.0498 - rec: 0.9800 - prec: 0.9608 - auc: 0.9949 - acc: 0.9850\n",
      "Epoch 10/50\n",
      "7/7 - 0s - loss: 0.0606 - rec: 0.9600 - prec: 0.9796 - auc: 0.9952 - acc: 0.9850\n",
      "Epoch 11/50\n",
      "7/7 - 0s - loss: 0.0996 - rec: 0.9400 - prec: 0.9400 - auc: 0.9909 - acc: 0.9700\n",
      "Epoch 12/50\n",
      "7/7 - 0s - loss: 0.0786 - rec: 0.9600 - prec: 0.9057 - auc: 0.9939 - acc: 0.9650\n",
      "Epoch 13/50\n",
      "7/7 - 0s - loss: 0.0481 - rec: 1.0000 - prec: 0.9615 - auc: 0.9931 - acc: 0.9900\n",
      "Epoch 14/50\n",
      "7/7 - 0s - loss: 0.0695 - rec: 0.9400 - prec: 0.9792 - auc: 0.9935 - acc: 0.9800\n",
      "Epoch 15/50\n",
      "7/7 - 0s - loss: 0.0792 - rec: 0.9600 - prec: 0.9412 - auc: 0.9919 - acc: 0.9750\n",
      "Epoch 16/50\n",
      "7/7 - 0s - loss: 0.0773 - rec: 0.9200 - prec: 0.9388 - auc: 0.9931 - acc: 0.9650\n",
      "Epoch 17/50\n",
      "7/7 - 0s - loss: 0.0667 - rec: 0.9800 - prec: 0.9608 - auc: 0.9923 - acc: 0.9850\n",
      "Epoch 18/50\n",
      "7/7 - 0s - loss: 0.1295 - rec: 0.9000 - prec: 0.8824 - auc: 0.9885 - acc: 0.9450\n",
      "Epoch 19/50\n",
      "7/7 - 0s - loss: 0.1144 - rec: 0.9600 - prec: 0.8889 - auc: 0.9881 - acc: 0.9600\n",
      "Epoch 20/50\n",
      "7/7 - 0s - loss: 0.0828 - rec: 0.9400 - prec: 0.9792 - auc: 0.9883 - acc: 0.9800\n",
      "Epoch 21/50\n",
      "7/7 - 0s - loss: 0.0493 - rec: 1.0000 - prec: 0.9615 - auc: 0.9927 - acc: 0.9900\n",
      "Epoch 22/50\n",
      "7/7 - 0s - loss: 0.0655 - rec: 0.9200 - prec: 0.9787 - auc: 0.9931 - acc: 0.9750\n",
      "Epoch 23/50\n",
      "7/7 - 0s - loss: 0.0602 - rec: 0.9600 - prec: 0.9796 - auc: 0.9924 - acc: 0.9850\n",
      "Epoch 24/50\n",
      "7/7 - 0s - loss: 0.0751 - rec: 0.9400 - prec: 0.9400 - auc: 0.9920 - acc: 0.9700\n",
      "Epoch 25/50\n",
      "7/7 - 0s - loss: 0.0655 - rec: 0.9600 - prec: 0.9796 - auc: 0.9822 - acc: 0.9850\n",
      "Epoch 26/50\n",
      "7/7 - 0s - loss: 0.0573 - rec: 0.9800 - prec: 0.9800 - auc: 0.9937 - acc: 0.9900\n",
      "Epoch 27/50\n",
      "7/7 - 0s - loss: 0.0433 - rec: 1.0000 - prec: 0.9615 - auc: 0.9956 - acc: 0.9900\n",
      "Epoch 28/50\n",
      "7/7 - 0s - loss: 0.0561 - rec: 0.9800 - prec: 0.9608 - auc: 0.9948 - acc: 0.9850\n",
      "Epoch 29/50\n",
      "7/7 - 0s - loss: 0.0586 - rec: 0.9800 - prec: 0.9608 - auc: 0.9950 - acc: 0.9850\n",
      "Epoch 30/50\n",
      "7/7 - 0s - loss: 0.0399 - rec: 0.9800 - prec: 0.9800 - auc: 0.9956 - acc: 0.9900\n",
      "Epoch 31/50\n",
      "7/7 - 0s - loss: 0.0536 - rec: 0.9800 - prec: 0.9800 - auc: 0.9954 - acc: 0.9900\n",
      "Epoch 32/50\n",
      "7/7 - 0s - loss: 0.0501 - rec: 1.0000 - prec: 0.9434 - auc: 0.9960 - acc: 0.9850\n",
      "Epoch 33/50\n",
      "7/7 - 0s - loss: 0.1056 - rec: 0.9200 - prec: 0.9583 - auc: 0.9920 - acc: 0.9700\n",
      "Epoch 34/50\n",
      "7/7 - 0s - loss: 0.0600 - rec: 0.9600 - prec: 0.9796 - auc: 0.9949 - acc: 0.9850\n",
      "Epoch 35/50\n",
      "7/7 - 0s - loss: 0.0450 - rec: 1.0000 - prec: 0.9434 - auc: 0.9959 - acc: 0.9850\n",
      "Epoch 36/50\n",
      "7/7 - 0s - loss: 0.0743 - rec: 0.9600 - prec: 0.9600 - auc: 0.9946 - acc: 0.9800\n",
      "Epoch 37/50\n",
      "7/7 - 0s - loss: 0.0779 - rec: 0.9400 - prec: 0.9792 - auc: 0.9929 - acc: 0.9800\n",
      "Epoch 38/50\n",
      "7/7 - 0s - loss: 0.0897 - rec: 0.9600 - prec: 0.9600 - auc: 0.9894 - acc: 0.9800\n",
      "Epoch 39/50\n",
      "7/7 - 0s - loss: 0.0548 - rec: 0.9800 - prec: 0.9800 - auc: 0.9950 - acc: 0.9900\n",
      "Epoch 40/50\n",
      "7/7 - 0s - loss: 0.0967 - rec: 0.9600 - prec: 0.9231 - auc: 0.9923 - acc: 0.9700\n",
      "Epoch 41/50\n",
      "7/7 - 0s - loss: 0.0687 - rec: 0.9400 - prec: 0.9792 - auc: 0.9951 - acc: 0.9800\n",
      "Epoch 42/50\n",
      "7/7 - 0s - loss: 0.0888 - rec: 0.9800 - prec: 0.9245 - auc: 0.9906 - acc: 0.9750\n",
      "Epoch 43/50\n",
      "7/7 - 0s - loss: 0.0362 - rec: 1.0000 - prec: 0.9804 - auc: 0.9962 - acc: 0.9950\n",
      "Epoch 44/50\n",
      "7/7 - 0s - loss: 0.0461 - rec: 0.9600 - prec: 0.9796 - auc: 0.9959 - acc: 0.9850\n",
      "Epoch 45/50\n",
      "7/7 - 0s - loss: 0.0695 - rec: 0.9600 - prec: 0.9600 - auc: 0.9940 - acc: 0.9800\n",
      "Epoch 46/50\n",
      "7/7 - 0s - loss: 0.0685 - rec: 0.9400 - prec: 0.9592 - auc: 0.9945 - acc: 0.9750\n",
      "Epoch 47/50\n",
      "7/7 - 0s - loss: 0.0441 - rec: 1.0000 - prec: 0.9804 - auc: 0.9961 - acc: 0.9950\n",
      "Epoch 48/50\n",
      "7/7 - 0s - loss: 0.0322 - rec: 1.0000 - prec: 0.9804 - auc: 0.9959 - acc: 0.9950\n",
      "Epoch 49/50\n",
      "7/7 - 0s - loss: 0.0781 - rec: 0.9600 - prec: 0.9796 - auc: 0.9849 - acc: 0.9850\n",
      "Epoch 50/50\n",
      "7/7 - 0s - loss: 0.0586 - rec: 0.9400 - prec: 0.9792 - auc: 0.9957 - acc: 0.9800\n"
     ]
    },
    {
     "data": {
      "text/plain": [
       "<tensorflow.python.keras.callbacks.History at 0x209c40962c8>"
      ]
     },
     "execution_count": 22,
     "metadata": {},
     "output_type": "execute_result"
    }
   ],
   "source": [
    "model.fit(\n",
    "    train_dataset,\n",
    "    epochs=50,\n",
    "    verbose=2\n",
    ")"
   ]
  },
  {
   "cell_type": "code",
   "execution_count": 23,
   "metadata": {},
   "outputs": [
    {
     "name": "stdout",
     "output_type": "stream",
     "text": [
      "4/4 - 0s - loss: 0.0814 - rec: 1.0000 - prec: 0.7857 - auc: 1.0000 - acc: 0.9512\n"
     ]
    },
    {
     "data": {
      "text/plain": [
       "[0.08136299252510071,\n",
       " 1.0,\n",
       " 0.7857142686843872,\n",
       " 0.9999999403953552,\n",
       " 0.9512194991111755]"
      ]
     },
     "execution_count": 23,
     "metadata": {},
     "output_type": "execute_result"
    }
   ],
   "source": [
    "model.evaluate(validation_dataset, verbose=2)"
   ]
  },
  {
   "cell_type": "code",
   "execution_count": 24,
   "metadata": {},
   "outputs": [],
   "source": [
    "model.save('models/conv/Lada/{}.h5'.format(model.name))"
   ]
  },
  {
   "cell_type": "code",
   "execution_count": null,
   "metadata": {},
   "outputs": [],
   "source": [
    "model.evaluate(validation_dataset, verbose=2)"
   ]
  },
  {
   "cell_type": "code",
   "execution_count": 10,
   "metadata": {},
   "outputs": [],
   "source": [
    "tested_model = tf.keras.models.load_model('models/conv/Mira/MiraConvV2.2.h5')"
   ]
  },
  {
   "cell_type": "code",
   "execution_count": 11,
   "metadata": {},
   "outputs": [
    {
     "name": "stdout",
     "output_type": "stream",
     "text": [
      "Model: \"MiraConvV2.2\"\n",
      "_________________________________________________________________\n",
      "Layer (type)                 Output Shape              Param #   \n",
      "=================================================================\n",
      "reshape_10 (Reshape)         (None, 4410, 10)          0         \n",
      "_________________________________________________________________\n",
      "conv1d_21 (Conv1D)           (None, 441, 10)           1000      \n",
      "_________________________________________________________________\n",
      "dropout_17 (Dropout)         (None, 441, 10)           0         \n",
      "_________________________________________________________________\n",
      "re_lu_17 (ReLU)              (None, 441, 10)           0         \n",
      "_________________________________________________________________\n",
      "conv1d_22 (Conv1D)           (None, 21, 10)            2100      \n",
      "_________________________________________________________________\n",
      "dropout_18 (Dropout)         (None, 21, 10)            0         \n",
      "_________________________________________________________________\n",
      "re_lu_18 (ReLU)              (None, 21, 10)            0         \n",
      "_________________________________________________________________\n",
      "conv1d_23 (Conv1D)           (None, 1, 10)             2100      \n",
      "_________________________________________________________________\n",
      "dropout_19 (Dropout)         (None, 1, 10)             0         \n",
      "_________________________________________________________________\n",
      "re_lu_19 (ReLU)              (None, 1, 10)             0         \n",
      "_________________________________________________________________\n",
      "gru_4 (GRU)                  (None, 10)                660       \n",
      "_________________________________________________________________\n",
      "dense_4 (Dense)              (None, 1)                 11        \n",
      "=================================================================\n",
      "Total params: 5,871\n",
      "Trainable params: 5,871\n",
      "Non-trainable params: 0\n",
      "_________________________________________________________________\n"
     ]
    }
   ],
   "source": [
    "tested_model.summary()"
   ]
  },
  {
   "cell_type": "code",
   "execution_count": 12,
   "metadata": {},
   "outputs": [
    {
     "name": "stdout",
     "output_type": "stream",
     "text": [
      "157/157 [==============================] - 2s 13ms/step - loss: 0.0188 - rec: 1.0000 - prec: 0.9712 - auc: 0.9989 - acc: 0.9968\n"
     ]
    },
    {
     "data": {
      "text/plain": [
       "[0.018816368654370308,\n",
       " 1.0,\n",
       " 0.971222996711731,\n",
       " 0.9989398121833801,\n",
       " 0.9968000054359436]"
      ]
     },
     "execution_count": 12,
     "metadata": {},
     "output_type": "execute_result"
    }
   ],
   "source": [
    "tested_model.evaluate(train_dataset)"
   ]
  },
  {
   "cell_type": "code",
   "execution_count": 13,
   "metadata": {},
   "outputs": [
    {
     "name": "stdout",
     "output_type": "stream",
     "text": [
      "23/23 [==============================] - 0s 14ms/step - loss: 0.0161 - rec: 1.0000 - prec: 0.9730 - auc: 0.9996 - acc: 0.9965\n"
     ]
    },
    {
     "data": {
      "text/plain": [
       "[0.016146354377269745,\n",
       " 1.0,\n",
       " 0.9729729890823364,\n",
       " 0.9995825886726379,\n",
       " 0.9964563846588135]"
      ]
     },
     "execution_count": 13,
     "metadata": {},
     "output_type": "execute_result"
    }
   ],
   "source": [
    "tested_model.evaluate(validation_dataset)"
   ]
  },
  {
   "cell_type": "code",
   "execution_count": 24,
   "metadata": {},
   "outputs": [
    {
     "data": {
      "text/plain": [
       "(None, 44100, 1)"
      ]
     },
     "execution_count": 24,
     "metadata": {},
     "output_type": "execute_result"
    }
   ],
   "source": [
    "tested_model.input_shape"
   ]
  },
  {
   "cell_type": "code",
   "execution_count": null,
   "metadata": {},
   "outputs": [],
   "source": []
  }
 ],
 "metadata": {
  "kernelspec": {
   "display_name": "audiorec",
   "language": "python",
   "name": "audiorec"
  },
  "language_info": {
   "codemirror_mode": {
    "name": "ipython",
    "version": 3
   },
   "file_extension": ".py",
   "mimetype": "text/x-python",
   "name": "python",
   "nbconvert_exporter": "python",
   "pygments_lexer": "ipython3",
   "version": "3.7.9"
  }
 },
 "nbformat": 4,
 "nbformat_minor": 4
}
