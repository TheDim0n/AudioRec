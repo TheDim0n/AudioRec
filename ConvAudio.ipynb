{
 "cells": [
  {
   "cell_type": "code",
   "execution_count": 2,
   "metadata": {},
   "outputs": [
    {
     "data": {
      "text/plain": [
       "'/physical_device:GPU:0'"
      ]
     },
     "execution_count": 2,
     "metadata": {},
     "output_type": "execute_result"
    }
   ],
   "source": [
    "import tensorflow as tf\n",
    "import numpy as np\n",
    "import librosa as li\n",
    "import matplotlib.pyplot as plt\n",
    "import IPython.display as ipd\n",
    "import time\n",
    "from preprocessing import Audio\n",
    "\n",
    "%matplotlib inline\n",
    "GPU = tf.config.list_physical_devices('GPU')\n",
    "CPU = tf.config.list_physical_devices('CPU')\n",
    "DEVICE = GPU[0].name if GPU else CPU[0].name\n",
    "DEVICE"
   ]
  },
  {
   "cell_type": "code",
   "execution_count": 2,
   "metadata": {},
   "outputs": [],
   "source": [
    "def to_len(y, sec=1.0, sr=44100):\n",
    "    y, _ = li.effects.trim(y)\n",
    "    x = tf.keras.preprocessing.sequence.pad_sequences(\n",
    "        [y],\n",
    "        maxlen=int(sr * sec),\n",
    "        padding='post',\n",
    "        truncating='post',\n",
    "        dtype='float32'\n",
    "    )[0]\n",
    "    return x"
   ]
  },
  {
   "cell_type": "code",
   "execution_count": null,
   "metadata": {},
   "outputs": [],
   "source": [
    "def get_audio(path):\n",
    "    audio = Audio(path)\n",
    "    augmented = audio.augmented_source()\n",
    "    data = list(map(to_len, augmented))\n",
    "    labels = [audio.label] * len(augmented)\n",
    "    return [data, labels]"
   ]
  },
  {
   "cell_type": "code",
   "execution_count": 3,
   "metadata": {},
   "outputs": [],
   "source": [
    "def get_labeled_data(nums=1500):\n",
    "    FALSE_DATA = 'AudioData/0 Данные'\n",
    "    NOISE = 'AudioData/0 Шум'\n",
    "    JARVIS = 'AudioData/1 Джарвис'\n",
    "    DIO = 'AudioData/2 Дио'\n",
    "    ITAN = 'AudioData/3 Итан'\n",
    "    LADA = 'AudioData/4 Лада'\n",
    "    MIRA = 'AudioData/5 Мира'\n",
    "    \n",
    "    p = li.util.find_files(FALSE_DATA)\n",
    "    np.random.shuffle(p)\n",
    "    PATHS = li.util.find_files(JARVIS) + li.util.find_files(NOISE) + p[:nums]\n",
    "    \n",
    "    np.random.shuffle(PATHS)\n",
    "    \n",
    "    START_TIME = time.time()\n",
    "    \n",
    "    data = list()\n",
    "    labels = list()\n",
    "    \n",
    "    with ThreadPoolExecutor(8) as pool:\n",
    "        DATA = list(pool.map(get_audio, PATHS))\n",
    "    \n",
    "    for d, l in DATA:\n",
    "        data += d\n",
    "        labels += l\n",
    "\n",
    "    data = np.array(data)\n",
    "    labels = np.array(labels)\n",
    "    data = np.reshape(data, [*data.shape, 1])\n",
    "    labels = np.reshape(labels, [*labels.shape, 1])\n",
    "    print('Loading at {:.2f} seconds'.format(time.time()-START_TIME))\n",
    "    return (data, labels)"
   ]
  },
  {
   "cell_type": "code",
   "execution_count": 4,
   "metadata": {},
   "outputs": [
    {
     "name": "stdout",
     "output_type": "stream",
     "text": [
      "Loading 100.0% at 617.91 seconds\n"
     ]
    }
   ],
   "source": [
    "data, labels = get_labeled_data(5000)"
   ]
  },
  {
   "cell_type": "code",
   "execution_count": 5,
   "metadata": {},
   "outputs": [
    {
     "data": {
      "text/plain": [
       "((6609, 44100, 1), (6609, 1))"
      ]
     },
     "execution_count": 5,
     "metadata": {},
     "output_type": "execute_result"
    }
   ],
   "source": [
    "data.shape, labels.shape"
   ]
  },
  {
   "cell_type": "code",
   "execution_count": 6,
   "metadata": {},
   "outputs": [
    {
     "data": {
      "text/plain": [
       "(<tf.Tensor: shape=(), dtype=int32, numpy=954>,\n",
       " <tf.Tensor: shape=(), dtype=int32, numpy=504>)"
      ]
     },
     "execution_count": 6,
     "metadata": {},
     "output_type": "execute_result"
    }
   ],
   "source": [
    "TRAIN = 4000\n",
    "tf.math.reduce_sum(labels[:TRAIN]), tf.math.reduce_sum(labels[TRAIN:])"
   ]
  },
  {
   "cell_type": "code",
   "execution_count": 7,
   "metadata": {},
   "outputs": [
    {
     "name": "stdout",
     "output_type": "stream",
     "text": [
      "<BatchDataset shapes: ((None, 44100, 1), (None, 1)), types: (tf.float32, tf.int32)>\n",
      "<BatchDataset shapes: ((None, 44100, 1), (None, 1)), types: (tf.float32, tf.int32)>\n"
     ]
    }
   ],
   "source": [
    "train_dataset = tf.data.Dataset.from_tensor_slices((data[:TRAIN], labels[:TRAIN]))\n",
    "train_dataset = train_dataset.batch(64)\n",
    "print(train_dataset)\n",
    "\n",
    "validation_dataset = tf.data.Dataset.from_tensor_slices((data[TRAIN:], labels[TRAIN:]))\n",
    "validation_dataset = validation_dataset.batch(64)\n",
    "print(validation_dataset)"
   ]
  },
  {
   "cell_type": "code",
   "execution_count": 8,
   "metadata": {},
   "outputs": [
    {
     "name": "stdout",
     "output_type": "stream",
     "text": [
      "4032\n",
      "2624\n"
     ]
    }
   ],
   "source": [
    "print(len(train_dataset) * 64)\n",
    "print(len(validation_dataset) * 64)"
   ]
  },
  {
   "cell_type": "code",
   "execution_count": 9,
   "metadata": {},
   "outputs": [],
   "source": [
    "root_model = tf.keras.models.load_model('models/conv/RootModel-v1.1.h5')"
   ]
  },
  {
   "cell_type": "code",
   "execution_count": 10,
   "metadata": {},
   "outputs": [
    {
     "name": "stdout",
     "output_type": "stream",
     "text": [
      "Model: \"JarvisConvV1.0\"\n",
      "_________________________________________________________________\n",
      "Layer (type)                 Output Shape              Param #   \n",
      "=================================================================\n",
      "conv1d (Conv1D)              (None, 44100, 20)         200       \n",
      "_________________________________________________________________\n",
      "dropout_6 (Dropout)          (None, 44100, 20)         0         \n",
      "_________________________________________________________________\n",
      "re_lu (ReLU)                 (None, 44100, 20)         0         \n",
      "_________________________________________________________________\n",
      "max_pooling1d (MaxPooling1D) (None, 44100, 20)         0         \n",
      "_________________________________________________________________\n",
      "conv1d_1 (Conv1D)            (None, 100, 40)           352800    \n",
      "_________________________________________________________________\n",
      "dropout_7 (Dropout)          (None, 100, 40)           0         \n",
      "_________________________________________________________________\n",
      "re_lu_1 (ReLU)               (None, 100, 40)           0         \n",
      "_________________________________________________________________\n",
      "max_pooling1d_1 (MaxPooling1 (None, 20, 40)            0         \n",
      "_________________________________________________________________\n",
      "global_average_pooling1d (Gl (None, 20)                0         \n",
      "_________________________________________________________________\n",
      "reshape (Reshape)            (None, 1, 20)             0         \n",
      "_________________________________________________________________\n",
      "gru (GRU)                    (None, 20)                2520      \n",
      "_________________________________________________________________\n",
      "dense (Dense)                (None, 1)                 21        \n",
      "=================================================================\n",
      "Total params: 355,541\n",
      "Trainable params: 355,541\n",
      "Non-trainable params: 0\n",
      "_________________________________________________________________\n"
     ]
    }
   ],
   "source": [
    "model = tf.keras.models.clone_model(root_model)\n",
    "model._name = 'JarvisConvV1.0'\n",
    "\n",
    "model.summary()"
   ]
  },
  {
   "cell_type": "code",
   "execution_count": 11,
   "metadata": {},
   "outputs": [],
   "source": [
    "model.compile(\n",
    "    optimizer=tf.keras.optimizers.Adam(),\n",
    "    loss=tf.keras.losses.BinaryCrossentropy(),\n",
    "    metrics=[\n",
    "        tf.keras.metrics.Recall(name='recall'),\n",
    "        tf.keras.metrics.Precision(name='precision'),\n",
    "        tf.keras.metrics.AUC(name='auc'),\n",
    "        tf.keras.metrics.BinaryAccuracy(name='acc'),\n",
    "    ]\n",
    ")"
   ]
  },
  {
   "cell_type": "code",
   "execution_count": 12,
   "metadata": {},
   "outputs": [
    {
     "name": "stdout",
     "output_type": "stream",
     "text": [
      "Epoch 1/50\n",
      "63/63 - 10s - loss: 0.6654 - recall: 0.0566 - precision: 0.3293 - auc: 0.4732 - acc: 0.7475\n",
      "Epoch 2/50\n",
      "63/63 - 10s - loss: 0.6048 - recall: 0.0000e+00 - precision: 0.0000e+00 - auc: 0.4775 - acc: 0.7615\n",
      "Epoch 3/50\n",
      "63/63 - 10s - loss: 0.5666 - recall: 0.0000e+00 - precision: 0.0000e+00 - auc: 0.4711 - acc: 0.7615\n",
      "Epoch 4/50\n",
      "63/63 - 11s - loss: 0.5541 - recall: 0.0000e+00 - precision: 0.0000e+00 - auc: 0.4491 - acc: 0.7615\n",
      "Epoch 5/50\n",
      "63/63 - 11s - loss: 0.5513 - recall: 0.0000e+00 - precision: 0.0000e+00 - auc: 0.4304 - acc: 0.7615\n",
      "Epoch 6/50\n",
      "63/63 - 11s - loss: 0.3099 - recall: 0.3595 - precision: 0.8052 - auc: 0.9409 - acc: 0.8265\n",
      "Epoch 7/50\n",
      "63/63 - 11s - loss: 0.1185 - recall: 0.8637 - precision: 0.8692 - auc: 0.9864 - acc: 0.9365\n",
      "Epoch 8/50\n",
      "63/63 - 11s - loss: 0.0776 - recall: 0.9528 - precision: 0.9439 - auc: 0.9950 - acc: 0.9753\n",
      "Epoch 9/50\n",
      "63/63 - 11s - loss: 0.0576 - recall: 0.9759 - precision: 0.9628 - auc: 0.9967 - acc: 0.9852\n",
      "Epoch 10/50\n",
      "63/63 - 11s - loss: 0.0469 - recall: 0.9853 - precision: 0.9611 - auc: 0.9976 - acc: 0.9870\n",
      "Epoch 11/50\n",
      "63/63 - 11s - loss: 0.0397 - recall: 0.9916 - precision: 0.9693 - auc: 0.9982 - acc: 0.9905\n",
      "Epoch 12/50\n",
      "63/63 - 11s - loss: 0.0370 - recall: 0.9906 - precision: 0.9732 - auc: 0.9981 - acc: 0.9912\n",
      "Epoch 13/50\n",
      "63/63 - 11s - loss: 0.0319 - recall: 0.9937 - precision: 0.9783 - auc: 0.9988 - acc: 0.9933\n",
      "Epoch 14/50\n",
      "63/63 - 11s - loss: 0.0295 - recall: 0.9969 - precision: 0.9764 - auc: 0.9989 - acc: 0.9935\n",
      "Epoch 15/50\n",
      "63/63 - 11s - loss: 0.0278 - recall: 0.9969 - precision: 0.9804 - auc: 0.9989 - acc: 0.9945\n",
      "Epoch 16/50\n",
      "63/63 - 11s - loss: 0.0255 - recall: 0.9979 - precision: 0.9804 - auc: 0.9989 - acc: 0.9948\n",
      "Epoch 17/50\n",
      "63/63 - 11s - loss: 0.0240 - recall: 0.9990 - precision: 0.9835 - auc: 0.9991 - acc: 0.9958\n",
      "Epoch 18/50\n",
      "63/63 - 11s - loss: 0.0215 - recall: 0.9969 - precision: 0.9804 - auc: 0.9996 - acc: 0.9945\n",
      "Epoch 19/50\n",
      "63/63 - 11s - loss: 0.0222 - recall: 0.9969 - precision: 0.9814 - auc: 0.9989 - acc: 0.9948\n",
      "Epoch 20/50\n",
      "63/63 - 11s - loss: 0.0200 - recall: 0.9958 - precision: 0.9834 - auc: 0.9994 - acc: 0.9950\n",
      "Epoch 21/50\n",
      "63/63 - 11s - loss: 0.0194 - recall: 0.9990 - precision: 0.9825 - auc: 0.9995 - acc: 0.9955\n",
      "Epoch 22/50\n",
      "63/63 - 11s - loss: 0.0200 - recall: 0.9948 - precision: 0.9844 - auc: 0.9996 - acc: 0.9950\n",
      "Epoch 23/50\n",
      "63/63 - 11s - loss: 0.0164 - recall: 0.9990 - precision: 0.9825 - auc: 0.9997 - acc: 0.9955\n",
      "Epoch 24/50\n",
      "63/63 - 11s - loss: 0.0182 - recall: 0.9990 - precision: 0.9825 - auc: 0.9995 - acc: 0.9955\n",
      "Epoch 25/50\n",
      "63/63 - 11s - loss: 0.0150 - recall: 0.9979 - precision: 0.9814 - auc: 0.9998 - acc: 0.9950\n",
      "Epoch 26/50\n",
      "63/63 - 11s - loss: 0.0142 - recall: 0.9979 - precision: 0.9855 - auc: 0.9999 - acc: 0.9960\n",
      "Epoch 27/50\n",
      "63/63 - 11s - loss: 0.0136 - recall: 0.9990 - precision: 0.9855 - auc: 0.9998 - acc: 0.9962\n",
      "Epoch 28/50\n",
      "63/63 - 11s - loss: 0.0135 - recall: 0.9990 - precision: 0.9855 - auc: 0.9999 - acc: 0.9962\n",
      "Epoch 29/50\n",
      "63/63 - 11s - loss: 0.0117 - recall: 0.9979 - precision: 0.9896 - auc: 0.9999 - acc: 0.9970\n",
      "Epoch 30/50\n",
      "63/63 - 11s - loss: 0.0121 - recall: 0.9990 - precision: 0.9886 - auc: 0.9998 - acc: 0.9970\n",
      "Epoch 31/50\n",
      "63/63 - 11s - loss: 0.0120 - recall: 0.9969 - precision: 0.9896 - auc: 0.9999 - acc: 0.9967\n",
      "Epoch 32/50\n",
      "63/63 - 11s - loss: 0.0113 - recall: 0.9990 - precision: 0.9896 - auc: 0.9999 - acc: 0.9973\n",
      "Epoch 33/50\n",
      "63/63 - 11s - loss: 0.0118 - recall: 0.9990 - precision: 0.9906 - auc: 0.9999 - acc: 0.9975\n",
      "Epoch 34/50\n",
      "63/63 - 11s - loss: 0.0112 - recall: 0.9990 - precision: 0.9917 - auc: 0.9999 - acc: 0.9977\n",
      "Epoch 35/50\n",
      "63/63 - 11s - loss: 0.0102 - recall: 0.9990 - precision: 0.9917 - auc: 0.9999 - acc: 0.9977\n",
      "Epoch 36/50\n",
      "63/63 - 11s - loss: 0.0101 - recall: 0.9990 - precision: 0.9886 - auc: 0.9999 - acc: 0.9970\n",
      "Epoch 37/50\n",
      "63/63 - 11s - loss: 0.0098 - recall: 0.9958 - precision: 0.9906 - auc: 1.0000 - acc: 0.9967\n",
      "Epoch 38/50\n",
      "63/63 - 11s - loss: 0.0084 - recall: 1.0000 - precision: 0.9927 - auc: 1.0000 - acc: 0.9983\n",
      "Epoch 39/50\n",
      "63/63 - 11s - loss: 0.0080 - recall: 0.9990 - precision: 0.9937 - auc: 1.0000 - acc: 0.9983\n",
      "Epoch 40/50\n",
      "63/63 - 11s - loss: 0.0092 - recall: 0.9969 - precision: 0.9927 - auc: 0.9999 - acc: 0.9975\n",
      "Epoch 41/50\n",
      "63/63 - 11s - loss: 0.0069 - recall: 0.9990 - precision: 0.9917 - auc: 1.0000 - acc: 0.9977\n",
      "Epoch 42/50\n",
      "63/63 - 11s - loss: 0.0066 - recall: 0.9990 - precision: 0.9927 - auc: 1.0000 - acc: 0.9980\n",
      "Epoch 43/50\n",
      "63/63 - 11s - loss: 0.0058 - recall: 1.0000 - precision: 0.9969 - auc: 1.0000 - acc: 0.9992\n",
      "Epoch 44/50\n",
      "63/63 - 11s - loss: 0.0069 - recall: 0.9990 - precision: 0.9937 - auc: 1.0000 - acc: 0.9983\n",
      "Epoch 45/50\n",
      "63/63 - 11s - loss: 0.0081 - recall: 0.9969 - precision: 0.9937 - auc: 1.0000 - acc: 0.9977\n",
      "Epoch 46/50\n",
      "63/63 - 11s - loss: 0.0067 - recall: 1.0000 - precision: 0.9917 - auc: 1.0000 - acc: 0.9980\n",
      "Epoch 47/50\n",
      "63/63 - 11s - loss: 0.0065 - recall: 0.9979 - precision: 0.9937 - auc: 1.0000 - acc: 0.9980\n",
      "Epoch 48/50\n",
      "63/63 - 11s - loss: 0.0061 - recall: 0.9979 - precision: 0.9948 - auc: 1.0000 - acc: 0.9983\n",
      "Epoch 49/50\n",
      "63/63 - 11s - loss: 0.0074 - recall: 1.0000 - precision: 0.9948 - auc: 0.9999 - acc: 0.9987\n",
      "Epoch 50/50\n",
      "63/63 - 11s - loss: 0.0077 - recall: 0.9969 - precision: 0.9937 - auc: 1.0000 - acc: 0.9977\n"
     ]
    },
    {
     "data": {
      "text/plain": [
       "<tensorflow.python.keras.callbacks.History at 0x1f9bbcddc08>"
      ]
     },
     "execution_count": 12,
     "metadata": {},
     "output_type": "execute_result"
    }
   ],
   "source": [
    "model.fit(\n",
    "    train_dataset,\n",
    "    epochs=50,\n",
    "    verbose=2\n",
    ")"
   ]
  },
  {
   "cell_type": "code",
   "execution_count": 13,
   "metadata": {},
   "outputs": [
    {
     "name": "stdout",
     "output_type": "stream",
     "text": [
      "41/41 - 3s - loss: 0.0117 - recall: 0.9980 - precision: 0.9863 - auc: 0.9996 - acc: 0.9969\n"
     ]
    },
    {
     "data": {
      "text/plain": [
       "[0.01166579220443964,\n",
       " 0.9980158805847168,\n",
       " 0.9862744808197021,\n",
       " 0.9996418356895447,\n",
       " 0.9969336986541748]"
      ]
     },
     "execution_count": 13,
     "metadata": {},
     "output_type": "execute_result"
    }
   ],
   "source": [
    "model.evaluate(validation_dataset, verbose=2)"
   ]
  },
  {
   "cell_type": "code",
   "execution_count": 15,
   "metadata": {},
   "outputs": [],
   "source": [
    "model.save('models/conv/Jarvis/{}.h5'.format(model.name))"
   ]
  },
  {
   "cell_type": "code",
   "execution_count": 94,
   "metadata": {},
   "outputs": [
    {
     "name": "stdout",
     "output_type": "stream",
     "text": [
      "38/38 - 3s - loss: 0.0499 - recall: 0.9167 - precision: 0.9875 - auc: 0.9990 - acc: 0.9829\n"
     ]
    },
    {
     "data": {
      "text/plain": [
       "[0.049875952303409576,\n",
       " 0.9166666865348816,\n",
       " 0.9875311851501465,\n",
       " 0.9990178346633911,\n",
       " 0.9828667044639587]"
      ]
     },
     "execution_count": 94,
     "metadata": {},
     "output_type": "execute_result"
    }
   ],
   "source": [
    "model.evaluate(validation_dataset, verbose=2)"
   ]
  },
  {
   "cell_type": "code",
   "execution_count": 12,
   "metadata": {},
   "outputs": [],
   "source": [
    "a = np.array([])"
   ]
  },
  {
   "cell_type": "code",
   "execution_count": 14,
   "metadata": {},
   "outputs": [
    {
     "data": {
      "text/plain": [
       "array([1., 2., 3., 1., 2., 3.])"
      ]
     },
     "execution_count": 14,
     "metadata": {},
     "output_type": "execute_result"
    }
   ],
   "source": [
    "a = np.append(a, [1, 2, 3])\n",
    "a"
   ]
  },
  {
   "cell_type": "code",
   "execution_count": null,
   "metadata": {},
   "outputs": [],
   "source": []
  },
  {
   "cell_type": "code",
   "execution_count": null,
   "metadata": {},
   "outputs": [],
   "source": []
  }
 ],
 "metadata": {
  "kernelspec": {
   "display_name": "audiorec",
   "language": "python",
   "name": "audiorec"
  },
  "language_info": {
   "codemirror_mode": {
    "name": "ipython",
    "version": 3
   },
   "file_extension": ".py",
   "mimetype": "text/x-python",
   "name": "python",
   "nbconvert_exporter": "python",
   "pygments_lexer": "ipython3",
   "version": "3.7.9"
  }
 },
 "nbformat": 4,
 "nbformat_minor": 4
}
