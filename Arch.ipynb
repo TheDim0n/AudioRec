{
 "cells": [
  {
   "cell_type": "code",
   "execution_count": 1,
   "metadata": {},
   "outputs": [],
   "source": [
    "import tensorflow as tf"
   ]
  },
  {
   "cell_type": "code",
   "execution_count": 19,
   "metadata": {},
   "outputs": [
    {
     "name": "stdout",
     "output_type": "stream",
     "text": [
      "Model: \"RootModel-v2.0\"\n",
      "_________________________________________________________________\n",
      "Layer (type)                 Output Shape              Param #   \n",
      "=================================================================\n",
      "reshape_10 (Reshape)         (None, 4410, 10)          0         \n",
      "_________________________________________________________________\n",
      "conv1d_21 (Conv1D)           (None, 441, 10)           1000      \n",
      "_________________________________________________________________\n",
      "dropout_17 (Dropout)         (None, 441, 10)           0         \n",
      "_________________________________________________________________\n",
      "re_lu_17 (ReLU)              (None, 441, 10)           0         \n",
      "_________________________________________________________________\n",
      "conv1d_22 (Conv1D)           (None, 21, 10)            2100      \n",
      "_________________________________________________________________\n",
      "dropout_18 (Dropout)         (None, 21, 10)            0         \n",
      "_________________________________________________________________\n",
      "re_lu_18 (ReLU)              (None, 21, 10)            0         \n",
      "_________________________________________________________________\n",
      "conv1d_23 (Conv1D)           (None, 1, 10)             2100      \n",
      "_________________________________________________________________\n",
      "dropout_19 (Dropout)         (None, 1, 10)             0         \n",
      "_________________________________________________________________\n",
      "re_lu_19 (ReLU)              (None, 1, 10)             0         \n",
      "_________________________________________________________________\n",
      "gru_4 (GRU)                  (None, 10)                660       \n",
      "_________________________________________________________________\n",
      "dense_4 (Dense)              (None, 1)                 11        \n",
      "=================================================================\n",
      "Total params: 5,871\n",
      "Trainable params: 5,871\n",
      "Non-trainable params: 0\n",
      "_________________________________________________________________\n"
     ]
    }
   ],
   "source": [
    "model = tf.keras.Sequential([\n",
    "    tf.keras.layers.InputLayer((44100, 1)),\n",
    "    tf.keras.layers.Reshape((4410, 10)),\n",
    "    tf.keras.layers.Conv1D(filters=10, kernel_size=10, strides=10, padding='same', use_bias=False),\n",
    "    tf.keras.layers.Dropout(0.3),\n",
    "    tf.keras.layers.ReLU(),\n",
    "    tf.keras.layers.Conv1D(filters=10, kernel_size=21, strides=21, padding='same', use_bias=False),\n",
    "    tf.keras.layers.Dropout(0.3),\n",
    "    tf.keras.layers.ReLU(),\n",
    "    tf.keras.layers.Conv1D(filters=10, kernel_size=21, use_bias=False),\n",
    "    tf.keras.layers.Dropout(0.3),\n",
    "    tf.keras.layers.ReLU(),\n",
    "    tf.keras.layers.GRU(10),\n",
    "    tf.keras.layers.Dense(1, activation='sigmoid')\n",
    "], name='RootModel-v2.0')\n",
    "\n",
    "model.summary()"
   ]
  },
  {
   "cell_type": "code",
   "execution_count": 20,
   "metadata": {},
   "outputs": [],
   "source": [
    "model.compile(\n",
    "    optimizer=tf.keras.optimizers.Adam(),\n",
    "    loss=tf.keras.losses.BinaryCrossentropy(),\n",
    "    metrics=[\n",
    "        tf.keras.metrics.Recall(name='rec'),\n",
    "        tf.keras.metrics.Precision(name='prec'),\n",
    "        tf.keras.metrics.AUC(name='auc'),\n",
    "        tf.keras.metrics.BinaryAccuracy(name='acc'),\n",
    "    ]\n",
    ")"
   ]
  },
  {
   "cell_type": "code",
   "execution_count": 21,
   "metadata": {},
   "outputs": [],
   "source": [
    "model.save('models/conv/{}.h5'.format(model.name))"
   ]
  },
  {
   "cell_type": "code",
   "execution_count": null,
   "metadata": {},
   "outputs": [],
   "source": []
  }
 ],
 "metadata": {
  "kernelspec": {
   "display_name": "audiorec",
   "language": "python",
   "name": "audiorec"
  },
  "language_info": {
   "codemirror_mode": {
    "name": "ipython",
    "version": 3
   },
   "file_extension": ".py",
   "mimetype": "text/x-python",
   "name": "python",
   "nbconvert_exporter": "python",
   "pygments_lexer": "ipython3",
   "version": "3.7.9"
  }
 },
 "nbformat": 4,
 "nbformat_minor": 4
}
