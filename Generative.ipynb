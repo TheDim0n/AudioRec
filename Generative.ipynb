{
 "cells": [
  {
   "cell_type": "code",
   "execution_count": 1,
   "metadata": {},
   "outputs": [
    {
     "name": "stdout",
     "output_type": "stream",
     "text": [
      "TensorFlow version is  2.3.1\n"
     ]
    }
   ],
   "source": [
    "import tensorflow as tf\n",
    "import numpy as np\n",
    "import matplotlib.pyplot as plt\n",
    "import librosa as li\n",
    "import time\n",
    "\n",
    "from IPython import display\n",
    "from concurrent.futures import ThreadPoolExecutor\n",
    "\n",
    "%matplotlib inline\n",
    "\n",
    "print(\"TensorFlow version is \", tf.__version__)"
   ]
  },
  {
   "cell_type": "code",
   "execution_count": 3,
   "metadata": {},
   "outputs": [
    {
     "name": "stdout",
     "output_type": "stream",
     "text": [
      "70\n",
      "D:\\Work\\AudioRec\\AudioData\\5 Мира\\1 Мира\\1.wav\n",
      "D:\\Work\\AudioRec\\AudioData\\5 Мира\\1 Мира\\10.wav\n",
      "D:\\Work\\AudioRec\\AudioData\\5 Мира\\1 Мира\\11.wav\n",
      "D:\\Work\\AudioRec\\AudioData\\5 Мира\\1 Мира\\12.wav\n",
      "D:\\Work\\AudioRec\\AudioData\\5 Мира\\1 Мира\\13.wav\n",
      "D:\\Work\\AudioRec\\AudioData\\5 Мира\\1 Мира\\14.wav\n",
      "D:\\Work\\AudioRec\\AudioData\\5 Мира\\1 Мира\\15.wav\n",
      "D:\\Work\\AudioRec\\AudioData\\5 Мира\\1 Мира\\16.wav\n",
      "D:\\Work\\AudioRec\\AudioData\\5 Мира\\1 Мира\\17.wav\n",
      "D:\\Work\\AudioRec\\AudioData\\5 Мира\\1 Мира\\18.wav\n"
     ]
    }
   ],
   "source": [
    "PATH_TO_MIRA = 'AudioData/5 Мира'\n",
    "\n",
    "paths = li.util.find_files(PATH_TO_MIRA)\n",
    "print(len(paths))\n",
    "print('\\n'.join(paths[:10]))"
   ]
  },
  {
   "cell_type": "code",
   "execution_count": 4,
   "metadata": {},
   "outputs": [],
   "source": [
    "def get_audio(path, sr=16000):\n",
    "    example = li.load(path, sr=sr)[0]\n",
    "    if example.size < sr:\n",
    "        example = np.concatenate((example, np.zeros(sr-example.size)))\n",
    "    else:\n",
    "        example = example[:sr]\n",
    "    return example"
   ]
  },
  {
   "cell_type": "code",
   "execution_count": 5,
   "metadata": {},
   "outputs": [],
   "source": [
    "def get_data(paths, num_threads=4):\n",
    "    with ThreadPoolExecutor(num_threads) as pool:\n",
    "        data = list(pool.map(get_audio, paths))\n",
    "    return np.array(data)"
   ]
  },
  {
   "cell_type": "code",
   "execution_count": 6,
   "metadata": {},
   "outputs": [],
   "source": [
    "data = get_data(paths)"
   ]
  },
  {
   "cell_type": "code",
   "execution_count": 51,
   "metadata": {},
   "outputs": [
    {
     "data": {
      "text/plain": [
       "<BatchDataset shapes: (None, 16000), types: tf.float64>"
      ]
     },
     "execution_count": 51,
     "metadata": {},
     "output_type": "execute_result"
    }
   ],
   "source": [
    "BATCH_SIZE = 10\n",
    "\n",
    "train_dataset = tf.data.Dataset.from_tensor_slices(data).batch(BATCH_SIZE)\n",
    "train_dataset"
   ]
  },
  {
   "cell_type": "code",
   "execution_count": 7,
   "metadata": {},
   "outputs": [
    {
     "name": "stdout",
     "output_type": "stream",
     "text": [
      "Model: \"discriminator\"\n",
      "_________________________________________________________________\n",
      "Layer (type)                 Output Shape              Param #   \n",
      "=================================================================\n",
      "reshape (Reshape)            (None, 16000, 1)          0         \n",
      "_________________________________________________________________\n",
      "conv1d (Conv1D)              (None, 16000, 10)         40        \n",
      "_________________________________________________________________\n",
      "max_pooling1d (MaxPooling1D) (None, 4000, 10)          0         \n",
      "_________________________________________________________________\n",
      "conv1d_1 (Conv1D)            (None, 1000, 1)           40        \n",
      "_________________________________________________________________\n",
      "batch_normalization (BatchNo (None, 1000, 1)           4         \n",
      "_________________________________________________________________\n",
      "activation (Activation)      (None, 1000, 1)           0         \n",
      "_________________________________________________________________\n",
      "gru (GRU)                    (None, 100)               30900     \n",
      "_________________________________________________________________\n",
      "dense (Dense)                (None, 1)                 101       \n",
      "=================================================================\n",
      "Total params: 31,085\n",
      "Trainable params: 31,083\n",
      "Non-trainable params: 2\n",
      "_________________________________________________________________\n"
     ]
    }
   ],
   "source": [
    "discriminator = tf.keras.Sequential([\n",
    "    tf.keras.layers.InputLayer((16000)),\n",
    "    tf.keras.layers.Reshape((16000, 1)),\n",
    "    tf.keras.layers.Conv1D(filters=10, kernel_size=4, strides=1, padding='same', use_bias=False),\n",
    "    tf.keras.layers.MaxPool1D(4),\n",
    "    tf.keras.layers.Conv1D(filters=1, kernel_size=4, strides=4, use_bias=False),\n",
    "    tf.keras.layers.BatchNormalization(),\n",
    "    tf.keras.layers.Activation('tanh'),\n",
    "    tf.keras.layers.GRU(100),\n",
    "    tf.keras.layers.Dense(1)\n",
    "], name='discriminator')\n",
    "\n",
    "discriminator.summary()"
   ]
  },
  {
   "cell_type": "code",
   "execution_count": 38,
   "metadata": {},
   "outputs": [
    {
     "name": "stdout",
     "output_type": "stream",
     "text": [
      "Model: \"generator\"\n",
      "_________________________________________________________________\n",
      "Layer (type)                 Output Shape              Param #   \n",
      "=================================================================\n",
      "reshape_39 (Reshape)         (None, 100, 1)            0         \n",
      "_________________________________________________________________\n",
      "gru_21 (GRU)                 (None, 100)               30900     \n",
      "_________________________________________________________________\n",
      "reshape_40 (Reshape)         (None, 100, 1)            0         \n",
      "_________________________________________________________________\n",
      "conv1d_transpose_53 (Conv1DT (None, 400, 1)            4         \n",
      "_________________________________________________________________\n",
      "activation_28 (Activation)   (None, 400, 1)            0         \n",
      "_________________________________________________________________\n",
      "conv1d_transpose_54 (Conv1DT (None, 400, 10)           20        \n",
      "_________________________________________________________________\n",
      "p_re_lu_23 (PReLU)           (None, 400, 10)           4000      \n",
      "_________________________________________________________________\n",
      "conv1d_transpose_55 (Conv1DT (None, 1600, 20)          800       \n",
      "_________________________________________________________________\n",
      "p_re_lu_24 (PReLU)           (None, 1600, 20)          32000     \n",
      "_________________________________________________________________\n",
      "conv1d_transpose_56 (Conv1DT (None, 16000, 1)          200       \n",
      "_________________________________________________________________\n",
      "activation_29 (Activation)   (None, 16000, 1)          0         \n",
      "_________________________________________________________________\n",
      "reshape_41 (Reshape)         (None, 16000)             0         \n",
      "=================================================================\n",
      "Total params: 67,924\n",
      "Trainable params: 67,924\n",
      "Non-trainable params: 0\n",
      "_________________________________________________________________\n"
     ]
    }
   ],
   "source": [
    "generator = tf.keras.Sequential([\n",
    "    tf.keras.layers.InputLayer((100,)),\n",
    "    tf.keras.layers.Reshape((100, 1)),\n",
    "    tf.keras.layers.GRU(100),\n",
    "    tf.keras.layers.Reshape((100, 1)),\n",
    "    tf.keras.layers.Conv1DTranspose(filters=1, kernel_size=4, strides=4, use_bias=False),\n",
    "    tf.keras.layers.Activation('tanh'),\n",
    "    tf.keras.layers.Conv1DTranspose(filters=10, kernel_size=2, strides=1, padding='same', use_bias=False),\n",
    "    tf.keras.layers.PReLU(),\n",
    "    tf.keras.layers.Conv1DTranspose(filters=20, kernel_size=4, strides=4, padding='same', use_bias=False),\n",
    "    tf.keras.layers.PReLU(),\n",
    "    tf.keras.layers.Conv1DTranspose(filters=1, kernel_size=10, strides=10, padding='same', use_bias=False),\n",
    "    tf.keras.layers.Activation('tanh'),\n",
    "    tf.keras.layers.Reshape((16000,))\n",
    "], name='generator')\n",
    "\n",
    "generator.summary()"
   ]
  },
  {
   "cell_type": "code",
   "execution_count": 39,
   "metadata": {},
   "outputs": [],
   "source": [
    "latent_dim = 100\n",
    "noise = tf.random.normal((10, 100))"
   ]
  },
  {
   "cell_type": "code",
   "execution_count": 40,
   "metadata": {},
   "outputs": [
    {
     "data": {
      "text/plain": [
       "TensorShape([10, 16000])"
      ]
     },
     "execution_count": 40,
     "metadata": {},
     "output_type": "execute_result"
    }
   ],
   "source": [
    "test = generator(noise)\n",
    "test.shape"
   ]
  },
  {
   "cell_type": "code",
   "execution_count": 43,
   "metadata": {},
   "outputs": [],
   "source": [
    "loss = tf.keras.losses.BinaryCrossentropy(from_logits=True)\n",
    "\n",
    "def discriminator_loss(real_output, fake_output):\n",
    "    real_loss = loss(tf.ones_like(real_output), real_output)\n",
    "    fake_loss = loss(tf.zeros_like(fake_output), fake_output)\n",
    "    return real_loss + fake_loss\n",
    "\n",
    "def generator_loss(fake_output):\n",
    "    return loss(tf.ones_like(fake_output), fake_output)"
   ]
  },
  {
   "cell_type": "code",
   "execution_count": 44,
   "metadata": {},
   "outputs": [],
   "source": [
    "gen_optim = tf.keras.optimizers.Adam(1e-4)\n",
    "disc_optim = tf.keras.optimizers.Adam(1e-4)"
   ]
  },
  {
   "cell_type": "code",
   "execution_count": 71,
   "metadata": {},
   "outputs": [],
   "source": [
    "@tf.function()\n",
    "def train_step(train_batch):\n",
    "    noise = tf.random.normal([BATCH_SIZE, latent_dim])\n",
    "    \n",
    "    with tf.GradientTape() as g_tape, tf.GradientTape() as d_tape:\n",
    "        generated_audio = generator(noise, training=True)\n",
    "        \n",
    "        real_output = discriminator(train_batch, training=True)\n",
    "        fake_output = discriminator(generated_audio, training=True)\n",
    "        \n",
    "        gen_loss = generator_loss(fake_output)\n",
    "        disc_loss = discriminator_loss(real_output, fake_output)\n",
    "        \n",
    "    gen_grad = g_tape.gradient(gen_loss, generator.trainable_variables)\n",
    "    disc_grad = d_tape.gradient(disc_loss, discriminator.trainable_variables)\n",
    "    \n",
    "    gen_optim.apply_gradients(zip(gen_grad, generator.trainable_variables))\n",
    "    disc_optim.apply_gradients(zip(disc_grad, discriminator.trainable_variables))\n",
    "    return gen_loss, disc_loss"
   ]
  },
  {
   "cell_type": "code",
   "execution_count": 72,
   "metadata": {},
   "outputs": [],
   "source": [
    "def train(dataset, epochs):\n",
    "    start = time.time()\n",
    "    for i in range(epochs):\n",
    "        for train_batch in dataset:\n",
    "            gen_loss, disc_loss = train_step(train_batch)\n",
    "            \n",
    "        if (i+1) % 1 == 0:\n",
    "            print('Epoch {:4d}: gen_loss - {:.4f} | disc_loss - {:.4f} | {:.3f} seconds'.format(\n",
    "                i+1, gen_loss, disc_loss, time.time()-start))\n",
    "            start = time.time()"
   ]
  },
  {
   "cell_type": "code",
   "execution_count": 68,
   "metadata": {},
   "outputs": [
    {
     "name": "stdout",
     "output_type": "stream",
     "text": [
      "Epoch    1: gen_loss - 0.6991 | disc_loss - 1.3649 | 15.658 seconds\n",
      "Epoch    2: gen_loss - 0.7024 | disc_loss - 1.3579 | 15.614 seconds\n",
      "Epoch    3: gen_loss - 0.7040 | disc_loss - 1.3519 | 15.573 seconds\n",
      "Epoch    4: gen_loss - 0.7050 | disc_loss - 1.3454 | 15.511 seconds\n",
      "Epoch    5: gen_loss - 0.7097 | disc_loss - 1.3330 | 15.776 seconds\n",
      "Epoch    6: gen_loss - 0.7123 | disc_loss - 1.3196 | 15.575 seconds\n",
      "Epoch    7: gen_loss - 0.7231 | disc_loss - 1.2935 | 15.384 seconds\n",
      "Epoch    8: gen_loss - 0.7318 | disc_loss - 1.2582 | 15.490 seconds\n",
      "Epoch    9: gen_loss - 0.7503 | disc_loss - 1.1947 | 15.550 seconds\n",
      "Epoch   10: gen_loss - 0.7766 | disc_loss - 1.0382 | 15.398 seconds\n"
     ]
    }
   ],
   "source": [
    "train(train_dataset, 10)"
   ]
  },
  {
   "cell_type": "code",
   "execution_count": 69,
   "metadata": {},
   "outputs": [],
   "source": [
    "test = generator(noise)"
   ]
  },
  {
   "cell_type": "code",
   "execution_count": 70,
   "metadata": {},
   "outputs": [
    {
     "data": {
      "text/html": [
       "\n",
       "                <audio  controls=\"controls\" >\n",
       "                    <source src=\"data:audio/wav;base64,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\" type=\"audio/wav\" />\n",
       "                    Your browser does not support the audio element.\n",
       "                </audio>\n",
       "              "
      ],
      "text/plain": [
       "<IPython.lib.display.Audio object>"
      ]
     },
     "execution_count": 70,
     "metadata": {},
     "output_type": "execute_result"
    }
   ],
   "source": [
    "display.Audio(data=test[0], rate=16000)"
   ]
  },
  {
   "cell_type": "code",
   "execution_count": 66,
   "metadata": {},
   "outputs": [
    {
     "data": {
      "text/plain": [
       "<tf.Tensor: shape=(10, 1), dtype=float32, numpy=\n",
       "array([[0.49664816],\n",
       "       [0.49665135],\n",
       "       [0.49664924],\n",
       "       [0.49665028],\n",
       "       [0.49664935],\n",
       "       [0.49664864],\n",
       "       [0.49665016],\n",
       "       [0.49664935],\n",
       "       [0.49664822],\n",
       "       [0.49665093]], dtype=float32)>"
      ]
     },
     "execution_count": 66,
     "metadata": {},
     "output_type": "execute_result"
    }
   ],
   "source": [
    "tf.nn.sigmoid(discriminator(test))"
   ]
  },
  {
   "cell_type": "code",
   "execution_count": null,
   "metadata": {},
   "outputs": [],
   "source": []
  }
 ],
 "metadata": {
  "kernelspec": {
   "display_name": "audiorec",
   "language": "python",
   "name": "audiorec"
  },
  "language_info": {
   "codemirror_mode": {
    "name": "ipython",
    "version": 3
   },
   "file_extension": ".py",
   "mimetype": "text/x-python",
   "name": "python",
   "nbconvert_exporter": "python",
   "pygments_lexer": "ipython3",
   "version": "3.7.9"
  }
 },
 "nbformat": 4,
 "nbformat_minor": 4
}
