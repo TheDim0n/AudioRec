{
 "cells": [
  {
   "cell_type": "code",
   "execution_count": 1,
   "metadata": {},
   "outputs": [
    {
     "name": "stdout",
     "output_type": "stream",
     "text": [
      "TensorFlow version is  2.3.1\n"
     ]
    }
   ],
   "source": [
    "import tensorflow as tf\n",
    "import numpy as np\n",
    "import matplotlib.pyplot as plt\n",
    "import librosa as li\n",
    "import time\n",
    "\n",
    "from IPython import display\n",
    "from concurrent.futures import ThreadPoolExecutor\n",
    "\n",
    "%matplotlib inline\n",
    "\n",
    "print(\"TensorFlow version is \", tf.__version__)"
   ]
  },
  {
   "cell_type": "code",
   "execution_count": 3,
   "metadata": {},
   "outputs": [
    {
     "name": "stdout",
     "output_type": "stream",
     "text": [
      "70\n",
      "D:\\Work\\AudioRec\\AudioData\\5 Мира\\1 Мира\\1.wav\n",
      "D:\\Work\\AudioRec\\AudioData\\5 Мира\\1 Мира\\10.wav\n",
      "D:\\Work\\AudioRec\\AudioData\\5 Мира\\1 Мира\\11.wav\n",
      "D:\\Work\\AudioRec\\AudioData\\5 Мира\\1 Мира\\12.wav\n",
      "D:\\Work\\AudioRec\\AudioData\\5 Мира\\1 Мира\\13.wav\n",
      "D:\\Work\\AudioRec\\AudioData\\5 Мира\\1 Мира\\14.wav\n",
      "D:\\Work\\AudioRec\\AudioData\\5 Мира\\1 Мира\\15.wav\n",
      "D:\\Work\\AudioRec\\AudioData\\5 Мира\\1 Мира\\16.wav\n",
      "D:\\Work\\AudioRec\\AudioData\\5 Мира\\1 Мира\\17.wav\n",
      "D:\\Work\\AudioRec\\AudioData\\5 Мира\\1 Мира\\18.wav\n"
     ]
    }
   ],
   "source": [
    "PATH_TO_MIRA = 'AudioData/5 Мира'\n",
    "\n",
    "paths = li.util.find_files(PATH_TO_MIRA)\n",
    "print(len(paths))\n",
    "print('\\n'.join(paths[:10]))"
   ]
  },
  {
   "cell_type": "code",
   "execution_count": 4,
   "metadata": {},
   "outputs": [],
   "source": [
    "def get_audio(path, sr=16000):\n",
    "    example = li.load(path, sr=sr)[0]\n",
    "    if example.size < sr:\n",
    "        example = np.concatenate((example, np.zeros(sr-example.size)))\n",
    "    else:\n",
    "        example = example[:sr]\n",
    "    return example"
   ]
  },
  {
   "cell_type": "code",
   "execution_count": 5,
   "metadata": {},
   "outputs": [],
   "source": [
    "def get_data(paths, num_threads=4):\n",
    "    with ThreadPoolExecutor(num_threads) as pool:\n",
    "        data = list(pool.map(get_audio, paths))\n",
    "    return np.array(data)"
   ]
  },
  {
   "cell_type": "code",
   "execution_count": 6,
   "metadata": {},
   "outputs": [],
   "source": [
    "data = get_data(paths)"
   ]
  },
  {
   "cell_type": "code",
   "execution_count": 51,
   "metadata": {},
   "outputs": [
    {
     "data": {
      "text/plain": [
       "<BatchDataset shapes: (None, 16000), types: tf.float64>"
      ]
     },
     "execution_count": 51,
     "metadata": {},
     "output_type": "execute_result"
    }
   ],
   "source": [
    "BATCH_SIZE = 10\n",
    "\n",
    "train_dataset = tf.data.Dataset.from_tensor_slices(data).batch(BATCH_SIZE)\n",
    "train_dataset"
   ]
  },
  {
   "cell_type": "code",
   "execution_count": 7,
   "metadata": {},
   "outputs": [
    {
     "name": "stdout",
     "output_type": "stream",
     "text": [
      "Model: \"discriminator\"\n",
      "_________________________________________________________________\n",
      "Layer (type)                 Output Shape              Param #   \n",
      "=================================================================\n",
      "reshape (Reshape)            (None, 16000, 1)          0         \n",
      "_________________________________________________________________\n",
      "conv1d (Conv1D)              (None, 16000, 10)         40        \n",
      "_________________________________________________________________\n",
      "max_pooling1d (MaxPooling1D) (None, 4000, 10)          0         \n",
      "_________________________________________________________________\n",
      "conv1d_1 (Conv1D)            (None, 1000, 1)           40        \n",
      "_________________________________________________________________\n",
      "batch_normalization (BatchNo (None, 1000, 1)           4         \n",
      "_________________________________________________________________\n",
      "activation (Activation)      (None, 1000, 1)           0         \n",
      "_________________________________________________________________\n",
      "gru (GRU)                    (None, 100)               30900     \n",
      "_________________________________________________________________\n",
      "dense (Dense)                (None, 1)                 101       \n",
      "=================================================================\n",
      "Total params: 31,085\n",
      "Trainable params: 31,083\n",
      "Non-trainable params: 2\n",
      "_________________________________________________________________\n"
     ]
    }
   ],
   "source": [
    "discriminator = tf.keras.Sequential([\n",
    "    tf.keras.layers.InputLayer((16000)),\n",
    "    tf.keras.layers.Reshape((16000, 1)),\n",
    "    tf.keras.layers.Conv1D(filters=10, kernel_size=4, strides=1, padding='same', use_bias=False),\n",
    "    tf.keras.layers.MaxPool1D(4),\n",
    "    tf.keras.layers.Conv1D(filters=1, kernel_size=4, strides=4, use_bias=False),\n",
    "    tf.keras.layers.BatchNormalization(),\n",
    "    tf.keras.layers.Activation('tanh'),\n",
    "    tf.keras.layers.GRU(100),\n",
    "    tf.keras.layers.Dense(1)\n",
    "], name='discriminator')\n",
    "\n",
    "discriminator.summary()"
   ]
  },
  {
   "cell_type": "code",
   "execution_count": 38,
   "metadata": {},
   "outputs": [
    {
     "name": "stdout",
     "output_type": "stream",
     "text": [
      "Model: \"generator\"\n",
      "_________________________________________________________________\n",
      "Layer (type)                 Output Shape              Param #   \n",
      "=================================================================\n",
      "reshape_39 (Reshape)         (None, 100, 1)            0         \n",
      "_________________________________________________________________\n",
      "gru_21 (GRU)                 (None, 100)               30900     \n",
      "_________________________________________________________________\n",
      "reshape_40 (Reshape)         (None, 100, 1)            0         \n",
      "_________________________________________________________________\n",
      "conv1d_transpose_53 (Conv1DT (None, 400, 1)            4         \n",
      "_________________________________________________________________\n",
      "activation_28 (Activation)   (None, 400, 1)            0         \n",
      "_________________________________________________________________\n",
      "conv1d_transpose_54 (Conv1DT (None, 400, 10)           20        \n",
      "_________________________________________________________________\n",
      "p_re_lu_23 (PReLU)           (None, 400, 10)           4000      \n",
      "_________________________________________________________________\n",
      "conv1d_transpose_55 (Conv1DT (None, 1600, 20)          800       \n",
      "_________________________________________________________________\n",
      "p_re_lu_24 (PReLU)           (None, 1600, 20)          32000     \n",
      "_________________________________________________________________\n",
      "conv1d_transpose_56 (Conv1DT (None, 16000, 1)          200       \n",
      "_________________________________________________________________\n",
      "activation_29 (Activation)   (None, 16000, 1)          0         \n",
      "_________________________________________________________________\n",
      "reshape_41 (Reshape)         (None, 16000)             0         \n",
      "=================================================================\n",
      "Total params: 67,924\n",
      "Trainable params: 67,924\n",
      "Non-trainable params: 0\n",
      "_________________________________________________________________\n"
     ]
    }
   ],
   "source": [
    "generator = tf.keras.Sequential([\n",
    "    tf.keras.layers.InputLayer((100,)),\n",
    "    tf.keras.layers.Reshape((100, 1)),\n",
    "    tf.keras.layers.GRU(100),\n",
    "    tf.keras.layers.Reshape((100, 1)),\n",
    "    tf.keras.layers.Conv1DTranspose(filters=1, kernel_size=4, strides=4, use_bias=False),\n",
    "    tf.keras.layers.Activation('tanh'),\n",
    "    tf.keras.layers.Conv1DTranspose(filters=10, kernel_size=2, strides=1, padding='same', use_bias=False),\n",
    "    tf.keras.layers.PReLU(),\n",
    "    tf.keras.layers.Conv1DTranspose(filters=20, kernel_size=4, strides=4, padding='same', use_bias=False),\n",
    "    tf.keras.layers.PReLU(),\n",
    "    tf.keras.layers.Conv1DTranspose(filters=1, kernel_size=10, strides=10, padding='same', use_bias=False),\n",
    "    tf.keras.layers.Activation('tanh'),\n",
    "    tf.keras.layers.Reshape((16000,))\n",
    "], name='generator')\n",
    "\n",
    "generator.summary()"
   ]
  },
  {
   "cell_type": "code",
   "execution_count": 39,
   "metadata": {},
   "outputs": [],
   "source": [
    "latent_dim = 100\n",
    "noise = tf.random.normal((10, 100))"
   ]
  },
  {
   "cell_type": "code",
   "execution_count": 40,
   "metadata": {},
   "outputs": [
    {
     "data": {
      "text/plain": [
       "TensorShape([10, 16000])"
      ]
     },
     "execution_count": 40,
     "metadata": {},
     "output_type": "execute_result"
    }
   ],
   "source": [
    "test = generator(noise)\n",
    "test.shape"
   ]
  },
  {
   "cell_type": "code",
   "execution_count": 43,
   "metadata": {},
   "outputs": [],
   "source": [
    "loss = tf.keras.losses.BinaryCrossentropy(from_logits=True)\n",
    "\n",
    "def discriminator_loss(real_output, fake_output):\n",
    "    real_loss = loss(tf.ones_like(real_output), real_output)\n",
    "    fake_loss = loss(tf.zeros_like(fake_output), fake_output)\n",
    "    return real_loss + fake_loss\n",
    "\n",
    "def generator_loss(fake_output):\n",
    "    return loss(tf.ones_like(fake_output), fake_output)"
   ]
  },
  {
   "cell_type": "code",
   "execution_count": 44,
   "metadata": {},
   "outputs": [],
   "source": [
    "gen_optim = tf.keras.optimizers.Adam(1e-4)\n",
    "disc_optim = tf.keras.optimizers.Adam(1e-4)"
   ]
  },
  {
   "cell_type": "code",
   "execution_count": 52,
   "metadata": {},
   "outputs": [],
   "source": [
    "@tf.function()\n",
    "def train_step(images):\n",
    "    noise = tf.random.normal([BATCH_SIZE, latent_dim])\n",
    "    \n",
    "    with tf.GradientTape() as g_tape, tf.GradientTape() as d_tape:\n",
    "        generated_images = generator(noise, training=True)\n",
    "        \n",
    "        real_output = discriminator(images, training=True)\n",
    "        fake_output = discriminator(generated_images, training=True)\n",
    "        \n",
    "        gen_loss = generator_loss(fake_output)\n",
    "        disc_loss = discriminator_loss(real_output, fake_output)\n",
    "        \n",
    "    gen_grad = g_tape.gradient(gen_loss, generator.trainable_variables)\n",
    "    disc_grad = d_tape.gradient(disc_loss, discriminator.trainable_variables)\n",
    "    \n",
    "    gen_optim.apply_gradients(zip(gen_grad, generator.trainable_variables))\n",
    "    disc_optim.apply_gradients(zip(disc_grad, discriminator.trainable_variables))\n",
    "    return gen_loss, disc_loss"
   ]
  },
  {
   "cell_type": "code",
   "execution_count": 61,
   "metadata": {},
   "outputs": [],
   "source": [
    "def train(dataset, epochs):\n",
    "    start = time.time()\n",
    "    for i in range(epochs):\n",
    "        for train_batch in dataset:\n",
    "            gen_loss, disc_loss = train_step(train_batch)\n",
    "            \n",
    "        if (i+1) % 10 == 0:\n",
    "            print('Epoch {:4d}: gen_loss - {:.4f} | disc_loss - {:.4f} | {:.3f} seconds'.format(\n",
    "                i+1, gen_loss, disc_loss, time.time()-start))\n",
    "            start = time.time()"
   ]
  },
  {
   "cell_type": "code",
   "execution_count": 62,
   "metadata": {},
   "outputs": [
    {
     "name": "stdout",
     "output_type": "stream",
     "text": [
      "Epoch   10: gen_loss - 0.6986 | disc_loss - 1.3686 | 166.551 seconds\n"
     ]
    }
   ],
   "source": [
    "train(train_dataset, 10)"
   ]
  },
  {
   "cell_type": "code",
   "execution_count": 63,
   "metadata": {},
   "outputs": [],
   "source": [
    "test = generator(noise)"
   ]
  },
  {
   "cell_type": "code",
   "execution_count": 64,
   "metadata": {},
   "outputs": [
    {
     "data": {
      "text/html": [
       "\n",
       "                <audio  controls=\"controls\" >\n",
       "                    <source src=\"data:audio/wav;base64,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\" type=\"audio/wav\" />\n",
       "                    Your browser does not support the audio element.\n",
       "                </audio>\n",
       "              "
      ],
      "text/plain": [
       "<IPython.lib.display.Audio object>"
      ]
     },
     "execution_count": 64,
     "metadata": {},
     "output_type": "execute_result"
    }
   ],
   "source": [
    "display.Audio(data=test[0], rate=16000)"
   ]
  },
  {
   "cell_type": "code",
   "execution_count": 66,
   "metadata": {},
   "outputs": [
    {
     "data": {
      "text/plain": [
       "<tf.Tensor: shape=(10, 1), dtype=float32, numpy=\n",
       "array([[0.49664816],\n",
       "       [0.49665135],\n",
       "       [0.49664924],\n",
       "       [0.49665028],\n",
       "       [0.49664935],\n",
       "       [0.49664864],\n",
       "       [0.49665016],\n",
       "       [0.49664935],\n",
       "       [0.49664822],\n",
       "       [0.49665093]], dtype=float32)>"
      ]
     },
     "execution_count": 66,
     "metadata": {},
     "output_type": "execute_result"
    }
   ],
   "source": [
    "tf.nn.sigmoid(discriminator(test))"
   ]
  },
  {
   "cell_type": "code",
   "execution_count": null,
   "metadata": {},
   "outputs": [],
   "source": []
  }
 ],
 "metadata": {
  "kernelspec": {
   "display_name": "audiorec",
   "language": "python",
   "name": "audiorec"
  },
  "language_info": {
   "codemirror_mode": {
    "name": "ipython",
    "version": 3
   },
   "file_extension": ".py",
   "mimetype": "text/x-python",
   "name": "python",
   "nbconvert_exporter": "python",
   "pygments_lexer": "ipython3",
   "version": "3.7.9"
  }
 },
 "nbformat": 4,
 "nbformat_minor": 4
}
