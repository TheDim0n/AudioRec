{
 "cells": [
  {
   "cell_type": "code",
   "execution_count": 2,
   "metadata": {
    "colab": {},
    "colab_type": "code",
    "id": "qFi9FiWol1KT"
   },
   "outputs": [],
   "source": [
    "from preprocessing import Audio\n",
    "import tensorflow as tf\n",
    "import tf_train as tft\n",
    "import numpy as np\n",
    "import os\n",
    "import matplotlib.pyplot as plt\n",
    "import scipy as sp\n",
    "import librosa as li\n",
    "import librosa.display\n",
    "import IPython.display as ipd\n",
    "\n",
    "%matplotlib inline\n",
    "#tf.debugging.set_log_device_placement(True)"
   ]
  },
  {
   "cell_type": "code",
   "execution_count": 3,
   "metadata": {},
   "outputs": [
    {
     "output_type": "execute_result",
     "data": {
      "text/plain": "'/device:GPU:0'"
     },
     "metadata": {},
     "execution_count": 3
    }
   ],
   "source": [
    "GPU = tf.config.list_logical_devices('GPU')\n",
    "CPU = tf.config.list_logical_devices('CPU')\n",
    "DEVICE = GPU[0].name if GPU else CPU[0].name\n",
    "DEVICE"
   ]
  },
  {
   "cell_type": "markdown",
   "metadata": {},
   "source": [
    "<h1>Подготовка данных для обучения и тестирования</h1>"
   ]
  },
  {
   "cell_type": "code",
   "execution_count": 86,
   "metadata": {},
   "outputs": [],
   "source": [
    "def get_data():\n",
    "    def norm(x):\n",
    "        std = np.std(x ,ddof=1)\n",
    "        return (x - np.mean(x)) / std\n",
    "\n",
    "    PATH_0 = r'AudioData/0 Данные' # negative class\n",
    "    PATH_1 = r'AudioData/1 Итан' # positive class\n",
    "\n",
    "    PATHS = li.util.find_files(PATH_0)[:10000] + li.util.find_files(PATH_1)\n",
    "    N = len(PATHS)\n",
    "\n",
    "    np.random.shuffle(PATHS)\n",
    "\n",
    "    SOUNDS = []\n",
    "    for path in PATHS:\n",
    "        SOUNDS.append(Audio(path))\n",
    "        print('Loading {:.1f}%'.format(len(SOUNDS) / N * 100))\n",
    "        ipd.clear_output(wait=True)\n",
    "    DATA = []\n",
    "    LABELS = []\n",
    "\n",
    "    for sound in SOUNDS:\n",
    "        DATA.append(norm(sound.e_parts))\n",
    "        LABELS.append(sound.label)\n",
    "\n",
    "    return (np.array(DATA), np.array(LABELS))"
   ]
  },
  {
   "cell_type": "code",
   "execution_count": 87,
   "metadata": {
    "tags": []
   },
   "outputs": [
    {
     "output_type": "stream",
     "name": "stdout",
     "text": "Loading 100.0%\n"
    }
   ],
   "source": [
    "data, labels = get_data()"
   ]
  },
  {
   "cell_type": "code",
   "execution_count": 88,
   "metadata": {},
   "outputs": [],
   "source": [
    "test_data, test_labels = data[8000:], labels[8000:]\n",
    "data, labels = data[:8000], labels[:8000]"
   ]
  },
  {
   "cell_type": "code",
   "execution_count": 91,
   "metadata": {},
   "outputs": [
    {
     "output_type": "execute_result",
     "data": {
      "text/plain": "((8000, 20), (8000,))"
     },
     "metadata": {},
     "execution_count": 91
    }
   ],
   "source": [
    "data.shape, labels.shape"
   ]
  },
  {
   "cell_type": "code",
   "execution_count": 92,
   "metadata": {},
   "outputs": [
    {
     "output_type": "execute_result",
     "data": {
      "text/plain": "<BatchDataset shapes: ((None, 20), (None,)), types: (tf.float64, tf.int32)>"
     },
     "metadata": {},
     "execution_count": 92
    }
   ],
   "source": [
    "dataset = tf.data.Dataset.from_tensor_slices((data, labels))\n",
    "dataset = dataset.batch(1000)\n",
    "dataset"
   ]
  },
  {
   "cell_type": "code",
   "execution_count": 188,
   "metadata": {},
   "outputs": [],
   "source": [
    "data = np.reshape(data, (10070, 20))"
   ]
  },
  {
   "cell_type": "code",
   "execution_count": 211,
   "metadata": {},
   "outputs": [],
   "source": [
    "labels = np.reshape(labels, (10070,))"
   ]
  },
  {
   "cell_type": "code",
   "execution_count": 209,
   "metadata": {},
   "outputs": [
    {
     "data": {
      "text/plain": [
       "array([[0],\n",
       "       [0],\n",
       "       [0],\n",
       "       ...,\n",
       "       [0],\n",
       "       [0],\n",
       "       [0]])"
      ]
     },
     "execution_count": 209,
     "metadata": {},
     "output_type": "execute_result"
    }
   ],
   "source": [
    "labels"
   ]
  },
  {
   "cell_type": "markdown",
   "metadata": {},
   "source": [
    "<h1>Создание модели нейронной сети</h1>"
   ]
  },
  {
   "cell_type": "code",
   "execution_count": 98,
   "metadata": {
    "tags": []
   },
   "outputs": [
    {
     "output_type": "stream",
     "name": "stdout",
     "text": "Model: \"sequential_2\"\n_________________________________________________________________\nLayer (type)                 Output Shape              Param #   \n=================================================================\ndense_4 (Dense)              (None, 12)                252       \n_________________________________________________________________\ndense_5 (Dense)              (None, 2)                 26        \n=================================================================\nTotal params: 278\nTrainable params: 278\nNon-trainable params: 0\n_________________________________________________________________\n"
    }
   ],
   "source": [
    "model = tf.keras.Sequential([\n",
    "    tf.keras.layers.Dense(12, activation='tanh', kernel_regularizer=tf.keras.regularizers.l2(0.01),\n",
    "                          input_shape=(20,)),\n",
    "    tf.keras.layers.Dropout(0.5),\n",
    "    tf.keras.layers.Dense(2, activation='softmax')\n",
    "])\n",
    "\n",
    "model.summary()"
   ]
  },
  {
   "cell_type": "code",
   "execution_count": 204,
   "metadata": {},
   "outputs": [
    {
     "name": "stdout",
     "output_type": "stream",
     "text": [
      "[[9.9888867e-01 1.1113590e-03]\n",
      " [9.9939823e-01 6.0171861e-04]\n",
      " [9.7778863e-01 2.2211321e-02]\n",
      " [9.9991632e-01 8.3627907e-05]\n",
      " [9.5554715e-01 4.4452846e-02]\n",
      " [9.9310726e-01 6.8927575e-03]\n",
      " [9.9917573e-01 8.2422997e-04]\n",
      " [9.9672639e-01 3.2735907e-03]\n",
      " [9.9872667e-01 1.2733137e-03]\n",
      " [9.9947780e-01 5.2216806e-04]]\n",
      "[0 0 0 0 0 0 0 0 0 0]\n",
      "[0 0 0 0 0 0 0 0 0 0]\n"
     ]
    }
   ],
   "source": [
    "y_pred = model.predict(data)\n",
    "print(y_pred[:10])\n",
    "y_pred = np.argmax(y_pred, axis=-1)\n",
    "print(y_pred[:10])\n",
    "print(labels[:10])"
   ]
  },
  {
   "cell_type": "markdown",
   "metadata": {},
   "source": [
    "# Клонирование модели для transfer learning"
   ]
  },
  {
   "cell_type": "code",
   "execution_count": 9,
   "metadata": {},
   "outputs": [
    {
     "name": "stdout",
     "output_type": "stream",
     "text": [
      "Model: \"sequential\"\n",
      "_________________________________________________________________\n",
      "Layer (type)                 Output Shape              Param #   \n",
      "=================================================================\n",
      "dense (Dense)                (None, 12)                252       \n",
      "_________________________________________________________________\n",
      "dense_1 (Dense)              (None, 2)                 26        \n",
      "=================================================================\n",
      "Total params: 278\n",
      "Trainable params: 278\n",
      "Non-trainable params: 0\n",
      "_________________________________________________________________\n"
     ]
    }
   ],
   "source": [
    "model = tf.keras.models.load_model('Джарвис.h5')\n",
    "model = tf.keras.models.clone_model(model)\n",
    "model.compile(loss='sparse_categorical_crossentropy', optimizer='adam')\n",
    "model.summary()"
   ]
  },
  {
   "cell_type": "markdown",
   "metadata": {},
   "source": [
    "<h1>Обучение</h1>"
   ]
  },
  {
   "cell_type": "code",
   "execution_count": 100,
   "metadata": {
    "tags": []
   },
   "outputs": [
    {
     "output_type": "stream",
     "name": "stdout",
     "text": "Epoch 000 -- Loss(SparseCategoricalCrossentropy): 0.010, Recall: 0.6020088195800781, Precision: 0.8771690726280212\nEpoch 010 -- Loss(SparseCategoricalCrossentropy): 0.010, Recall: 0.6022405624389648, Precision: 0.8772915005683899\nEpoch 020 -- Loss(SparseCategoricalCrossentropy): 0.009, Recall: 0.6025061011314392, Precision: 0.8774194717407227\nEpoch 030 -- Loss(SparseCategoricalCrossentropy): 0.009, Recall: 0.6027705669403076, Precision: 0.8775469064712524\nEpoch 040 -- Loss(SparseCategoricalCrossentropy): 0.009, Recall: 0.6030722856521606, Precision: 0.8777099847793579\nEpoch 050 -- Loss(SparseCategoricalCrossentropy): 0.009, Recall: 0.6033728122711182, Precision: 0.8778918981552124\nEpoch 060 -- Loss(SparseCategoricalCrossentropy): 0.009, Recall: 0.6036720275878906, Precision: 0.87807297706604\nEpoch 070 -- Loss(SparseCategoricalCrossentropy): 0.009, Recall: 0.6039699912071228, Precision: 0.878253161907196\nEpoch 080 -- Loss(SparseCategoricalCrossentropy): 0.009, Recall: 0.6042667031288147, Precision: 0.8784324526786804\nEpoch 090 -- Loss(SparseCategoricalCrossentropy): 0.009, Recall: 0.6045621633529663, Precision: 0.8786109089851379\nEpoch 100 -- Loss(SparseCategoricalCrossentropy): 0.008, Recall: 0.6048563718795776, Precision: 0.8787885308265686\nEpoch 110 -- Loss(SparseCategoricalCrossentropy): 0.008, Recall: 0.6051493883132935, Precision: 0.8789653182029724\nEpoch 120 -- Loss(SparseCategoricalCrossentropy): 0.008, Recall: 0.605441153049469, Precision: 0.8791412711143494\nEpoch 130 -- Loss(SparseCategoricalCrossentropy): 0.008, Recall: 0.605731725692749, Precision: 0.8793163895606995\nEpoch 140 -- Loss(SparseCategoricalCrossentropy): 0.008, Recall: 0.6060512661933899, Precision: 0.8794959783554077\nEpoch 150 -- Loss(SparseCategoricalCrossentropy): 0.008, Recall: 0.6063769459724426, Precision: 0.8796759843826294\nEpoch 160 -- Loss(SparseCategoricalCrossentropy): 0.008, Recall: 0.606738805770874, Precision: 0.8798616528511047\nEpoch 170 -- Loss(SparseCategoricalCrossentropy): 0.008, Recall: 0.607099175453186, Precision: 0.8800464272499084\nEpoch 180 -- Loss(SparseCategoricalCrossentropy): 0.008, Recall: 0.6074580550193787, Precision: 0.8802303075790405\nEpoch 190 -- Loss(SparseCategoricalCrossentropy): 0.008, Recall: 0.6078154444694519, Precision: 0.8804418444633484\nEpoch 200 -- Loss(SparseCategoricalCrossentropy): 0.007, Recall: 0.6081714034080505, Precision: 0.8806712627410889\nEpoch 210 -- Loss(SparseCategoricalCrossentropy): 0.007, Recall: 0.6085258722305298, Precision: 0.8808996677398682\nEpoch 220 -- Loss(SparseCategoricalCrossentropy): 0.007, Recall: 0.6088789105415344, Precision: 0.8811269998550415\nEpoch 230 -- Loss(SparseCategoricalCrossentropy): 0.007, Recall: 0.6092305183410645, Precision: 0.8813531994819641\nEpoch 240 -- Loss(SparseCategoricalCrossentropy): 0.007, Recall: 0.6095807552337646, Precision: 0.8815783858299255\nEpoch 250 -- Loss(SparseCategoricalCrossentropy): 0.007, Recall: 0.6099295020103455, Precision: 0.881802499294281\nEpoch 260 -- Loss(SparseCategoricalCrossentropy): 0.007, Recall: 0.6103209257125854, Precision: 0.882033109664917\nEpoch 270 -- Loss(SparseCategoricalCrossentropy): 0.007, Recall: 0.6107401251792908, Precision: 0.8822675943374634\nEpoch 280 -- Loss(SparseCategoricalCrossentropy): 0.007, Recall: 0.611168622970581, Precision: 0.8825027346611023\nEpoch 290 -- Loss(SparseCategoricalCrossentropy): 0.007, Recall: 0.6116209626197815, Precision: 0.8827411532402039\nEpoch 300 -- Loss(SparseCategoricalCrossentropy): 0.007, Recall: 0.6120933890342712, Precision: 0.8829820156097412\nEpoch 310 -- Loss(SparseCategoricalCrossentropy): 0.007, Recall: 0.6125784516334534, Precision: 0.8832241296768188\nEpoch 320 -- Loss(SparseCategoricalCrossentropy): 0.007, Recall: 0.6130615472793579, Precision: 0.883465051651001\nEpoch 330 -- Loss(SparseCategoricalCrossentropy): 0.006, Recall: 0.6135427355766296, Precision: 0.8837047815322876\nEpoch 340 -- Loss(SparseCategoricalCrossentropy): 0.006, Recall: 0.6140220165252686, Precision: 0.8839433193206787\nEpoch 350 -- Loss(SparseCategoricalCrossentropy): 0.006, Recall: 0.6144993901252747, Precision: 0.8841806054115295\nEpoch 360 -- Loss(SparseCategoricalCrossentropy): 0.006, Recall: 0.614974856376648, Precision: 0.8844167590141296\nEpoch 370 -- Loss(SparseCategoricalCrossentropy): 0.006, Recall: 0.6154736280441284, Precision: 0.8846558928489685\nEpoch 380 -- Loss(SparseCategoricalCrossentropy): 0.006, Recall: 0.6159812211990356, Precision: 0.8848956227302551\nEpoch 390 -- Loss(SparseCategoricalCrossentropy): 0.006, Recall: 0.6164867877960205, Precision: 0.8851341605186462\nEpoch 400 -- Loss(SparseCategoricalCrossentropy): 0.006, Recall: 0.616990327835083, Precision: 0.8853715062141418\nEpoch 410 -- Loss(SparseCategoricalCrossentropy): 0.006, Recall: 0.6174919605255127, Precision: 0.8856076002120972\nEpoch 420 -- Loss(SparseCategoricalCrossentropy): 0.006, Recall: 0.61799156665802, Precision: 0.8858425617218018\nEpoch 430 -- Loss(SparseCategoricalCrossentropy): 0.006, Recall: 0.6184892654418945, Precision: 0.8860763311386108\nEpoch 440 -- Loss(SparseCategoricalCrossentropy): 0.006, Recall: 0.6189849972724915, Precision: 0.8863089680671692\nEpoch 450 -- Loss(SparseCategoricalCrossentropy): 0.006, Recall: 0.6194788217544556, Precision: 0.886540412902832\nEpoch 460 -- Loss(SparseCategoricalCrossentropy): 0.006, Recall: 0.6199706792831421, Precision: 0.8867707252502441\nEpoch 470 -- Loss(SparseCategoricalCrossentropy): 0.006, Recall: 0.6204606890678406, Precision: 0.8869999051094055\nEpoch 480 -- Loss(SparseCategoricalCrossentropy): 0.006, Recall: 0.6209487915039062, Precision: 0.8872279524803162\nEpoch 490 -- Loss(SparseCategoricalCrossentropy): 0.005, Recall: 0.6214489936828613, Precision: 0.8874571323394775\nEpoch 500 -- Loss(SparseCategoricalCrossentropy): 0.005, Recall: 0.6219683289527893, Precision: 0.8876885771751404\nEpoch 510 -- Loss(SparseCategoricalCrossentropy): 0.005, Recall: 0.6224856972694397, Precision: 0.8879188299179077\nEpoch 520 -- Loss(SparseCategoricalCrossentropy): 0.005, Recall: 0.6230010390281677, Precision: 0.8881479501724243\nEpoch 530 -- Loss(SparseCategoricalCrossentropy): 0.005, Recall: 0.6235144734382629, Precision: 0.8883759379386902\nEpoch 540 -- Loss(SparseCategoricalCrossentropy): 0.005, Recall: 0.6240258812904358, Precision: 0.8886027932167053\nEpoch 550 -- Loss(SparseCategoricalCrossentropy): 0.005, Recall: 0.624535322189331, Precision: 0.8888285160064697\nEpoch 560 -- Loss(SparseCategoricalCrossentropy): 0.005, Recall: 0.6250428557395935, Precision: 0.8890531659126282\nEpoch 570 -- Loss(SparseCategoricalCrossentropy): 0.005, Recall: 0.6255484819412231, Precision: 0.8892766833305359\nEpoch 580 -- Loss(SparseCategoricalCrossentropy): 0.005, Recall: 0.6260521411895752, Precision: 0.8894990682601929\nEpoch 590 -- Loss(SparseCategoricalCrossentropy): 0.005, Recall: 0.6265538930892944, Precision: 0.8897204399108887\nEpoch 600 -- Loss(SparseCategoricalCrossentropy): 0.005, Recall: 0.6270537972450256, Precision: 0.8899406790733337\nEpoch 610 -- Loss(SparseCategoricalCrossentropy): 0.005, Recall: 0.627551794052124, Precision: 0.8901598453521729\nEpoch 620 -- Loss(SparseCategoricalCrossentropy): 0.005, Recall: 0.6280478835105896, Precision: 0.890377938747406\nEpoch 630 -- Loss(SparseCategoricalCrossentropy): 0.005, Recall: 0.6285421252250671, Precision: 0.890595018863678\nEpoch 640 -- Loss(SparseCategoricalCrossentropy): 0.005, Recall: 0.6290345191955566, Precision: 0.890811026096344\nEpoch 650 -- Loss(SparseCategoricalCrossentropy): 0.005, Recall: 0.6295250654220581, Precision: 0.8910260200500488\nEpoch 660 -- Loss(SparseCategoricalCrossentropy): 0.004, Recall: 0.6300137639045715, Precision: 0.8912399411201477\nEpoch 670 -- Loss(SparseCategoricalCrossentropy): 0.004, Recall: 0.6305006742477417, Precision: 0.8914528489112854\nEpoch 680 -- Loss(SparseCategoricalCrossentropy): 0.004, Recall: 0.6309857368469238, Precision: 0.8916647434234619\nEpoch 690 -- Loss(SparseCategoricalCrossentropy): 0.004, Recall: 0.6314994096755981, Precision: 0.8918802738189697\nEpoch 700 -- Loss(SparseCategoricalCrossentropy): 0.004, Recall: 0.6320483088493347, Precision: 0.8921003937721252\nEpoch 710 -- Loss(SparseCategoricalCrossentropy): 0.004, Recall: 0.6325951814651489, Precision: 0.8923194408416748\nEpoch 720 -- Loss(SparseCategoricalCrossentropy): 0.004, Recall: 0.6331400275230408, Precision: 0.8925374150276184\nEpoch 730 -- Loss(SparseCategoricalCrossentropy): 0.004, Recall: 0.6336828470230103, Precision: 0.892754316329956\nEpoch 740 -- Loss(SparseCategoricalCrossentropy): 0.004, Recall: 0.6342236995697021, Precision: 0.8929701447486877\nEpoch 750 -- Loss(SparseCategoricalCrossentropy): 0.004, Recall: 0.6347625255584717, Precision: 0.8931849002838135\nEpoch 760 -- Loss(SparseCategoricalCrossentropy): 0.004, Recall: 0.6352994441986084, Precision: 0.893398642539978\nEpoch 770 -- Loss(SparseCategoricalCrossentropy): 0.004, Recall: 0.6358343362808228, Precision: 0.8936113715171814\nEpoch 780 -- Loss(SparseCategoricalCrossentropy): 0.004, Recall: 0.6363672614097595, Precision: 0.8938230276107788\nEpoch 790 -- Loss(SparseCategoricalCrossentropy): 0.004, Recall: 0.6368982791900635, Precision: 0.8940336108207703\nEpoch 800 -- Loss(SparseCategoricalCrossentropy): 0.004, Recall: 0.6374273300170898, Precision: 0.8942432403564453\nEpoch 810 -- Loss(SparseCategoricalCrossentropy): 0.004, Recall: 0.6379544734954834, Precision: 0.8944891691207886\nEpoch 820 -- Loss(SparseCategoricalCrossentropy): 0.004, Recall: 0.6384797096252441, Precision: 0.8947380781173706\nEpoch 830 -- Loss(SparseCategoricalCrossentropy): 0.004, Recall: 0.6390030384063721, Precision: 0.8949857950210571\nEpoch 840 -- Loss(SparseCategoricalCrossentropy): 0.004, Recall: 0.6395244598388672, Precision: 0.8952323794364929\nEpoch 850 -- Loss(SparseCategoricalCrossentropy): 0.003, Recall: 0.6400439739227295, Precision: 0.8954777717590332\nEpoch 860 -- Loss(SparseCategoricalCrossentropy): 0.003, Recall: 0.6405616402626038, Precision: 0.8957220315933228\nEpoch 870 -- Loss(SparseCategoricalCrossentropy): 0.003, Recall: 0.64107745885849, Precision: 0.8959651589393616\nEpoch 880 -- Loss(SparseCategoricalCrossentropy): 0.003, Recall: 0.6415914297103882, Precision: 0.8962071537971497\nEpoch 890 -- Loss(SparseCategoricalCrossentropy): 0.003, Recall: 0.6421035528182983, Precision: 0.896448016166687\nEpoch 900 -- Loss(SparseCategoricalCrossentropy): 0.003, Recall: 0.6426138281822205, Precision: 0.8966877460479736\nEpoch 910 -- Loss(SparseCategoricalCrossentropy): 0.003, Recall: 0.6431223154067993, Precision: 0.8969264030456543\nEpoch 920 -- Loss(SparseCategoricalCrossentropy): 0.003, Recall: 0.6436289548873901, Precision: 0.8971639275550842\nEpoch 930 -- Loss(SparseCategoricalCrossentropy): 0.003, Recall: 0.6441338062286377, Precision: 0.8974003791809082\nEpoch 940 -- Loss(SparseCategoricalCrossentropy): 0.003, Recall: 0.6446368098258972, Precision: 0.8976357579231262\nEpoch 950 -- Loss(SparseCategoricalCrossentropy): 0.003, Recall: 0.6451380848884583, Precision: 0.8978700637817383\nEpoch 960 -- Loss(SparseCategoricalCrossentropy): 0.003, Recall: 0.645637571811676, Precision: 0.8981032967567444\nEpoch 970 -- Loss(SparseCategoricalCrossentropy): 0.003, Recall: 0.6461353302001953, Precision: 0.8983354568481445\nEpoch 980 -- Loss(SparseCategoricalCrossentropy): 0.003, Recall: 0.6466344594955444, Precision: 0.8985670208930969\nEpoch 990 -- Loss(SparseCategoricalCrossentropy): 0.003, Recall: 0.6471607089042664, Precision: 0.8988015651702881\nEpoch 1000 -- Loss(SparseCategoricalCrossentropy): 0.003, Recall: 0.6476851105690002, Precision: 0.8990350365638733\n"
    }
   ],
   "source": [
    "tft.train(\n",
    "    train_dataset=dataset,\n",
    "    model=model,\n",
    "    epochs=1000,\n",
    "    loss=tf.keras.losses.SparseCategoricalCrossentropy()\n",
    ")"
   ]
  },
  {
   "cell_type": "code",
   "execution_count": 18,
   "metadata": {},
   "outputs": [],
   "source": [
    "model.save('Mira-v1.0.h5')"
   ]
  },
  {
   "cell_type": "code",
   "execution_count": 101,
   "metadata": {},
   "outputs": [],
   "source": [
    "predictions = tft.predict_classes(model=model, features=test_data)"
   ]
  },
  {
   "cell_type": "code",
   "execution_count": 102,
   "metadata": {
    "tags": []
   },
   "outputs": [
    {
     "output_type": "stream",
     "name": "stdout",
     "text": "2046 25.575\n"
    }
   ],
   "source": [
    "n = 0\n",
    "\n",
    "for i in range(len(test_labels)):\n",
    "    n += int(test_labels[i] == predictions[i])\n",
    "\n",
    "print(n, n / len(labels) * 100)"
   ]
  },
  {
   "cell_type": "code",
   "execution_count": 31,
   "metadata": {},
   "outputs": [
    {
     "output_type": "execute_result",
     "data": {
      "text/plain": "(<tf.Tensor: shape=(10,), dtype=int64, numpy=array([0, 1, 0, 0, 0, 1, 0, 0, 0, 0], dtype=int64)>,\n array([0, 1, 0, 0, 0, 1, 0, 0, 0, 0]))"
     },
     "metadata": {},
     "execution_count": 31
    }
   ],
   "source": [
    "predictions[:10], labels[:10]"
   ]
  },
  {
   "cell_type": "code",
   "execution_count": 39,
   "metadata": {},
   "outputs": [
    {
     "output_type": "execute_result",
     "data": {
      "text/plain": "array([[9.9999857e-01, 1.4108425e-06],\n       [3.2748736e-05, 9.9996722e-01]], dtype=float32)"
     },
     "metadata": {},
     "execution_count": 39
    }
   ],
   "source": [
    "model.predict(data[:2])"
   ]
  },
  {
   "cell_type": "code",
   "execution_count": 40,
   "metadata": {},
   "outputs": [
    {
     "output_type": "execute_result",
     "data": {
      "text/plain": "array([0, 1])"
     },
     "metadata": {},
     "execution_count": 40
    }
   ],
   "source": [
    "labels[:2]"
   ]
  },
  {
   "cell_type": "code",
   "execution_count": 69,
   "metadata": {},
   "outputs": [],
   "source": [
    "filename = 'test.tfrecord'\n",
    "writer_data = tf.data.experimental.TFRecordWriter(\"datasets\\Mira\\data.tfrecord\")\n",
    "writer_labels = tf.data.experimental.TFRecordWriter(\"datasets\\Mira\\labels.tfrecord\")\n",
    "test_data = tf.data.Dataset.from_tensor_slices(data)\n",
    "test_labels = tf.data.Dataset.from_tensor_slices(labels)\n",
    "test_data = test_data.map(lambda x: str(x))\n",
    "test_labels = test_labels.map(lambda x: str(x))\n",
    "writer_data.write(test_data)\n",
    "writer_labels.write(test_labels)"
   ]
  },
  {
   "cell_type": "code",
   "execution_count": 75,
   "metadata": {},
   "outputs": [],
   "source": [
    "loaded_dataset = tf.data.TFRecordDataset([\"datasets\\Mira\\labels.tfrecord\"])"
   ]
  },
  {
   "cell_type": "code",
   "execution_count": 76,
   "metadata": {
    "tags": []
   },
   "outputs": [
    {
     "output_type": "stream",
     "name": "stdout",
     "text": "tf.Tensor(b'Tensor(\"args_0:0\", shape=(), dtype=int32)', shape=(), dtype=string)\n"
    }
   ],
   "source": [
    "for d in loaded_dataset.take(1):\n",
    "    print(d)"
   ]
  },
  {
   "cell_type": "code",
   "execution_count": 77,
   "metadata": {},
   "outputs": [
    {
     "output_type": "execute_result",
     "data": {
      "text/plain": "<TFRecordDatasetV2 shapes: (), types: tf.string>"
     },
     "metadata": {},
     "execution_count": 77
    }
   ],
   "source": [
    "loaded_dataset"
   ]
  },
  {
   "cell_type": "code",
   "execution_count": 83,
   "metadata": {
    "tags": []
   },
   "outputs": [
    {
     "output_type": "stream",
     "name": "stdout",
     "text": "b'Tensor(\"args_0:0\", shape=(20,), dtype=float64)'\n"
    }
   ],
   "source": [
    "for d in test_data.take(1):\n",
    "    print(d.numpy())"
   ]
  },
  {
   "cell_type": "code",
   "execution_count": 84,
   "metadata": {},
   "outputs": [
    {
     "output_type": "execute_result",
     "data": {
      "text/plain": "array([-1.67636868, -1.63167534, -1.07627448, -0.92766935, -0.09969852,\n       -0.79751682, -0.47027632,  1.5961253 ,  1.63171389,  1.30207031,\n        0.55290537,  1.14207755, -0.64697944, -0.13645845, -0.15388176,\n        0.74642466,  0.9525158 ,  0.10332707, -0.43498627,  0.02462547])"
     },
     "metadata": {},
     "execution_count": 84
    }
   ],
   "source": [
    "data[0]"
   ]
  },
  {
   "cell_type": "code",
   "execution_count": null,
   "metadata": {},
   "outputs": [],
   "source": []
  }
 ],
 "metadata": {
  "colab": {
   "collapsed_sections": [],
   "name": "Untitled0.ipynb",
   "provenance": []
  },
  "kernelspec": {
   "display_name": "Python 3.8.3 64-bit ('venv': venv)",
   "language": "python",
   "name": "python_defaultSpec_1595177196542"
  },
  "language_info": {
   "codemirror_mode": {
    "name": "ipython",
    "version": 3
   },
   "file_extension": ".py",
   "mimetype": "text/x-python",
   "name": "python",
   "nbconvert_exporter": "python",
   "pygments_lexer": "ipython3",
   "version": "3.8.3-final"
  }
 },
 "nbformat": 4,
 "nbformat_minor": 4
}