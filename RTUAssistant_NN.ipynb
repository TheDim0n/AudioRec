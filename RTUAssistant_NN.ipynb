{
 "cells": [
  {
   "cell_type": "code",
   "execution_count": 2,
   "metadata": {
    "colab": {},
    "colab_type": "code",
    "id": "qFi9FiWol1KT"
   },
   "outputs": [],
   "source": [
    "from preprocessing import Audio\n",
    "import tensorflow as tf\n",
    "import tf_train as tft\n",
    "import numpy as np\n",
    "import os\n",
    "import matplotlib.pyplot as plt\n",
    "import scipy as sp\n",
    "import librosa as li\n",
    "import librosa.display\n",
    "import IPython.display as ipd\n",
    "\n",
    "%matplotlib inline\n",
    "#tf.debugging.set_log_device_placement(True)"
   ]
  },
  {
   "cell_type": "code",
   "execution_count": 3,
   "metadata": {},
   "outputs": [
    {
     "output_type": "execute_result",
     "data": {
      "text/plain": "'/physical_device:GPU:0'"
     },
     "metadata": {},
     "execution_count": 3
    }
   ],
   "source": [
    "GPU = tf.config.list_physical_devices('GPU')\n",
    "CPU = tf.config.list_physical_devices('CPU')\n",
    "DEVICE = GPU[0].name if GPU else CPU[0].name\n",
    "DEVICE"
   ]
  },
  {
   "cell_type": "markdown",
   "metadata": {},
   "source": [
    "<h1>Подготовка данных для обучения и тестирования</h1>"
   ]
  },
  {
   "cell_type": "code",
   "execution_count": 12,
   "metadata": {},
   "outputs": [],
   "source": [
    "def get_data():\n",
    "    def norm(x):\n",
    "        std = np.std(x ,ddof=1)\n",
    "        return (x - np.mean(x)) / std\n",
    "\n",
    "    PATH_0 = r'AudioData/0 Данные' # negative class\n",
    "    PATH_1 = r'AudioData/1 Джарвис' # positive class\n",
    "\n",
    "    PATHS = li.util.find_files(PATH_0)[:1000] + li.util.find_files(PATH_1)\n",
    "    N = len(PATHS)\n",
    "\n",
    "    np.random.shuffle(PATHS)\n",
    "\n",
    "    SOUNDS = []\n",
    "    for path in PATHS:\n",
    "        SOUNDS.append(Audio(path))\n",
    "        print('Loading {:.1f}%'.format(len(SOUNDS) / N * 100))\n",
    "        ipd.clear_output(wait=True)\n",
    "    DATA = []\n",
    "    LABELS = []\n",
    "\n",
    "    for sound in SOUNDS:\n",
    "        DATA.append(norm(sound.e_parts))\n",
    "        LABELS.append(sound.label)\n",
    "\n",
    "    return (np.array(DATA), np.array(LABELS))"
   ]
  },
  {
   "cell_type": "code",
   "execution_count": 13,
   "metadata": {
    "tags": []
   },
   "outputs": [
    {
     "output_type": "stream",
     "name": "stdout",
     "text": "Loading 100.0%\n"
    }
   ],
   "source": [
    "data, labels = get_data()"
   ]
  },
  {
   "cell_type": "code",
   "execution_count": 88,
   "metadata": {},
   "outputs": [],
   "source": [
    "test_data, test_labels = data[8000:], labels[8000:]\n",
    "data, labels = data[:8000], labels[:8000]"
   ]
  },
  {
   "cell_type": "code",
   "execution_count": 6,
   "metadata": {},
   "outputs": [
    {
     "output_type": "execute_result",
     "data": {
      "text/plain": "((1081, 20), (1081,))"
     },
     "metadata": {},
     "execution_count": 6
    }
   ],
   "source": [
    "data.shape, labels.shape"
   ]
  },
  {
   "cell_type": "code",
   "execution_count": 48,
   "metadata": {},
   "outputs": [
    {
     "output_type": "execute_result",
     "data": {
      "text/plain": "<BatchDataset shapes: ((None, 20), (None,)), types: (tf.float64, tf.int32)>"
     },
     "metadata": {},
     "execution_count": 48
    }
   ],
   "source": [
    "BATCH_SIZE = 1081\n",
    "\n",
    "dataset = tf.data.Dataset.from_tensor_slices((data, labels))\n",
    "dataset = dataset.batch(BATCH_SIZE)\n",
    "dataset"
   ]
  },
  {
   "cell_type": "code",
   "execution_count": 14,
   "metadata": {},
   "outputs": [
    {
     "output_type": "execute_result",
     "data": {
      "text/plain": "<BatchDataset shapes: ((None, 1, 20), (None,)), types: (tf.float64, tf.int32)>"
     },
     "metadata": {},
     "execution_count": 14
    }
   ],
   "source": [
    "BATCH_SIZE = 1081\n",
    "test_data = np.reshape(data, [1081, 1, 20])\n",
    "\n",
    "dataset = tf.data.Dataset.from_tensor_slices((test_data, labels))\n",
    "dataset = dataset.batch(BATCH_SIZE)\n",
    "dataset"
   ]
  },
  {
   "cell_type": "code",
   "execution_count": 188,
   "metadata": {},
   "outputs": [],
   "source": [
    "data = np.reshape(data, (10070, 20))"
   ]
  },
  {
   "cell_type": "code",
   "execution_count": 211,
   "metadata": {},
   "outputs": [],
   "source": [
    "labels = np.reshape(labels, (10070,))"
   ]
  },
  {
   "cell_type": "code",
   "execution_count": 44,
   "metadata": {},
   "outputs": [
    {
     "output_type": "execute_result",
     "data": {
      "text/plain": "(1070, 20)"
     },
     "metadata": {},
     "execution_count": 44
    }
   ],
   "source": [
    "np.shape(data)"
   ]
  },
  {
   "cell_type": "markdown",
   "metadata": {},
   "source": [
    "<h1>Создание модели нейронной сети</h1>"
   ]
  },
  {
   "cell_type": "code",
   "execution_count": 8,
   "metadata": {
    "tags": []
   },
   "outputs": [
    {
     "output_type": "stream",
     "name": "stdout",
     "text": "Model: \"Jarvis_Dense\"\n_________________________________________________________________\nLayer (type)                 Output Shape              Param #   \n=================================================================\ndense (Dense)                (None, 1, 100)            2100      \n_________________________________________________________________\ndense_1 (Dense)              (None, 1, 50)             5050      \n_________________________________________________________________\ndense_2 (Dense)              (None, 1, 25)             1275      \n_________________________________________________________________\ndense_3 (Dense)              (None, 1, 12)             312       \n_________________________________________________________________\ndense_4 (Dense)              (None, 1, 2)              26        \n=================================================================\nTotal params: 8,763\nTrainable params: 8,763\nNon-trainable params: 0\n_________________________________________________________________\n"
    }
   ],
   "source": [
    "model = tf.keras.Sequential([\n",
    "    tf.keras.layers.InputLayer(input_shape=(1, 20,)),\n",
    "    #tf.keras.layers.GRU(20, kernel_regularizer=tf.keras.regularizers.l2(0.01)),\n",
    "    tf.keras.layers.Dense(100, activation=\"relu\", kernel_regularizer=tf.keras.regularizers.l2(0.01)),\n",
    "    tf.keras.layers.Dense(50, activation=\"relu\", kernel_regularizer=tf.keras.regularizers.l2(0.01)),\n",
    "    tf.keras.layers.Dense(25, activation=\"relu\", kernel_regularizer=tf.keras.regularizers.l2(0.01)),\n",
    "    tf.keras.layers.Dense(12, activation=\"relu\", kernel_regularizer=tf.keras.regularizers.l2(0.01)),\n",
    "    tf.keras.layers.Dense(2, activation='softmax')\n",
    "], name='Jarvis_Dense')\n",
    "\n",
    "model.summary()"
   ]
  },
  {
   "cell_type": "markdown",
   "metadata": {},
   "source": [
    "<h1>Обучение</h1>"
   ]
  },
  {
   "cell_type": "code",
   "execution_count": 9,
   "metadata": {
    "tags": [
     "outputPrepend"
    ]
   },
   "outputs": [
    {
     "output_type": "stream",
     "name": "stdout",
     "text": "CategoricalCrossentropy): 0.000, Recall: 0.983047604560852, Precision: 0.9956768751144409\nEpoch 8290 -- Loss(SparseCategoricalCrossentropy): 0.000, Recall: 0.98306804895401, Precision: 0.9956821799278259\nEpoch 8300 -- Loss(SparseCategoricalCrossentropy): 0.000, Recall: 0.9830884337425232, Precision: 0.9956874251365662\nEpoch 8310 -- Loss(SparseCategoricalCrossentropy): 0.000, Recall: 0.9831088185310364, Precision: 0.9956926703453064\nEpoch 8320 -- Loss(SparseCategoricalCrossentropy): 0.000, Recall: 0.98312908411026, Precision: 0.9956979155540466\nEpoch 8330 -- Loss(SparseCategoricalCrossentropy): 0.000, Recall: 0.9831493496894836, Precision: 0.9957031607627869\nEpoch 8340 -- Loss(SparseCategoricalCrossentropy): 0.000, Recall: 0.9831695556640625, Precision: 0.9957083463668823\nEpoch 8350 -- Loss(SparseCategoricalCrossentropy): 0.000, Recall: 0.9831897020339966, Precision: 0.9957135915756226\nEpoch 8360 -- Loss(SparseCategoricalCrossentropy): 0.000, Recall: 0.9832097887992859, Precision: 0.995718777179718\nEpoch 8370 -- Loss(SparseCategoricalCrossentropy): 0.000, Recall: 0.9832298755645752, Precision: 0.9957239627838135\nEpoch 8380 -- Loss(SparseCategoricalCrossentropy): 0.000, Recall: 0.9832499027252197, Precision: 0.9957290887832642\nEpoch 8390 -- Loss(SparseCategoricalCrossentropy): 0.000, Recall: 0.9832698702812195, Precision: 0.9957342743873596\nEpoch 8400 -- Loss(SparseCategoricalCrossentropy): 0.000, Recall: 0.9832897782325745, Precision: 0.9957394003868103\nEpoch 8410 -- Loss(SparseCategoricalCrossentropy): 0.000, Recall: 0.9833096265792847, Precision: 0.995744526386261\nEpoch 8420 -- Loss(SparseCategoricalCrossentropy): 0.000, Recall: 0.9833294749259949, Precision: 0.9957496523857117\nEpoch 8430 -- Loss(SparseCategoricalCrossentropy): 0.000, Recall: 0.9833492040634155, Precision: 0.9957547783851624\nEpoch 8440 -- Loss(SparseCategoricalCrossentropy): 0.000, Recall: 0.9833689332008362, Precision: 0.9957598447799683\nEpoch 8450 -- Loss(SparseCategoricalCrossentropy): 0.000, Recall: 0.9833886027336121, Precision: 0.9957649111747742\nEpoch 8460 -- Loss(SparseCategoricalCrossentropy): 0.000, Recall: 0.9834082722663879, Precision: 0.9957699775695801\nEpoch 8470 -- Loss(SparseCategoricalCrossentropy): 0.000, Recall: 0.9834278225898743, Precision: 0.995775043964386\nEpoch 8480 -- Loss(SparseCategoricalCrossentropy): 0.000, Recall: 0.9834473729133606, Precision: 0.9957801103591919\nEpoch 8490 -- Loss(SparseCategoricalCrossentropy): 0.000, Recall: 0.9834668636322021, Precision: 0.995785117149353\nEpoch 8500 -- Loss(SparseCategoricalCrossentropy): 0.000, Recall: 0.9834863543510437, Precision: 0.9957901835441589\nEpoch 8510 -- Loss(SparseCategoricalCrossentropy): 0.000, Recall: 0.9835057258605957, Precision: 0.9957951903343201\nEpoch 8520 -- Loss(SparseCategoricalCrossentropy): 0.000, Recall: 0.9835250973701477, Precision: 0.9958001375198364\nEpoch 8530 -- Loss(SparseCategoricalCrossentropy): 0.000, Recall: 0.9835444092750549, Precision: 0.9958051443099976\nEpoch 8540 -- Loss(SparseCategoricalCrossentropy): 0.000, Recall: 0.9835636615753174, Precision: 0.9958100914955139\nEpoch 8550 -- Loss(SparseCategoricalCrossentropy): 0.000, Recall: 0.9835829138755798, Precision: 0.995815098285675\nEpoch 8560 -- Loss(SparseCategoricalCrossentropy): 0.000, Recall: 0.9836020469665527, Precision: 0.9958200454711914\nEpoch 8570 -- Loss(SparseCategoricalCrossentropy): 0.000, Recall: 0.9836211800575256, Precision: 0.9958249926567078\nEpoch 8580 -- Loss(SparseCategoricalCrossentropy): 0.000, Recall: 0.9836403131484985, Precision: 0.9958298802375793\nEpoch 8590 -- Loss(SparseCategoricalCrossentropy): 0.000, Recall: 0.9836593270301819, Precision: 0.9958348274230957\nEpoch 8600 -- Loss(SparseCategoricalCrossentropy): 0.000, Recall: 0.9836783409118652, Precision: 0.9958397150039673\nEpoch 8610 -- Loss(SparseCategoricalCrossentropy): 0.000, Recall: 0.9836972951889038, Precision: 0.9958446025848389\nEpoch 8620 -- Loss(SparseCategoricalCrossentropy): 0.000, Recall: 0.9837161898612976, Precision: 0.9958494901657104\nEpoch 8630 -- Loss(SparseCategoricalCrossentropy): 0.000, Recall: 0.9837350845336914, Precision: 0.9958543181419373\nEpoch 8640 -- Loss(SparseCategoricalCrossentropy): 0.000, Recall: 0.9837538599967957, Precision: 0.9958592057228088\nEpoch 8650 -- Loss(SparseCategoricalCrossentropy): 0.000, Recall: 0.9837726354598999, Precision: 0.9958640336990356\nEpoch 8660 -- Loss(SparseCategoricalCrossentropy): 0.000, Recall: 0.9837914109230042, Precision: 0.9958688616752625\nEpoch 8670 -- Loss(SparseCategoricalCrossentropy): 0.000, Recall: 0.9838100671768188, Precision: 0.9958736896514893\nEpoch 8680 -- Loss(SparseCategoricalCrossentropy): 0.000, Recall: 0.9838287234306335, Precision: 0.9958785176277161\nEpoch 8690 -- Loss(SparseCategoricalCrossentropy): 0.000, Recall: 0.9838473200798035, Precision: 0.9958833456039429\nEpoch 8700 -- Loss(SparseCategoricalCrossentropy): 0.000, Recall: 0.9838659167289734, Precision: 0.9958881139755249\nEpoch 8710 -- Loss(SparseCategoricalCrossentropy): 0.000, Recall: 0.9838844537734985, Precision: 0.9958928823471069\nEpoch 8720 -- Loss(SparseCategoricalCrossentropy): 0.000, Recall: 0.9839029312133789, Precision: 0.995897650718689\nEpoch 8730 -- Loss(SparseCategoricalCrossentropy): 0.000, Recall: 0.9839213490486145, Precision: 0.995902419090271\nEpoch 8740 -- Loss(SparseCategoricalCrossentropy): 0.000, Recall: 0.9839397668838501, Precision: 0.9959071278572083\nEpoch 8750 -- Loss(SparseCategoricalCrossentropy): 0.000, Recall: 0.9839580655097961, Precision: 0.9959118962287903\nEpoch 8760 -- Loss(SparseCategoricalCrossentropy): 0.000, Recall: 0.983976423740387, Precision: 0.9959166049957275\nEpoch 8770 -- Loss(SparseCategoricalCrossentropy): 0.000, Recall: 0.9839946627616882, Precision: 0.9959213137626648\nEpoch 8780 -- Loss(SparseCategoricalCrossentropy): 0.000, Recall: 0.9840129017829895, Precision: 0.995926022529602\nEpoch 8790 -- Loss(SparseCategoricalCrossentropy): 0.000, Recall: 0.984031081199646, Precision: 0.9959307312965393\nEpoch 8800 -- Loss(SparseCategoricalCrossentropy): 0.000, Recall: 0.9840492606163025, Precision: 0.9959353804588318\nEpoch 8810 -- Loss(SparseCategoricalCrossentropy): 0.000, Recall: 0.9840673208236694, Precision: 0.995940089225769\nEpoch 8820 -- Loss(SparseCategoricalCrossentropy): 0.000, Recall: 0.9840853810310364, Precision: 0.9959447383880615\nEpoch 8830 -- Loss(SparseCategoricalCrossentropy): 0.000, Recall: 0.9841034412384033, Precision: 0.995949387550354\nEpoch 8840 -- Loss(SparseCategoricalCrossentropy): 0.000, Recall: 0.9841213822364807, Precision: 0.9959539771080017\nEpoch 8850 -- Loss(SparseCategoricalCrossentropy): 0.000, Recall: 0.9841393232345581, Precision: 0.9959586262702942\nEpoch 8860 -- Loss(SparseCategoricalCrossentropy): 0.000, Recall: 0.9841572642326355, Precision: 0.9959632158279419\nEpoch 8870 -- Loss(SparseCategoricalCrossentropy): 0.000, Recall: 0.9841750860214233, Precision: 0.9959678649902344\nEpoch 8880 -- Loss(SparseCategoricalCrossentropy): 0.000, Recall: 0.9841929078102112, Precision: 0.9959724545478821\nEpoch 8890 -- Loss(SparseCategoricalCrossentropy): 0.000, Recall: 0.9842106699943542, Precision: 0.9959770441055298\nEpoch 8900 -- Loss(SparseCategoricalCrossentropy): 0.000, Recall: 0.9842284321784973, Precision: 0.9959815740585327\nEpoch 8910 -- Loss(SparseCategoricalCrossentropy): 0.000, Recall: 0.9842461347579956, Precision: 0.9959861636161804\nEpoch 8920 -- Loss(SparseCategoricalCrossentropy): 0.000, Recall: 0.9842637777328491, Precision: 0.9959906935691833\nEpoch 8930 -- Loss(SparseCategoricalCrossentropy): 0.000, Recall: 0.9842814207077026, Precision: 0.995995283126831\nEpoch 8940 -- Loss(SparseCategoricalCrossentropy): 0.000, Recall: 0.9842990040779114, Precision: 0.995999813079834\nEpoch 8950 -- Loss(SparseCategoricalCrossentropy): 0.000, Recall: 0.9843165278434753, Precision: 0.9960043430328369\nEpoch 8960 -- Loss(SparseCategoricalCrossentropy): 0.000, Recall: 0.9843340516090393, Precision: 0.9960088133811951\nEpoch 8970 -- Loss(SparseCategoricalCrossentropy): 0.000, Recall: 0.9843515157699585, Precision: 0.996013343334198\nEpoch 8980 -- Loss(SparseCategoricalCrossentropy): 0.000, Recall: 0.9843689203262329, Precision: 0.9960178136825562\nEpoch 8990 -- Loss(SparseCategoricalCrossentropy): 0.000, Recall: 0.9843863248825073, Precision: 0.9960222840309143\nEpoch 9000 -- Loss(SparseCategoricalCrossentropy): 0.000, Recall: 0.984403669834137, Precision: 0.9960267543792725\nEpoch 9010 -- Loss(SparseCategoricalCrossentropy): 0.000, Recall: 0.9844209551811218, Precision: 0.9960312247276306\nEpoch 9020 -- Loss(SparseCategoricalCrossentropy): 0.000, Recall: 0.9844382405281067, Precision: 0.9960356950759888\nEpoch 9030 -- Loss(SparseCategoricalCrossentropy): 0.000, Recall: 0.9844554662704468, Precision: 0.9960401058197021\nEpoch 9040 -- Loss(SparseCategoricalCrossentropy): 0.000, Recall: 0.9844726324081421, Precision: 0.9960445761680603\nEpoch 9050 -- Loss(SparseCategoricalCrossentropy): 0.000, Recall: 0.9844897985458374, Precision: 0.9960489869117737\nEpoch 9060 -- Loss(SparseCategoricalCrossentropy): 0.000, Recall: 0.9845069050788879, Precision: 0.9960533976554871\nEpoch 9070 -- Loss(SparseCategoricalCrossentropy): 0.000, Recall: 0.9845240116119385, Precision: 0.9960578083992004\nEpoch 9080 -- Loss(SparseCategoricalCrossentropy): 0.000, Recall: 0.9845410585403442, Precision: 0.996062159538269\nEpoch 9090 -- Loss(SparseCategoricalCrossentropy): 0.000, Recall: 0.9845580458641052, Precision: 0.9960665702819824\nEpoch 9100 -- Loss(SparseCategoricalCrossentropy): 0.000, Recall: 0.9845750331878662, Precision: 0.996070921421051\nEpoch 9110 -- Loss(SparseCategoricalCrossentropy): 0.000, Recall: 0.9845919609069824, Precision: 0.9960753321647644\nEpoch 9120 -- Loss(SparseCategoricalCrossentropy): 0.000, Recall: 0.9846088290214539, Precision: 0.996079683303833\nEpoch 9130 -- Loss(SparseCategoricalCrossentropy): 0.000, Recall: 0.9846256971359253, Precision: 0.9960839748382568\nEpoch 9140 -- Loss(SparseCategoricalCrossentropy): 0.000, Recall: 0.984642505645752, Precision: 0.9960883259773254\nEpoch 9150 -- Loss(SparseCategoricalCrossentropy): 0.000, Recall: 0.9846593141555786, Precision: 0.996092677116394\nEpoch 9160 -- Loss(SparseCategoricalCrossentropy): 0.000, Recall: 0.9846760630607605, Precision: 0.9960969686508179\nEpoch 9170 -- Loss(SparseCategoricalCrossentropy): 0.000, Recall: 0.9846927523612976, Precision: 0.9961012601852417\nEpoch 9180 -- Loss(SparseCategoricalCrossentropy): 0.000, Recall: 0.9847094416618347, Precision: 0.9961055517196655\nEpoch 9190 -- Loss(SparseCategoricalCrossentropy): 0.000, Recall: 0.984726071357727, Precision: 0.9961098432540894\nEpoch 9200 -- Loss(SparseCategoricalCrossentropy): 0.000, Recall: 0.9847426414489746, Precision: 0.9961141347885132\nEpoch 9210 -- Loss(SparseCategoricalCrossentropy): 0.000, Recall: 0.9847592115402222, Precision: 0.996118426322937\nEpoch 9220 -- Loss(SparseCategoricalCrossentropy): 0.000, Recall: 0.9847757816314697, Precision: 0.9961226582527161\nEpoch 9230 -- Loss(SparseCategoricalCrossentropy): 0.000, Recall: 0.9847922325134277, Precision: 0.9961268901824951\nEpoch 9240 -- Loss(SparseCategoricalCrossentropy): 0.000, Recall: 0.9848086833953857, Precision: 0.9961311221122742\nEpoch 9250 -- Loss(SparseCategoricalCrossentropy): 0.000, Recall: 0.9848251342773438, Precision: 0.9961353540420532\nEpoch 9260 -- Loss(SparseCategoricalCrossentropy): 0.000, Recall: 0.984841525554657, Precision: 0.9961395859718323\nEpoch 9270 -- Loss(SparseCategoricalCrossentropy): 0.000, Recall: 0.9848578572273254, Precision: 0.9961438179016113\nEpoch 9280 -- Loss(SparseCategoricalCrossentropy): 0.000, Recall: 0.9848741888999939, Precision: 0.9961479902267456\nEpoch 9290 -- Loss(SparseCategoricalCrossentropy): 0.000, Recall: 0.9848904609680176, Precision: 0.9961522221565247\nEpoch 9300 -- Loss(SparseCategoricalCrossentropy): 0.000, Recall: 0.9849067330360413, Precision: 0.9961563944816589\nEpoch 9310 -- Loss(SparseCategoricalCrossentropy): 0.000, Recall: 0.9849229454994202, Precision: 0.9961605668067932\nEpoch 9320 -- Loss(SparseCategoricalCrossentropy): 0.000, Recall: 0.9849390983581543, Precision: 0.9961647391319275\nEpoch 9330 -- Loss(SparseCategoricalCrossentropy): 0.000, Recall: 0.9849552512168884, Precision: 0.9961689114570618\nEpoch 9340 -- Loss(SparseCategoricalCrossentropy): 0.000, Recall: 0.9849713444709778, Precision: 0.9961730241775513\nEpoch 9350 -- Loss(SparseCategoricalCrossentropy): 0.000, Recall: 0.9849874377250671, Precision: 0.9961771965026855\nEpoch 9360 -- Loss(SparseCategoricalCrossentropy): 0.000, Recall: 0.9850034713745117, Precision: 0.996181309223175\nEpoch 9370 -- Loss(SparseCategoricalCrossentropy): 0.000, Recall: 0.9850194454193115, Precision: 0.9961854219436646\nEpoch 9380 -- Loss(SparseCategoricalCrossentropy): 0.000, Recall: 0.9850354194641113, Precision: 0.996189534664154\nEpoch 9390 -- Loss(SparseCategoricalCrossentropy): 0.000, Recall: 0.9850513339042664, Precision: 0.9961936473846436\nEpoch 9400 -- Loss(SparseCategoricalCrossentropy): 0.000, Recall: 0.9850672483444214, Precision: 0.9961977601051331\nEpoch 9410 -- Loss(SparseCategoricalCrossentropy): 0.000, Recall: 0.9850831031799316, Precision: 0.9962018132209778\nEpoch 9420 -- Loss(SparseCategoricalCrossentropy): 0.000, Recall: 0.9850989580154419, Precision: 0.9962059259414673\nEpoch 9430 -- Loss(SparseCategoricalCrossentropy): 0.000, Recall: 0.9851147532463074, Precision: 0.996209979057312\nEpoch 9440 -- Loss(SparseCategoricalCrossentropy): 0.000, Recall: 0.9851305484771729, Precision: 0.9962140321731567\nEpoch 9450 -- Loss(SparseCategoricalCrossentropy): 0.000, Recall: 0.9851462841033936, Precision: 0.9962180852890015\nEpoch 9460 -- Loss(SparseCategoricalCrossentropy): 0.000, Recall: 0.9851619601249695, Precision: 0.9962221384048462\nEpoch 9470 -- Loss(SparseCategoricalCrossentropy): 0.000, Recall: 0.9851776361465454, Precision: 0.9962261319160461\nEpoch 9480 -- Loss(SparseCategoricalCrossentropy): 0.000, Recall: 0.9851932525634766, Precision: 0.9962301850318909\nEpoch 9490 -- Loss(SparseCategoricalCrossentropy): 0.000, Recall: 0.9852088689804077, Precision: 0.9962341785430908\nEpoch 9500 -- Loss(SparseCategoricalCrossentropy): 0.000, Recall: 0.9852244257926941, Precision: 0.9962382316589355\nEpoch 9510 -- Loss(SparseCategoricalCrossentropy): 0.000, Recall: 0.9852399826049805, Precision: 0.9962422251701355\nEpoch 9520 -- Loss(SparseCategoricalCrossentropy): 0.000, Recall: 0.9852554798126221, Precision: 0.9962462186813354\nEpoch 9530 -- Loss(SparseCategoricalCrossentropy): 0.000, Recall: 0.9852709174156189, Precision: 0.9962501525878906\nEpoch 9540 -- Loss(SparseCategoricalCrossentropy): 0.000, Recall: 0.9852863550186157, Precision: 0.9962541460990906\nEpoch 9550 -- Loss(SparseCategoricalCrossentropy): 0.000, Recall: 0.9853017926216125, Precision: 0.9962581396102905\nEpoch 9560 -- Loss(SparseCategoricalCrossentropy): 0.000, Recall: 0.9853171706199646, Precision: 0.9962620735168457\nEpoch 9570 -- Loss(SparseCategoricalCrossentropy): 0.000, Recall: 0.9853324890136719, Precision: 0.9962660074234009\nEpoch 9580 -- Loss(SparseCategoricalCrossentropy): 0.000, Recall: 0.9853478074073792, Precision: 0.996269941329956\nEpoch 9590 -- Loss(SparseCategoricalCrossentropy): 0.000, Recall: 0.9853630661964417, Precision: 0.9962738752365112\nEpoch 9600 -- Loss(SparseCategoricalCrossentropy): 0.000, Recall: 0.9853783249855042, Precision: 0.9962778091430664\nEpoch 9610 -- Loss(SparseCategoricalCrossentropy): 0.000, Recall: 0.9853935241699219, Precision: 0.9962817430496216\nEpoch 9620 -- Loss(SparseCategoricalCrossentropy): 0.000, Recall: 0.9854087233543396, Precision: 0.996285617351532\nEpoch 9630 -- Loss(SparseCategoricalCrossentropy): 0.000, Recall: 0.9854238629341125, Precision: 0.9962895512580872\nEpoch 9640 -- Loss(SparseCategoricalCrossentropy): 0.000, Recall: 0.9854390025138855, Precision: 0.9962934255599976\nEpoch 9650 -- Loss(SparseCategoricalCrossentropy): 0.000, Recall: 0.9854540824890137, Precision: 0.996297299861908\nEpoch 9660 -- Loss(SparseCategoricalCrossentropy): 0.000, Recall: 0.9854691028594971, Precision: 0.9963011741638184\nEpoch 9670 -- Loss(SparseCategoricalCrossentropy): 0.000, Recall: 0.9854841828346252, Precision: 0.9963050484657288\nEpoch 9680 -- Loss(SparseCategoricalCrossentropy): 0.000, Recall: 0.9854991436004639, Precision: 0.9963089227676392\nEpoch 9690 -- Loss(SparseCategoricalCrossentropy): 0.000, Recall: 0.9855141043663025, Precision: 0.9963127374649048\nEpoch 9700 -- Loss(SparseCategoricalCrossentropy): 0.000, Recall: 0.9855290651321411, Precision: 0.9963166117668152\nEpoch 9710 -- Loss(SparseCategoricalCrossentropy): 0.000, Recall: 0.985543966293335, Precision: 0.9963204264640808\nEpoch 9720 -- Loss(SparseCategoricalCrossentropy): 0.000, Recall: 0.985558807849884, Precision: 0.9963242411613464\nEpoch 9730 -- Loss(SparseCategoricalCrossentropy): 0.000, Recall: 0.9855736494064331, Precision: 0.9963281154632568\nEpoch 9740 -- Loss(SparseCategoricalCrossentropy): 0.000, Recall: 0.9855884909629822, Precision: 0.9963318705558777\nEpoch 9750 -- Loss(SparseCategoricalCrossentropy): 0.000, Recall: 0.9856032729148865, Precision: 0.9963356852531433\nEpoch 9760 -- Loss(SparseCategoricalCrossentropy): 0.000, Recall: 0.985617995262146, Precision: 0.9963394999504089\nEpoch 9770 -- Loss(SparseCategoricalCrossentropy): 0.000, Recall: 0.9856327176094055, Precision: 0.9963432550430298\nEpoch 9780 -- Loss(SparseCategoricalCrossentropy): 0.000, Recall: 0.9856473803520203, Precision: 0.9963470697402954\nEpoch 9790 -- Loss(SparseCategoricalCrossentropy): 0.000, Recall: 0.985662043094635, Precision: 0.9963508248329163\nEpoch 9800 -- Loss(SparseCategoricalCrossentropy): 0.000, Recall: 0.9856767058372498, Precision: 0.9963545799255371\nEpoch 9810 -- Loss(SparseCategoricalCrossentropy): 0.000, Recall: 0.9856913089752197, Precision: 0.996358335018158\nEpoch 9820 -- Loss(SparseCategoricalCrossentropy): 0.000, Recall: 0.9857058525085449, Precision: 0.9963620901107788\nEpoch 9830 -- Loss(SparseCategoricalCrossentropy): 0.000, Recall: 0.9857203960418701, Precision: 0.9963658452033997\nEpoch 9840 -- Loss(SparseCategoricalCrossentropy): 0.000, Recall: 0.9857349395751953, Precision: 0.9963696002960205\nEpoch 9850 -- Loss(SparseCategoricalCrossentropy): 0.000, Recall: 0.9857494235038757, Precision: 0.9963732957839966\nEpoch 9860 -- Loss(SparseCategoricalCrossentropy): 0.000, Recall: 0.9857638478279114, Precision: 0.9963769912719727\nEpoch 9870 -- Loss(SparseCategoricalCrossentropy): 0.000, Recall: 0.985778272151947, Precision: 0.9963807463645935\nEpoch 9880 -- Loss(SparseCategoricalCrossentropy): 0.000, Recall: 0.9857926368713379, Precision: 0.9963844418525696\nEpoch 9890 -- Loss(SparseCategoricalCrossentropy): 0.000, Recall: 0.9858070015907288, Precision: 0.9963881373405457\nEpoch 9900 -- Loss(SparseCategoricalCrossentropy): 0.000, Recall: 0.9858213663101196, Precision: 0.9963918328285217\nEpoch 9910 -- Loss(SparseCategoricalCrossentropy): 0.000, Recall: 0.9858356714248657, Precision: 0.996395468711853\nEpoch 9920 -- Loss(SparseCategoricalCrossentropy): 0.000, Recall: 0.985849916934967, Precision: 0.9963991641998291\nEpoch 9930 -- Loss(SparseCategoricalCrossentropy): 0.000, Recall: 0.9858641624450684, Precision: 0.9964028000831604\nEpoch 9940 -- Loss(SparseCategoricalCrossentropy): 0.000, Recall: 0.9858784079551697, Precision: 0.9964064955711365\nEpoch 9950 -- Loss(SparseCategoricalCrossentropy): 0.000, Recall: 0.9858925938606262, Precision: 0.9964101314544678\nEpoch 9960 -- Loss(SparseCategoricalCrossentropy): 0.000, Recall: 0.9859067797660828, Precision: 0.9964137673377991\nEpoch 9970 -- Loss(SparseCategoricalCrossentropy): 0.000, Recall: 0.9859209060668945, Precision: 0.9964174032211304\nEpoch 9980 -- Loss(SparseCategoricalCrossentropy): 0.000, Recall: 0.9859350323677063, Precision: 0.9964210391044617\nEpoch 9990 -- Loss(SparseCategoricalCrossentropy): 0.000, Recall: 0.9859490990638733, Precision: 0.996424674987793\nEpoch 10000 -- Loss(SparseCategoricalCrossentropy): 0.000, Recall: 0.9859631061553955, Precision: 0.9964282512664795\n"
    }
   ],
   "source": [
    "tft.train(\n",
    "    train_dataset=dataset,\n",
    "    model=model,\n",
    "    epochs=10000,\n",
    "    loss=tf.keras.losses.SparseCategoricalCrossentropy()\n",
    ")"
   ]
  },
  {
   "cell_type": "code",
   "execution_count": 27,
   "metadata": {},
   "outputs": [],
   "source": [
    "model.save('models\\{}-v2.0.h5'.format(model.name))"
   ]
  },
  {
   "cell_type": "code",
   "execution_count": 8,
   "metadata": {
    "tags": []
   },
   "outputs": [
    {
     "output_type": "stream",
     "name": "stdout",
     "text": "WARNING:tensorflow:No training configuration found in the save file, so the model was *not* compiled. Compile it manually.\nModel: \"sequential\"\n_________________________________________________________________\nLayer (type)                 Output Shape              Param #   \n=================================================================\ndense (Dense)                (None, 12)                252       \n_________________________________________________________________\ndense_1 (Dense)              (None, 2)                 26        \n=================================================================\nTotal params: 278\nTrainable params: 278\nNon-trainable params: 0\n_________________________________________________________________\n"
    }
   ],
   "source": [
    "model = tf.keras.models.load_model(r'models\\Mira-v1.0.h5')\n",
    "model.summary()"
   ]
  },
  {
   "cell_type": "code",
   "execution_count": 15,
   "metadata": {
    "tags": []
   },
   "outputs": [],
   "source": [
    "predictions = tft.predict_classes(model=model, features=test_data)"
   ]
  },
  {
   "cell_type": "code",
   "execution_count": 16,
   "metadata": {
    "tags": []
   },
   "outputs": [
    {
     "output_type": "stream",
     "name": "stdout",
     "text": "1081 100.0\n"
    }
   ],
   "source": [
    "n = 0\n",
    "\n",
    "for i in range(len(labels)):\n",
    "    n += int(labels[i] == predictions[i])\n",
    "\n",
    "print(n, n / len(labels) * 100)"
   ]
  },
  {
   "cell_type": "code",
   "execution_count": 17,
   "metadata": {},
   "outputs": [
    {
     "output_type": "execute_result",
     "data": {
      "text/plain": "<tf.Tensor: shape=(10, 1), dtype=int64, numpy=\narray([[0],\n       [0],\n       [0],\n       [0],\n       [0],\n       [0],\n       [0],\n       [0],\n       [0],\n       [0]], dtype=int64)>"
     },
     "metadata": {},
     "execution_count": 17
    }
   ],
   "source": [
    "predictions[60:70]"
   ]
  },
  {
   "cell_type": "code",
   "execution_count": 25,
   "metadata": {},
   "outputs": [
    {
     "output_type": "execute_result",
     "data": {
      "text/plain": "(<tf.Tensor: shape=(15, 1), dtype=int64, numpy=\n array([[0],\n        [0],\n        [0],\n        [0],\n        [0],\n        [0],\n        [0],\n        [0],\n        [0],\n        [0],\n        [0],\n        [0],\n        [0],\n        [0],\n        [1]], dtype=int64)>,\n array([0, 0, 0, 0, 0, 0, 0, 0, 0, 0, 0, 0, 0, 0, 1]))"
     },
     "metadata": {},
     "execution_count": 25
    }
   ],
   "source": [
    "predictions[:15], labels[:15]"
   ]
  },
  {
   "cell_type": "code",
   "execution_count": 23,
   "metadata": {
    "tags": []
   },
   "outputs": [
    {
     "output_type": "stream",
     "name": "stdout",
     "text": "WARNING:tensorflow:Model was constructed with shape (None, 1, 20) for input Tensor(\"input_1:0\", shape=(None, 1, 20), dtype=float32), but it was called on an input with incompatible shape (15, 20).\n"
    },
    {
     "output_type": "execute_result",
     "data": {
      "text/plain": "<tf.Tensor: shape=(15, 2), dtype=float32, numpy=\narray([[1.0000000e+00, 2.5234957e-35],\n       [1.0000000e+00, 7.1878402e-12],\n       [1.0000000e+00, 6.2893484e-34],\n       [1.0000000e+00, 3.4782343e-15],\n       [1.0000000e+00, 1.2099237e-34],\n       [1.0000000e+00, 4.2744404e-35],\n       [1.0000000e+00, 1.6721829e-37],\n       [1.0000000e+00, 1.9608733e-14],\n       [1.0000000e+00, 8.6516753e-30],\n       [1.0000000e+00, 2.2747894e-31],\n       [1.0000000e+00, 2.7213112e-30],\n       [1.0000000e+00, 6.4561496e-13],\n       [1.0000000e+00, 2.5592202e-12],\n       [1.0000000e+00, 3.7977355e-13],\n       [3.8644362e-08, 1.0000000e+00]], dtype=float32)>"
     },
     "metadata": {},
     "execution_count": 23
    }
   ],
   "source": [
    "model(data[:15])"
   ]
  },
  {
   "cell_type": "code",
   "execution_count": 102,
   "metadata": {},
   "outputs": [
    {
     "output_type": "execute_result",
     "data": {
      "text/plain": "array([0, 0, 0, 0, 0, 0, 0, 0, 0, 0])"
     },
     "metadata": {},
     "execution_count": 102
    }
   ],
   "source": [
    "labels[60:70]"
   ]
  },
  {
   "cell_type": "code",
   "execution_count": 69,
   "metadata": {},
   "outputs": [],
   "source": [
    "filename = 'test.tfrecord'\n",
    "writer_data = tf.data.experimental.TFRecordWriter(\"datasets\\Mira\\data.tfrecord\")\n",
    "writer_labels = tf.data.experimental.TFRecordWriter(\"datasets\\Mira\\labels.tfrecord\")\n",
    "test_data = tf.data.Dataset.from_tensor_slices(data)\n",
    "test_labels = tf.data.Dataset.from_tensor_slices(labels)\n",
    "test_data = test_data.map(lambda x: str(x))\n",
    "test_labels = test_labels.map(lambda x: str(x))\n",
    "writer_data.write(test_data)\n",
    "writer_labels.write(test_labels)"
   ]
  },
  {
   "cell_type": "code",
   "execution_count": 75,
   "metadata": {},
   "outputs": [],
   "source": [
    "loaded_dataset = tf.data.TFRecordDataset([\"datasets\\Mira\\labels.tfrecord\"])"
   ]
  },
  {
   "cell_type": "code",
   "execution_count": 76,
   "metadata": {
    "tags": []
   },
   "outputs": [
    {
     "output_type": "stream",
     "name": "stdout",
     "text": "tf.Tensor(b'Tensor(\"args_0:0\", shape=(), dtype=int32)', shape=(), dtype=string)\n"
    }
   ],
   "source": [
    "for d in loaded_dataset.take(1):\n",
    "    print(d)"
   ]
  },
  {
   "cell_type": "code",
   "execution_count": 77,
   "metadata": {},
   "outputs": [
    {
     "output_type": "execute_result",
     "data": {
      "text/plain": "<TFRecordDatasetV2 shapes: (), types: tf.string>"
     },
     "metadata": {},
     "execution_count": 77
    }
   ],
   "source": [
    "loaded_dataset"
   ]
  },
  {
   "cell_type": "code",
   "execution_count": 83,
   "metadata": {
    "tags": []
   },
   "outputs": [
    {
     "output_type": "stream",
     "name": "stdout",
     "text": "b'Tensor(\"args_0:0\", shape=(20,), dtype=float64)'\n"
    }
   ],
   "source": [
    "for d in test_data.take(1):\n",
    "    print(d.numpy())"
   ]
  },
  {
   "cell_type": "code",
   "execution_count": 134,
   "metadata": {
    "tags": []
   },
   "outputs": [
    {
     "output_type": "execute_result",
     "data": {
      "text/plain": "<tf.Tensor: shape=(1, 1, 2), dtype=float32, numpy=array([[[9.9980623e-01, 1.9373836e-04]]], dtype=float32)>"
     },
     "metadata": {},
     "execution_count": 134
    }
   ],
   "source": [
    "model(np.reshape(data[0], (1, 1, 20)))"
   ]
  },
  {
   "cell_type": "code",
   "execution_count": 88,
   "metadata": {},
   "outputs": [
    {
     "output_type": "execute_result",
     "data": {
      "text/plain": "(1, 20)"
     },
     "metadata": {},
     "execution_count": 88
    }
   ],
   "source": [
    "test_data[0].shape"
   ]
  },
  {
   "cell_type": "code",
   "execution_count": 89,
   "metadata": {},
   "outputs": [
    {
     "output_type": "execute_result",
     "data": {
      "text/plain": "(20,)"
     },
     "metadata": {},
     "execution_count": 89
    }
   ],
   "source": [
    "data[0].shape"
   ]
  },
  {
   "cell_type": "code",
   "execution_count": 107,
   "metadata": {
    "tags": []
   },
   "outputs": [],
   "source": [
    "test_model = tf.keras.models.clone_model(model)"
   ]
  },
  {
   "cell_type": "code",
   "execution_count": 108,
   "metadata": {},
   "outputs": [
    {
     "output_type": "execute_result",
     "data": {
      "text/plain": "<tf.Tensor: shape=(20, 2), dtype=float32, numpy=\narray([[0.3673443 , 0.6326557 ],\n       [0.43950397, 0.56049603],\n       [0.6150811 , 0.38491893],\n       [0.60334784, 0.39665216],\n       [0.5920435 , 0.40795645],\n       [0.71854764, 0.2814524 ],\n       [0.6459553 , 0.3540447 ],\n       [0.60502183, 0.3949782 ],\n       [0.37577388, 0.62422615],\n       [0.61354023, 0.3864598 ],\n       [0.36829096, 0.63170904],\n       [0.5177707 , 0.48222935],\n       [0.59354055, 0.40645948],\n       [0.6889333 , 0.31106666],\n       [0.42778772, 0.5722123 ],\n       [0.4162618 , 0.5837382 ],\n       [0.49124718, 0.5087528 ],\n       [0.58858407, 0.41141596],\n       [0.27925968, 0.72074026],\n       [0.57293254, 0.42706743]], dtype=float32)>"
     },
     "metadata": {},
     "execution_count": 108
    }
   ],
   "source": [
    "test_model(test_data[50:70])"
   ]
  },
  {
   "cell_type": "code",
   "execution_count": 112,
   "metadata": {},
   "outputs": [
    {
     "output_type": "execute_result",
     "data": {
      "text/plain": "'Mira GRU'"
     },
     "metadata": {},
     "execution_count": 112
    }
   ],
   "source": []
  },
  {
   "cell_type": "code",
   "execution_count": null,
   "metadata": {},
   "outputs": [],
   "source": []
  }
 ],
 "metadata": {
  "colab": {
   "collapsed_sections": [],
   "name": "Untitled0.ipynb",
   "provenance": []
  },
  "kernelspec": {
   "display_name": "Python 3.8.3 64-bit ('venv': venv)",
   "language": "python",
   "name": "python_defaultSpec_1595799925827"
  },
  "language_info": {
   "codemirror_mode": {
    "name": "ipython",
    "version": 3
   },
   "file_extension": ".py",
   "mimetype": "text/x-python",
   "name": "python",
   "nbconvert_exporter": "python",
   "pygments_lexer": "ipython3",
   "version": "3.8.3-final"
  }
 },
 "nbformat": 4,
 "nbformat_minor": 4
}