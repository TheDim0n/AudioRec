{
 "cells": [
  {
   "cell_type": "code",
   "execution_count": 1,
   "metadata": {
    "colab": {},
    "colab_type": "code",
    "id": "qFi9FiWol1KT"
   },
   "outputs": [],
   "source": [
    "from preprocessing import Audio\n",
    "import tensorflow as tf\n",
    "import tf_train as tft\n",
    "import numpy as np\n",
    "import os\n",
    "import matplotlib.pyplot as plt\n",
    "import scipy as sp\n",
    "import librosa as li\n",
    "import librosa.display\n",
    "import IPython.display as ipd\n",
    "\n",
    "%matplotlib inline\n",
    "#tf.debugging.set_log_device_placement(True)"
   ]
  },
  {
   "cell_type": "code",
   "execution_count": 2,
   "metadata": {},
   "outputs": [
    {
     "output_type": "execute_result",
     "data": {
      "text/plain": "'/device:GPU:0'"
     },
     "metadata": {},
     "execution_count": 2
    }
   ],
   "source": [
    "GPU = tf.config.list_logical_devices('GPU')\n",
    "CPU = tf.config.list_logical_devices('CPU')\n",
    "DEVICE = GPU[0].name if GPU else CPU[0].name\n",
    "DEVICE"
   ]
  },
  {
   "cell_type": "markdown",
   "metadata": {},
   "source": [
    "<h1>Подготовка данных для обучения и тестирования</h1>"
   ]
  },
  {
   "cell_type": "code",
   "execution_count": 3,
   "metadata": {},
   "outputs": [],
   "source": [
    "def get_data():\n",
    "    def norm(x):\n",
    "        std = np.std(x ,ddof=1)\n",
    "        return (x - np.mean(x)) / std\n",
    "\n",
    "    PATH_0 = r'AudioData/0 Данные' # negative class\n",
    "    PATH_1 = r'AudioData/1 Мира' # positive class\n",
    "\n",
    "    PATHS = li.util.find_files(PATH_0)[:1000] + li.util.find_files(PATH_1)\n",
    "    N = len(PATHS)\n",
    "\n",
    "    np.random.shuffle(PATHS)\n",
    "\n",
    "    SOUNDS = []\n",
    "    for path in PATHS:\n",
    "        SOUNDS.append(Audio(path))\n",
    "        print('Loading {:.1f}%'.format(len(SOUNDS) / N * 100))\n",
    "        ipd.clear_output(wait=True)\n",
    "    DATA = []\n",
    "    LABELS = []\n",
    "\n",
    "    for sound in SOUNDS:\n",
    "        DATA.append(norm(sound.e_parts))\n",
    "        LABELS.append(sound.label)\n",
    "\n",
    "    return (np.array(DATA), np.array(LABELS))"
   ]
  },
  {
   "cell_type": "code",
   "execution_count": 4,
   "metadata": {
    "tags": []
   },
   "outputs": [
    {
     "output_type": "stream",
     "name": "stdout",
     "text": "Loading 100.0%\n"
    }
   ],
   "source": [
    "data, labels = get_data()"
   ]
  },
  {
   "cell_type": "code",
   "execution_count": 88,
   "metadata": {},
   "outputs": [],
   "source": [
    "test_data, test_labels = data[8000:], labels[8000:]\n",
    "data, labels = data[:8000], labels[:8000]"
   ]
  },
  {
   "cell_type": "code",
   "execution_count": 5,
   "metadata": {},
   "outputs": [
    {
     "output_type": "execute_result",
     "data": {
      "text/plain": "((1070, 20), (1070,))"
     },
     "metadata": {},
     "execution_count": 5
    }
   ],
   "source": [
    "data.shape, labels.shape"
   ]
  },
  {
   "cell_type": "code",
   "execution_count": 6,
   "metadata": {},
   "outputs": [
    {
     "output_type": "execute_result",
     "data": {
      "text/plain": "<BatchDataset shapes: ((None, 20), (None,)), types: (tf.float64, tf.int32)>"
     },
     "metadata": {},
     "execution_count": 6
    }
   ],
   "source": [
    "dataset = tf.data.Dataset.from_tensor_slices((data, labels))\n",
    "dataset = dataset.batch(1070)\n",
    "dataset"
   ]
  },
  {
   "cell_type": "code",
   "execution_count": 188,
   "metadata": {},
   "outputs": [],
   "source": [
    "data = np.reshape(data, (10070, 20))"
   ]
  },
  {
   "cell_type": "code",
   "execution_count": 211,
   "metadata": {},
   "outputs": [],
   "source": [
    "labels = np.reshape(labels, (10070,))"
   ]
  },
  {
   "cell_type": "code",
   "execution_count": 209,
   "metadata": {},
   "outputs": [
    {
     "data": {
      "text/plain": [
       "array([[0],\n",
       "       [0],\n",
       "       [0],\n",
       "       ...,\n",
       "       [0],\n",
       "       [0],\n",
       "       [0]])"
      ]
     },
     "execution_count": 209,
     "metadata": {},
     "output_type": "execute_result"
    }
   ],
   "source": [
    "labels"
   ]
  },
  {
   "cell_type": "markdown",
   "metadata": {},
   "source": [
    "<h1>Создание модели нейронной сети</h1>"
   ]
  },
  {
   "cell_type": "code",
   "execution_count": 52,
   "metadata": {
    "tags": []
   },
   "outputs": [
    {
     "output_type": "stream",
     "name": "stdout",
     "text": "Model: \"Lada\"\n_________________________________________________________________\nLayer (type)                 Output Shape              Param #   \n=================================================================\ndense_6 (Dense)              (None, 12)                252       \n_________________________________________________________________\ndense_7 (Dense)              (None, 2)                 26        \n=================================================================\nTotal params: 278\nTrainable params: 278\nNon-trainable params: 0\n_________________________________________________________________\n"
    }
   ],
   "source": [
    "model = tf.keras.Sequential([\n",
    "    tf.keras.layers.Dense(12, activation='relu', kernel_regularizer=tf.keras.regularizers.l2(0.01),\n",
    "                          input_shape=(20,)),\n",
    "    tf.keras.layers.Dense(2, activation='softmax')\n",
    "], name='Lada')\n",
    "\n",
    "model.summary()"
   ]
  },
  {
   "cell_type": "code",
   "execution_count": 11,
   "metadata": {
    "tags": []
   },
   "outputs": [
    {
     "output_type": "stream",
     "name": "stdout",
     "text": "[[0.24388829 0.7561117 ]\n [0.44321573 0.5567843 ]\n [0.788806   0.21119395]\n [0.1729286  0.82707137]\n [0.42110857 0.57889146]\n [0.56216836 0.43783167]\n [0.14818363 0.8518164 ]\n [0.40375194 0.59624803]\n [0.33486465 0.6651354 ]\n [0.6221114  0.37788862]]\n[1 1 0 1 1 0 1 1 1 0]\n[0 0 0 1 0 0 0 0 0 0]\n"
    }
   ],
   "source": [
    "y_pred = model.predict(data)\n",
    "print(y_pred[:10])\n",
    "y_pred = np.argmax(y_pred, axis=-1)\n",
    "print(y_pred[:10])\n",
    "print(labels[:10])"
   ]
  },
  {
   "cell_type": "markdown",
   "metadata": {},
   "source": [
    "# Клонирование модели для transfer learning"
   ]
  },
  {
   "cell_type": "code",
   "execution_count": 9,
   "metadata": {},
   "outputs": [
    {
     "name": "stdout",
     "output_type": "stream",
     "text": [
      "Model: \"sequential\"\n",
      "_________________________________________________________________\n",
      "Layer (type)                 Output Shape              Param #   \n",
      "=================================================================\n",
      "dense (Dense)                (None, 12)                252       \n",
      "_________________________________________________________________\n",
      "dense_1 (Dense)              (None, 2)                 26        \n",
      "=================================================================\n",
      "Total params: 278\n",
      "Trainable params: 278\n",
      "Non-trainable params: 0\n",
      "_________________________________________________________________\n"
     ]
    }
   ],
   "source": [
    "model = tf.keras.models.load_model('Джарвис.h5')\n",
    "model = tf.keras.models.clone_model(model)\n",
    "model.compile(loss='sparse_categorical_crossentropy', optimizer='adam')\n",
    "model.summary()"
   ]
  },
  {
   "cell_type": "markdown",
   "metadata": {},
   "source": [
    "<h1>Обучение</h1>"
   ]
  },
  {
   "cell_type": "code",
   "execution_count": 53,
   "metadata": {
    "tags": [
     "outputPrepend"
    ]
   },
   "outputs": [
    {
     "output_type": "stream",
     "name": "stdout",
     "text": "SparseCategoricalCrossentropy): 0.001, Recall: 0.8433099985122681, Precision: 0.9267842769622803\nEpoch 8290 -- Loss(SparseCategoricalCrossentropy): 0.001, Recall: 0.8433321118354797, Precision: 0.9267956614494324\nEpoch 8300 -- Loss(SparseCategoricalCrossentropy): 0.001, Recall: 0.8433542251586914, Precision: 0.9268070459365845\nEpoch 8310 -- Loss(SparseCategoricalCrossentropy): 0.001, Recall: 0.8433763980865479, Precision: 0.9268183708190918\nEpoch 8320 -- Loss(SparseCategoricalCrossentropy): 0.001, Recall: 0.8433985114097595, Precision: 0.9268297553062439\nEpoch 8330 -- Loss(SparseCategoricalCrossentropy): 0.001, Recall: 0.8434206247329712, Precision: 0.9268410801887512\nEpoch 8340 -- Loss(SparseCategoricalCrossentropy): 0.001, Recall: 0.8434427380561829, Precision: 0.9268524646759033\nEpoch 8350 -- Loss(SparseCategoricalCrossentropy): 0.001, Recall: 0.8434648513793945, Precision: 0.9268637895584106\nEpoch 8360 -- Loss(SparseCategoricalCrossentropy): 0.001, Recall: 0.8434869050979614, Precision: 0.9268751740455627\nEpoch 8370 -- Loss(SparseCategoricalCrossentropy): 0.001, Recall: 0.8435090184211731, Precision: 0.9268864989280701\nEpoch 8380 -- Loss(SparseCategoricalCrossentropy): 0.001, Recall: 0.84353107213974, Precision: 0.9268978238105774\nEpoch 8390 -- Loss(SparseCategoricalCrossentropy): 0.001, Recall: 0.8435531854629517, Precision: 0.9269091486930847\nEpoch 8400 -- Loss(SparseCategoricalCrossentropy): 0.001, Recall: 0.8435752391815186, Precision: 0.926920473575592\nEpoch 8410 -- Loss(SparseCategoricalCrossentropy): 0.001, Recall: 0.8435972929000854, Precision: 0.9269317984580994\nEpoch 8420 -- Loss(SparseCategoricalCrossentropy): 0.001, Recall: 0.8436193466186523, Precision: 0.9269431233406067\nEpoch 8430 -- Loss(SparseCategoricalCrossentropy): 0.001, Recall: 0.8436414003372192, Precision: 0.926954448223114\nEpoch 8440 -- Loss(SparseCategoricalCrossentropy): 0.001, Recall: 0.8436634540557861, Precision: 0.9269657731056213\nEpoch 8450 -- Loss(SparseCategoricalCrossentropy): 0.001, Recall: 0.843685507774353, Precision: 0.9269770979881287\nEpoch 8460 -- Loss(SparseCategoricalCrossentropy): 0.001, Recall: 0.8437075614929199, Precision: 0.926988422870636\nEpoch 8470 -- Loss(SparseCategoricalCrossentropy): 0.001, Recall: 0.843729555606842, Precision: 0.9269996881484985\nEpoch 8480 -- Loss(SparseCategoricalCrossentropy): 0.001, Recall: 0.8437516093254089, Precision: 0.9270110130310059\nEpoch 8490 -- Loss(SparseCategoricalCrossentropy): 0.001, Recall: 0.843773603439331, Precision: 0.9270223379135132\nEpoch 8500 -- Loss(SparseCategoricalCrossentropy): 0.001, Recall: 0.8437955975532532, Precision: 0.9270336031913757\nEpoch 8510 -- Loss(SparseCategoricalCrossentropy): 0.001, Recall: 0.8438175916671753, Precision: 0.9270448684692383\nEpoch 8520 -- Loss(SparseCategoricalCrossentropy): 0.001, Recall: 0.8438395857810974, Precision: 0.9270561933517456\nEpoch 8530 -- Loss(SparseCategoricalCrossentropy): 0.001, Recall: 0.8438615798950195, Precision: 0.9270674586296082\nEpoch 8540 -- Loss(SparseCategoricalCrossentropy): 0.001, Recall: 0.8438835740089417, Precision: 0.9270787239074707\nEpoch 8550 -- Loss(SparseCategoricalCrossentropy): 0.001, Recall: 0.8439055681228638, Precision: 0.927090048789978\nEpoch 8560 -- Loss(SparseCategoricalCrossentropy): 0.001, Recall: 0.8439275622367859, Precision: 0.9271013140678406\nEpoch 8570 -- Loss(SparseCategoricalCrossentropy): 0.001, Recall: 0.8439494967460632, Precision: 0.9271125793457031\nEpoch 8580 -- Loss(SparseCategoricalCrossentropy): 0.001, Recall: 0.8439714908599854, Precision: 0.9271238446235657\nEpoch 8590 -- Loss(SparseCategoricalCrossentropy): 0.001, Recall: 0.8439934253692627, Precision: 0.9271351099014282\nEpoch 8600 -- Loss(SparseCategoricalCrossentropy): 0.001, Recall: 0.84401535987854, Precision: 0.9271463751792908\nEpoch 8610 -- Loss(SparseCategoricalCrossentropy): 0.001, Recall: 0.8440372943878174, Precision: 0.9271576404571533\nEpoch 8620 -- Loss(SparseCategoricalCrossentropy): 0.001, Recall: 0.8440592288970947, Precision: 0.9271689057350159\nEpoch 8630 -- Loss(SparseCategoricalCrossentropy): 0.001, Recall: 0.8440811634063721, Precision: 0.9271801114082336\nEpoch 8640 -- Loss(SparseCategoricalCrossentropy): 0.001, Recall: 0.8441030979156494, Precision: 0.9271913766860962\nEpoch 8650 -- Loss(SparseCategoricalCrossentropy): 0.001, Recall: 0.8441250324249268, Precision: 0.9272026419639587\nEpoch 8660 -- Loss(SparseCategoricalCrossentropy): 0.001, Recall: 0.8441469073295593, Precision: 0.9272138476371765\nEpoch 8670 -- Loss(SparseCategoricalCrossentropy): 0.001, Recall: 0.8441688418388367, Precision: 0.9272251129150391\nEpoch 8680 -- Loss(SparseCategoricalCrossentropy): 0.001, Recall: 0.8441907167434692, Precision: 0.9272363185882568\nEpoch 8690 -- Loss(SparseCategoricalCrossentropy): 0.001, Recall: 0.8442125916481018, Precision: 0.9272475838661194\nEpoch 8700 -- Loss(SparseCategoricalCrossentropy): 0.001, Recall: 0.8442344665527344, Precision: 0.9272587895393372\nEpoch 8710 -- Loss(SparseCategoricalCrossentropy): 0.001, Recall: 0.8442564010620117, Precision: 0.9272699952125549\nEpoch 8720 -- Loss(SparseCategoricalCrossentropy): 0.001, Recall: 0.8442782759666443, Precision: 0.9272812008857727\nEpoch 8730 -- Loss(SparseCategoricalCrossentropy): 0.001, Recall: 0.8443000912666321, Precision: 0.9272924661636353\nEpoch 8740 -- Loss(SparseCategoricalCrossentropy): 0.001, Recall: 0.8443219661712646, Precision: 0.927303671836853\nEpoch 8750 -- Loss(SparseCategoricalCrossentropy): 0.000, Recall: 0.8443438410758972, Precision: 0.9273148775100708\nEpoch 8760 -- Loss(SparseCategoricalCrossentropy): 0.000, Recall: 0.844365656375885, Precision: 0.9273260831832886\nEpoch 8770 -- Loss(SparseCategoricalCrossentropy): 0.000, Recall: 0.8443875312805176, Precision: 0.9273372888565063\nEpoch 8780 -- Loss(SparseCategoricalCrossentropy): 0.000, Recall: 0.8444093465805054, Precision: 0.9273484349250793\nEpoch 8790 -- Loss(SparseCategoricalCrossentropy): 0.000, Recall: 0.8444311618804932, Precision: 0.9273596405982971\nEpoch 8800 -- Loss(SparseCategoricalCrossentropy): 0.000, Recall: 0.8444530367851257, Precision: 0.9273708462715149\nEpoch 8810 -- Loss(SparseCategoricalCrossentropy): 0.000, Recall: 0.8444748520851135, Precision: 0.9273820519447327\nEpoch 8820 -- Loss(SparseCategoricalCrossentropy): 0.000, Recall: 0.8444966673851013, Precision: 0.9273931980133057\nEpoch 8830 -- Loss(SparseCategoricalCrossentropy): 0.000, Recall: 0.8445184230804443, Precision: 0.9274044036865234\nEpoch 8840 -- Loss(SparseCategoricalCrossentropy): 0.000, Recall: 0.8445402383804321, Precision: 0.9274156093597412\nEpoch 8850 -- Loss(SparseCategoricalCrossentropy): 0.000, Recall: 0.8445620536804199, Precision: 0.9274267554283142\nEpoch 8860 -- Loss(SparseCategoricalCrossentropy): 0.000, Recall: 0.8445838093757629, Precision: 0.9274379014968872\nEpoch 8870 -- Loss(SparseCategoricalCrossentropy): 0.000, Recall: 0.8446056246757507, Precision: 0.927449107170105\nEpoch 8880 -- Loss(SparseCategoricalCrossentropy): 0.000, Recall: 0.8446273803710938, Precision: 0.927460253238678\nEpoch 8890 -- Loss(SparseCategoricalCrossentropy): 0.000, Recall: 0.8446491360664368, Precision: 0.927471399307251\nEpoch 8900 -- Loss(SparseCategoricalCrossentropy): 0.000, Recall: 0.8446708917617798, Precision: 0.927482545375824\nEpoch 8910 -- Loss(SparseCategoricalCrossentropy): 0.000, Recall: 0.8446926474571228, Precision: 0.9274937510490417\nEpoch 8920 -- Loss(SparseCategoricalCrossentropy): 0.000, Recall: 0.8447144031524658, Precision: 0.9275048971176147\nEpoch 8930 -- Loss(SparseCategoricalCrossentropy): 0.000, Recall: 0.8447361588478088, Precision: 0.9275160431861877\nEpoch 8940 -- Loss(SparseCategoricalCrossentropy): 0.000, Recall: 0.8447579145431519, Precision: 0.9275271892547607\nEpoch 8950 -- Loss(SparseCategoricalCrossentropy): 0.000, Recall: 0.8447796702384949, Precision: 0.927538275718689\nEpoch 8960 -- Loss(SparseCategoricalCrossentropy): 0.000, Recall: 0.8448013663291931, Precision: 0.927549421787262\nEpoch 8970 -- Loss(SparseCategoricalCrossentropy): 0.000, Recall: 0.8448230624198914, Precision: 0.927560567855835\nEpoch 8980 -- Loss(SparseCategoricalCrossentropy): 0.000, Recall: 0.8448448181152344, Precision: 0.927571713924408\nEpoch 8990 -- Loss(SparseCategoricalCrossentropy): 0.000, Recall: 0.8448665142059326, Precision: 0.9275828003883362\nEpoch 9000 -- Loss(SparseCategoricalCrossentropy): 0.000, Recall: 0.8448882102966309, Precision: 0.9275939464569092\nEpoch 9010 -- Loss(SparseCategoricalCrossentropy): 0.000, Recall: 0.8449099063873291, Precision: 0.9276050925254822\nEpoch 9020 -- Loss(SparseCategoricalCrossentropy): 0.000, Recall: 0.8449316024780273, Precision: 0.9276161789894104\nEpoch 9030 -- Loss(SparseCategoricalCrossentropy): 0.000, Recall: 0.8449532985687256, Precision: 0.9276273250579834\nEpoch 9040 -- Loss(SparseCategoricalCrossentropy): 0.000, Recall: 0.844974935054779, Precision: 0.9276384115219116\nEpoch 9050 -- Loss(SparseCategoricalCrossentropy): 0.000, Recall: 0.8449966311454773, Precision: 0.9276494979858398\nEpoch 9060 -- Loss(SparseCategoricalCrossentropy): 0.000, Recall: 0.8450183272361755, Precision: 0.9276606440544128\nEpoch 9070 -- Loss(SparseCategoricalCrossentropy): 0.000, Recall: 0.845039963722229, Precision: 0.9276717305183411\nEpoch 9080 -- Loss(SparseCategoricalCrossentropy): 0.000, Recall: 0.8450616002082825, Precision: 0.9276828169822693\nEpoch 9090 -- Loss(SparseCategoricalCrossentropy): 0.000, Recall: 0.8450832366943359, Precision: 0.9276939034461975\nEpoch 9100 -- Loss(SparseCategoricalCrossentropy): 0.000, Recall: 0.8451048731803894, Precision: 0.9277049899101257\nEpoch 9110 -- Loss(SparseCategoricalCrossentropy): 0.000, Recall: 0.8451265096664429, Precision: 0.927716076374054\nEpoch 9120 -- Loss(SparseCategoricalCrossentropy): 0.000, Recall: 0.8451481461524963, Precision: 0.9277271628379822\nEpoch 9130 -- Loss(SparseCategoricalCrossentropy): 0.000, Recall: 0.8451697826385498, Precision: 0.9277382493019104\nEpoch 9140 -- Loss(SparseCategoricalCrossentropy): 0.000, Recall: 0.8451914191246033, Precision: 0.9277493357658386\nEpoch 9150 -- Loss(SparseCategoricalCrossentropy): 0.000, Recall: 0.845212996006012, Precision: 0.9277603626251221\nEpoch 9160 -- Loss(SparseCategoricalCrossentropy): 0.000, Recall: 0.8452346324920654, Precision: 0.9277714490890503\nEpoch 9170 -- Loss(SparseCategoricalCrossentropy): 0.000, Recall: 0.8452562093734741, Precision: 0.9277825355529785\nEpoch 9180 -- Loss(SparseCategoricalCrossentropy): 0.000, Recall: 0.8452778458595276, Precision: 0.927793562412262\nEpoch 9190 -- Loss(SparseCategoricalCrossentropy): 0.000, Recall: 0.8452994227409363, Precision: 0.9278046488761902\nEpoch 9200 -- Loss(SparseCategoricalCrossentropy): 0.000, Recall: 0.845320999622345, Precision: 0.9278156757354736\nEpoch 9210 -- Loss(SparseCategoricalCrossentropy): 0.000, Recall: 0.8453425765037537, Precision: 0.9278267621994019\nEpoch 9220 -- Loss(SparseCategoricalCrossentropy): 0.000, Recall: 0.8453641533851624, Precision: 0.9278377890586853\nEpoch 9230 -- Loss(SparseCategoricalCrossentropy): 0.000, Recall: 0.8453856706619263, Precision: 0.9278488159179688\nEpoch 9240 -- Loss(SparseCategoricalCrossentropy): 0.000, Recall: 0.845407247543335, Precision: 0.9278598427772522\nEpoch 9250 -- Loss(SparseCategoricalCrossentropy): 0.000, Recall: 0.8454288244247437, Precision: 0.9278709292411804\nEpoch 9260 -- Loss(SparseCategoricalCrossentropy): 0.000, Recall: 0.8454503417015076, Precision: 0.9278819561004639\nEpoch 9270 -- Loss(SparseCategoricalCrossentropy): 0.000, Recall: 0.8454718589782715, Precision: 0.9278929829597473\nEpoch 9280 -- Loss(SparseCategoricalCrossentropy): 0.000, Recall: 0.8454934358596802, Precision: 0.9279040098190308\nEpoch 9290 -- Loss(SparseCategoricalCrossentropy): 0.000, Recall: 0.8455149531364441, Precision: 0.9279150366783142\nEpoch 9300 -- Loss(SparseCategoricalCrossentropy): 0.000, Recall: 0.845536470413208, Precision: 0.9279260635375977\nEpoch 9310 -- Loss(SparseCategoricalCrossentropy): 0.000, Recall: 0.8455579876899719, Precision: 0.9279370903968811\nEpoch 9320 -- Loss(SparseCategoricalCrossentropy): 0.000, Recall: 0.8455795049667358, Precision: 0.9279480576515198\nEpoch 9330 -- Loss(SparseCategoricalCrossentropy): 0.000, Recall: 0.8456010222434998, Precision: 0.9279590845108032\nEpoch 9340 -- Loss(SparseCategoricalCrossentropy): 0.000, Recall: 0.8456224799156189, Precision: 0.9279701113700867\nEpoch 9350 -- Loss(SparseCategoricalCrossentropy): 0.000, Recall: 0.8456439971923828, Precision: 0.9279810786247253\nEpoch 9360 -- Loss(SparseCategoricalCrossentropy): 0.000, Recall: 0.845665454864502, Precision: 0.9279921054840088\nEpoch 9370 -- Loss(SparseCategoricalCrossentropy): 0.000, Recall: 0.8456869721412659, Precision: 0.9280030727386475\nEpoch 9380 -- Loss(SparseCategoricalCrossentropy): 0.000, Recall: 0.845708429813385, Precision: 0.9280140995979309\nEpoch 9390 -- Loss(SparseCategoricalCrossentropy): 0.000, Recall: 0.8457298874855042, Precision: 0.9280250668525696\nEpoch 9400 -- Loss(SparseCategoricalCrossentropy): 0.000, Recall: 0.8457513451576233, Precision: 0.928036093711853\nEpoch 9410 -- Loss(SparseCategoricalCrossentropy): 0.000, Recall: 0.8457728028297424, Precision: 0.9280470609664917\nEpoch 9420 -- Loss(SparseCategoricalCrossentropy): 0.000, Recall: 0.8457942605018616, Precision: 0.9280580282211304\nEpoch 9430 -- Loss(SparseCategoricalCrossentropy): 0.000, Recall: 0.8458157181739807, Precision: 0.928068995475769\nEpoch 9440 -- Loss(SparseCategoricalCrossentropy): 0.000, Recall: 0.8458371162414551, Precision: 0.9280799627304077\nEpoch 9450 -- Loss(SparseCategoricalCrossentropy): 0.000, Recall: 0.8458585739135742, Precision: 0.9280909299850464\nEpoch 9460 -- Loss(SparseCategoricalCrossentropy): 0.000, Recall: 0.8458799719810486, Precision: 0.9281018972396851\nEpoch 9470 -- Loss(SparseCategoricalCrossentropy): 0.000, Recall: 0.8459014296531677, Precision: 0.9281128644943237\nEpoch 9480 -- Loss(SparseCategoricalCrossentropy): 0.000, Recall: 0.8459228277206421, Precision: 0.9281238317489624\nEpoch 9490 -- Loss(SparseCategoricalCrossentropy): 0.000, Recall: 0.8459442257881165, Precision: 0.9281347990036011\nEpoch 9500 -- Loss(SparseCategoricalCrossentropy): 0.000, Recall: 0.8459656238555908, Precision: 0.9281457662582397\nEpoch 9510 -- Loss(SparseCategoricalCrossentropy): 0.000, Recall: 0.8459870219230652, Precision: 0.9281567335128784\nEpoch 9520 -- Loss(SparseCategoricalCrossentropy): 0.000, Recall: 0.8460084199905396, Precision: 0.9281676411628723\nEpoch 9530 -- Loss(SparseCategoricalCrossentropy): 0.000, Recall: 0.8460298180580139, Precision: 0.928178608417511\nEpoch 9540 -- Loss(SparseCategoricalCrossentropy): 0.000, Recall: 0.8460511565208435, Precision: 0.9281895160675049\nEpoch 9550 -- Loss(SparseCategoricalCrossentropy): 0.000, Recall: 0.8460725545883179, Precision: 0.9282004833221436\nEpoch 9560 -- Loss(SparseCategoricalCrossentropy): 0.000, Recall: 0.8460938930511475, Precision: 0.9282113909721375\nEpoch 9570 -- Loss(SparseCategoricalCrossentropy): 0.000, Recall: 0.8461152911186218, Precision: 0.9282223582267761\nEpoch 9580 -- Loss(SparseCategoricalCrossentropy): 0.000, Recall: 0.8461366295814514, Precision: 0.92823326587677\nEpoch 9590 -- Loss(SparseCategoricalCrossentropy): 0.000, Recall: 0.846157968044281, Precision: 0.9282441735267639\nEpoch 9600 -- Loss(SparseCategoricalCrossentropy): 0.000, Recall: 0.8461793065071106, Precision: 0.9282550811767578\nEpoch 9610 -- Loss(SparseCategoricalCrossentropy): 0.000, Recall: 0.8462006449699402, Precision: 0.9282660484313965\nEpoch 9620 -- Loss(SparseCategoricalCrossentropy): 0.000, Recall: 0.8462219834327698, Precision: 0.9282769560813904\nEpoch 9630 -- Loss(SparseCategoricalCrossentropy): 0.000, Recall: 0.8462433218955994, Precision: 0.9282878637313843\nEpoch 9640 -- Loss(SparseCategoricalCrossentropy): 0.000, Recall: 0.846264660358429, Precision: 0.9282987713813782\nEpoch 9650 -- Loss(SparseCategoricalCrossentropy): 0.000, Recall: 0.8462859392166138, Precision: 0.9283096790313721\nEpoch 9660 -- Loss(SparseCategoricalCrossentropy): 0.000, Recall: 0.8463072776794434, Precision: 0.928320586681366\nEpoch 9670 -- Loss(SparseCategoricalCrossentropy): 0.000, Recall: 0.8463285565376282, Precision: 0.9283314347267151\nEpoch 9680 -- Loss(SparseCategoricalCrossentropy): 0.000, Recall: 0.846349835395813, Precision: 0.928342342376709\nEpoch 9690 -- Loss(SparseCategoricalCrossentropy): 0.000, Recall: 0.8463711142539978, Precision: 0.9283532500267029\nEpoch 9700 -- Loss(SparseCategoricalCrossentropy): 0.000, Recall: 0.8463923931121826, Precision: 0.9283641576766968\nEpoch 9710 -- Loss(SparseCategoricalCrossentropy): 0.000, Recall: 0.8464136719703674, Precision: 0.9283750057220459\nEpoch 9720 -- Loss(SparseCategoricalCrossentropy): 0.000, Recall: 0.8464349508285522, Precision: 0.9283859133720398\nEpoch 9730 -- Loss(SparseCategoricalCrossentropy): 0.000, Recall: 0.8464562296867371, Precision: 0.9283967614173889\nEpoch 9740 -- Loss(SparseCategoricalCrossentropy): 0.000, Recall: 0.8464775085449219, Precision: 0.9284076690673828\nEpoch 9750 -- Loss(SparseCategoricalCrossentropy): 0.000, Recall: 0.8464987277984619, Precision: 0.9284185171127319\nEpoch 9760 -- Loss(SparseCategoricalCrossentropy): 0.000, Recall: 0.8465200066566467, Precision: 0.928429365158081\nEpoch 9770 -- Loss(SparseCategoricalCrossentropy): 0.000, Recall: 0.8465412259101868, Precision: 0.928440272808075\nEpoch 9780 -- Loss(SparseCategoricalCrossentropy): 0.000, Recall: 0.8465625047683716, Precision: 0.9284511208534241\nEpoch 9790 -- Loss(SparseCategoricalCrossentropy): 0.000, Recall: 0.8465837240219116, Precision: 0.9284619688987732\nEpoch 9800 -- Loss(SparseCategoricalCrossentropy): 0.000, Recall: 0.8466049432754517, Precision: 0.9284728169441223\nEpoch 9810 -- Loss(SparseCategoricalCrossentropy): 0.000, Recall: 0.8466261625289917, Precision: 0.9284836649894714\nEpoch 9820 -- Loss(SparseCategoricalCrossentropy): 0.000, Recall: 0.8466473817825317, Precision: 0.9284945130348206\nEpoch 9830 -- Loss(SparseCategoricalCrossentropy): 0.000, Recall: 0.846668541431427, Precision: 0.9285053610801697\nEpoch 9840 -- Loss(SparseCategoricalCrossentropy): 0.000, Recall: 0.846689760684967, Precision: 0.9285162091255188\nEpoch 9850 -- Loss(SparseCategoricalCrossentropy): 0.000, Recall: 0.8467109799385071, Precision: 0.9285270571708679\nEpoch 9860 -- Loss(SparseCategoricalCrossentropy): 0.000, Recall: 0.8467321395874023, Precision: 0.928537905216217\nEpoch 9870 -- Loss(SparseCategoricalCrossentropy): 0.000, Recall: 0.8467533588409424, Precision: 0.9285486936569214\nEpoch 9880 -- Loss(SparseCategoricalCrossentropy): 0.000, Recall: 0.8467745184898376, Precision: 0.9285595417022705\nEpoch 9890 -- Loss(SparseCategoricalCrossentropy): 0.000, Recall: 0.8467956781387329, Precision: 0.9285703897476196\nEpoch 9900 -- Loss(SparseCategoricalCrossentropy): 0.000, Recall: 0.8468168377876282, Precision: 0.928581178188324\nEpoch 9910 -- Loss(SparseCategoricalCrossentropy): 0.000, Recall: 0.8468379974365234, Precision: 0.9285920262336731\nEpoch 9920 -- Loss(SparseCategoricalCrossentropy): 0.000, Recall: 0.8468591570854187, Precision: 0.9286028146743774\nEpoch 9930 -- Loss(SparseCategoricalCrossentropy): 0.000, Recall: 0.846880316734314, Precision: 0.9286136031150818\nEpoch 9940 -- Loss(SparseCategoricalCrossentropy): 0.000, Recall: 0.8469014763832092, Precision: 0.9286244511604309\nEpoch 9950 -- Loss(SparseCategoricalCrossentropy): 0.000, Recall: 0.8469225764274597, Precision: 0.9286352396011353\nEpoch 9960 -- Loss(SparseCategoricalCrossentropy): 0.000, Recall: 0.846943736076355, Precision: 0.9286460280418396\nEpoch 9970 -- Loss(SparseCategoricalCrossentropy): 0.000, Recall: 0.8469648361206055, Precision: 0.928656816482544\nEpoch 9980 -- Loss(SparseCategoricalCrossentropy): 0.000, Recall: 0.8469859957695007, Precision: 0.9286676645278931\nEpoch 9990 -- Loss(SparseCategoricalCrossentropy): 0.000, Recall: 0.8470070958137512, Precision: 0.9286784529685974\nEpoch 10000 -- Loss(SparseCategoricalCrossentropy): 0.000, Recall: 0.8470281958580017, Precision: 0.9286892414093018\n"
    }
   ],
   "source": [
    "tft.train(\n",
    "    train_dataset=dataset,\n",
    "    model=model,\n",
    "    epochs=10000,\n",
    "    loss=tf.keras.losses.SparseCategoricalCrossentropy()\n",
    ")"
   ]
  },
  {
   "cell_type": "code",
   "execution_count": 56,
   "metadata": {},
   "outputs": [],
   "source": [
    "model.save('models\\{}-v1.0.h5'.format(model.name))"
   ]
  },
  {
   "cell_type": "code",
   "execution_count": 8,
   "metadata": {
    "tags": []
   },
   "outputs": [
    {
     "output_type": "stream",
     "name": "stdout",
     "text": "WARNING:tensorflow:No training configuration found in the save file, so the model was *not* compiled. Compile it manually.\nModel: \"sequential\"\n_________________________________________________________________\nLayer (type)                 Output Shape              Param #   \n=================================================================\ndense (Dense)                (None, 12)                252       \n_________________________________________________________________\ndense_1 (Dense)              (None, 2)                 26        \n=================================================================\nTotal params: 278\nTrainable params: 278\nNon-trainable params: 0\n_________________________________________________________________\n"
    }
   ],
   "source": [
    "model = tf.keras.models.load_model(r'models\\Mira-v1.0.h5')\n",
    "model.summary()"
   ]
  },
  {
   "cell_type": "code",
   "execution_count": 9,
   "metadata": {},
   "outputs": [],
   "source": [
    "predictions = tft.predict_classes(model=model, features=data)"
   ]
  },
  {
   "cell_type": "code",
   "execution_count": 10,
   "metadata": {
    "tags": []
   },
   "outputs": [
    {
     "output_type": "stream",
     "name": "stdout",
     "text": "1070 100.0\n"
    }
   ],
   "source": [
    "n = 0\n",
    "\n",
    "for i in range(len(labels)):\n",
    "    n += int(labels[i] == predictions[i])\n",
    "\n",
    "print(n, n / len(labels) * 100)"
   ]
  },
  {
   "cell_type": "code",
   "execution_count": 24,
   "metadata": {},
   "outputs": [
    {
     "output_type": "execute_result",
     "data": {
      "text/plain": "(<tf.Tensor: shape=(10,), dtype=int64, numpy=array([0, 0, 0, 1, 0, 0, 0, 0, 0, 0], dtype=int64)>,\n array([0, 0, 0, 1, 0, 0, 0, 0, 0, 0]))"
     },
     "metadata": {},
     "execution_count": 24
    }
   ],
   "source": [
    "predictions[:10], labels[:10]"
   ]
  },
  {
   "cell_type": "code",
   "execution_count": 39,
   "metadata": {},
   "outputs": [
    {
     "output_type": "execute_result",
     "data": {
      "text/plain": "array([[9.9999857e-01, 1.4108425e-06],\n       [3.2748736e-05, 9.9996722e-01]], dtype=float32)"
     },
     "metadata": {},
     "execution_count": 39
    }
   ],
   "source": [
    "model.predict(data[:2])"
   ]
  },
  {
   "cell_type": "code",
   "execution_count": 40,
   "metadata": {},
   "outputs": [
    {
     "output_type": "execute_result",
     "data": {
      "text/plain": "array([0, 1])"
     },
     "metadata": {},
     "execution_count": 40
    }
   ],
   "source": [
    "labels[:2]"
   ]
  },
  {
   "cell_type": "code",
   "execution_count": 69,
   "metadata": {},
   "outputs": [],
   "source": [
    "filename = 'test.tfrecord'\n",
    "writer_data = tf.data.experimental.TFRecordWriter(\"datasets\\Mira\\data.tfrecord\")\n",
    "writer_labels = tf.data.experimental.TFRecordWriter(\"datasets\\Mira\\labels.tfrecord\")\n",
    "test_data = tf.data.Dataset.from_tensor_slices(data)\n",
    "test_labels = tf.data.Dataset.from_tensor_slices(labels)\n",
    "test_data = test_data.map(lambda x: str(x))\n",
    "test_labels = test_labels.map(lambda x: str(x))\n",
    "writer_data.write(test_data)\n",
    "writer_labels.write(test_labels)"
   ]
  },
  {
   "cell_type": "code",
   "execution_count": 75,
   "metadata": {},
   "outputs": [],
   "source": [
    "loaded_dataset = tf.data.TFRecordDataset([\"datasets\\Mira\\labels.tfrecord\"])"
   ]
  },
  {
   "cell_type": "code",
   "execution_count": 76,
   "metadata": {
    "tags": []
   },
   "outputs": [
    {
     "output_type": "stream",
     "name": "stdout",
     "text": "tf.Tensor(b'Tensor(\"args_0:0\", shape=(), dtype=int32)', shape=(), dtype=string)\n"
    }
   ],
   "source": [
    "for d in loaded_dataset.take(1):\n",
    "    print(d)"
   ]
  },
  {
   "cell_type": "code",
   "execution_count": 77,
   "metadata": {},
   "outputs": [
    {
     "output_type": "execute_result",
     "data": {
      "text/plain": "<TFRecordDatasetV2 shapes: (), types: tf.string>"
     },
     "metadata": {},
     "execution_count": 77
    }
   ],
   "source": [
    "loaded_dataset"
   ]
  },
  {
   "cell_type": "code",
   "execution_count": 83,
   "metadata": {
    "tags": []
   },
   "outputs": [
    {
     "output_type": "stream",
     "name": "stdout",
     "text": "b'Tensor(\"args_0:0\", shape=(20,), dtype=float64)'\n"
    }
   ],
   "source": [
    "for d in test_data.take(1):\n",
    "    print(d.numpy())"
   ]
  },
  {
   "cell_type": "code",
   "execution_count": 84,
   "metadata": {},
   "outputs": [
    {
     "output_type": "execute_result",
     "data": {
      "text/plain": "array([-1.67636868, -1.63167534, -1.07627448, -0.92766935, -0.09969852,\n       -0.79751682, -0.47027632,  1.5961253 ,  1.63171389,  1.30207031,\n        0.55290537,  1.14207755, -0.64697944, -0.13645845, -0.15388176,\n        0.74642466,  0.9525158 ,  0.10332707, -0.43498627,  0.02462547])"
     },
     "metadata": {},
     "execution_count": 84
    }
   ],
   "source": [
    "data[0]"
   ]
  },
  {
   "cell_type": "code",
   "execution_count": null,
   "metadata": {},
   "outputs": [],
   "source": []
  }
 ],
 "metadata": {
  "colab": {
   "collapsed_sections": [],
   "name": "Untitled0.ipynb",
   "provenance": []
  },
  "kernelspec": {
   "display_name": "Python 3.8.3 64-bit ('venv': venv)",
   "language": "python",
   "name": "python_defaultSpec_1595264390100"
  },
  "language_info": {
   "codemirror_mode": {
    "name": "ipython",
    "version": 3
   },
   "file_extension": ".py",
   "mimetype": "text/x-python",
   "name": "python",
   "nbconvert_exporter": "python",
   "pygments_lexer": "ipython3",
   "version": "3.8.3-final"
  }
 },
 "nbformat": 4,
 "nbformat_minor": 4
}