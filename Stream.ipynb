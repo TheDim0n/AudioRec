{
 "cells": [
  {
   "cell_type": "code",
   "execution_count": 1,
   "metadata": {},
   "outputs": [],
   "source": [
    "import tensorflow as tf\n",
    "import sounddevice as sd\n",
    "import numpy as np\n",
    "import IPython.display as ipd\n",
    "import scipy as sp\n",
    "import scipy.signal\n",
    "import librosa as li\n",
    "from preprocessing import Audio"
   ]
  },
  {
   "cell_type": "code",
   "execution_count": 2,
   "metadata": {},
   "outputs": [
    {
     "data": {
      "text/plain": [
       "[LogicalDevice(name='/device:CPU:0', device_type='CPU'),\n",
       " LogicalDevice(name='/device:XLA_CPU:0', device_type='XLA_CPU')]"
      ]
     },
     "execution_count": 2,
     "metadata": {},
     "output_type": "execute_result"
    }
   ],
   "source": [
    "tf.config.set_visible_devices(tf.config.list_physical_devices()[0])\n",
    "tf.config.list_logical_devices()"
   ]
  },
  {
   "cell_type": "code",
   "execution_count": 211,
   "metadata": {},
   "outputs": [],
   "source": [
    "sd.default.samplerate = 16000\n",
    "sd.default.channels = 1"
   ]
  },
  {
   "cell_type": "code",
   "execution_count": 210,
   "metadata": {},
   "outputs": [],
   "source": [
    "def get_energy(x, sr=16000):\n",
    "    x, _ = li.effects.trim(x)\n",
    "    x = tf.keras.preprocessing.sequence.pad_sequences(\n",
    "        [x],\n",
    "        maxlen=int(sr * 1.0),\n",
    "        padding='post',\n",
    "        truncating='post',\n",
    "        dtype='float32'\n",
    "    )[0]\n",
    "    coeff = sp.signal.firwin(999, [260, 700], fs=sr, pass_zero=False)\n",
    "    x_filtered = sp.signal.lfilter(coeff, 1.0, x)\n",
    "    x_normalized = x_filtered / x_filtered.max()\n",
    "    x_squared = np.square(x_normalized)\n",
    "    splited = np.array_split(x_squared, 200)\n",
    "    e_parts = np.empty((0))\n",
    "    for part in splited:\n",
    "        e_parts = np.append(e_parts, sp.integrate.simps(part))\n",
    "    return e_parts"
   ]
  },
  {
   "cell_type": "code",
   "execution_count": 224,
   "metadata": {},
   "outputs": [
    {
     "name": "stdout",
     "output_type": "stream",
     "text": [
      "Model: \"MiraGRUV4.3\"\n",
      "_________________________________________________________________\n",
      "Layer (type)                 Output Shape              Param #   \n",
      "=================================================================\n",
      "normalization_2 (Normalizati (None, 200, 1)            3         \n",
      "_________________________________________________________________\n",
      "gru_22 (GRU)                 (None, 200)               121800    \n",
      "_________________________________________________________________\n",
      "dense_22 (Dense)             (None, 1)                 201       \n",
      "=================================================================\n",
      "Total params: 122,004\n",
      "Trainable params: 122,001\n",
      "Non-trainable params: 3\n",
      "_________________________________________________________________\n"
     ]
    }
   ],
   "source": [
    "path_to_model = 'models/v4/MiraGRUV4.3.2-1.h5'\n",
    "model = tf.keras.models.load_model(path_to_model)\n",
    "model.compile(\n",
    "    optimizer=tf.keras.optimizers.Adam(),\n",
    "    loss=tf.keras.losses.BinaryCrossentropy(),\n",
    "    metrics=[\n",
    "        tf.keras.metrics.Recall(name='recall'),\n",
    "        tf.keras.metrics.Precision(name='precision'),\n",
    "    ]\n",
    ")\n",
    "model.summary()"
   ]
  },
  {
   "cell_type": "code",
   "execution_count": 425,
   "metadata": {},
   "outputs": [],
   "source": [
    "data = sd.rec(int(1.0 * sd.default.samplerate), blocking=True)"
   ]
  },
  {
   "cell_type": "code",
   "execution_count": 433,
   "metadata": {},
   "outputs": [],
   "source": [
    "class_sum = 0\n",
    "parts = 0\n",
    "prediction_sum = 0\n",
    "\n",
    "def pad(data):\n",
    "    zero_padding = tf.zeros((16000 - tf.shape(data)[0], 1), dtype=tf.float32)\n",
    "    return tf.concat([data, zero_padding], 0)\n",
    "\n",
    "def predictions(model, data):\n",
    "    predictions = []\n",
    "    for parts in range(0, 16000, 4000):\n",
    "        e_parts = get_energy(np.reshape(data[parts:], (16000-parts)))\n",
    "        predictions.append(model(np.reshape(e_parts, (1, 200)))[0][0].numpy())\n",
    "    return predictions\n",
    "\n",
    "def callback(indata, outdata, frames, time, status):\n",
    "    # outdata[:] = indata\n",
    "    global data, model, class_sum, parts, prediction_sum\n",
    "    \n",
    "    parts += 1\n",
    "    data = data[frames:]\n",
    "    data = np.append(data, indata, axis=0)\n",
    "    e_parts = get_energy(np.reshape(data, (16000)))\n",
    "    preds = predictions(model, data)\n",
    "    print(preds)\n",
    "    ipd.clear_output(wait=True)\n",
    "    \n",
    "    if preds[1] > 0.5 and preds[2] > 0.5:\n",
    "        sd.play(data)\n",
    "        print('Mira {:.3f}'.format(preds[1]+preds[2]/2))\n",
    "            \n",
    "    \n",
    "block = int(sd.default.samplerate * 0.5)\n",
    "stream = sd.Stream(blocksize=block, callback=callback)"
   ]
  },
  {
   "cell_type": "code",
   "execution_count": 434,
   "metadata": {},
   "outputs": [
    {
     "name": "stdout",
     "output_type": "stream",
     "text": [
      "[0.01202178, 0.25935924, 0.44987747, 0.97633064]\n"
     ]
    }
   ],
   "source": [
    "stream.start()"
   ]
  },
  {
   "cell_type": "code",
   "execution_count": 435,
   "metadata": {},
   "outputs": [
    {
     "name": "stdout",
     "output_type": "stream",
     "text": [
      "[1.8140767e-05, 0.036840796, 0.58995897, 0.02207312]\n"
     ]
    }
   ],
   "source": [
    "stream.stop()"
   ]
  },
  {
   "cell_type": "code",
   "execution_count": 60,
   "metadata": {},
   "outputs": [
    {
     "data": {
      "text/plain": [
       "(44100, 1)"
      ]
     },
     "execution_count": 60,
     "metadata": {},
     "output_type": "execute_result"
    }
   ],
   "source": [
    "data.shape"
   ]
  },
  {
   "cell_type": "code",
   "execution_count": 32,
   "metadata": {},
   "outputs": [
    {
     "data": {
      "text/plain": [
       "(None, 200, 1)"
      ]
     },
     "execution_count": 32,
     "metadata": {},
     "output_type": "execute_result"
    }
   ],
   "source": [
    "model.input_shape"
   ]
  },
  {
   "cell_type": "code",
   "execution_count": 111,
   "metadata": {},
   "outputs": [],
   "source": []
  },
  {
   "cell_type": "code",
   "execution_count": 426,
   "metadata": {},
   "outputs": [],
   "source": [
    "parts = int(16000 * 0.15 * 0)\n",
    "sd.play(data[parts:])"
   ]
  },
  {
   "cell_type": "code",
   "execution_count": 313,
   "metadata": {},
   "outputs": [
    {
     "name": "stdout",
     "output_type": "stream",
     "text": [
      "Wall time: 116 ms\n"
     ]
    },
    {
     "data": {
      "text/plain": [
       "<tf.Tensor: shape=(1, 1), dtype=float32, numpy=array([[0.01795262]], dtype=float32)>"
      ]
     },
     "execution_count": 313,
     "metadata": {},
     "output_type": "execute_result"
    }
   ],
   "source": [
    "%%time\n",
    "e_parts = get_energy(np.reshape(data[parts:], (16000-parts)))\n",
    "model(np.reshape(e_parts, (1, 200)))"
   ]
  },
  {
   "cell_type": "code",
   "execution_count": 370,
   "metadata": {},
   "outputs": [],
   "source": []
  },
  {
   "cell_type": "code",
   "execution_count": 419,
   "metadata": {},
   "outputs": [
    {
     "data": {
      "text/plain": [
       "[0.0022153258, 0.0071291924, 0.011405498, 0.057645947]"
      ]
     },
     "execution_count": 419,
     "metadata": {},
     "output_type": "execute_result"
    }
   ],
   "source": [
    "predictions(model, data)"
   ]
  },
  {
   "cell_type": "code",
   "execution_count": 436,
   "metadata": {},
   "outputs": [
    {
     "name": "stdout",
     "output_type": "stream",
     "text": [
      "Wall time: 446 ms\n"
     ]
    },
    {
     "data": {
      "text/plain": [
       "[1.8140767e-05, 0.036840796, 0.58995897, 0.02207312]"
      ]
     },
     "execution_count": 436,
     "metadata": {},
     "output_type": "execute_result"
    }
   ],
   "source": [
    "%%time\n",
    "predictions(model, data)"
   ]
  },
  {
   "cell_type": "code",
   "execution_count": null,
   "metadata": {},
   "outputs": [],
   "source": []
  }
 ],
 "metadata": {
  "kernelspec": {
   "display_name": "audiorec",
   "language": "python",
   "name": "audiorec"
  },
  "language_info": {
   "codemirror_mode": {
    "name": "ipython",
    "version": 3
   },
   "file_extension": ".py",
   "mimetype": "text/x-python",
   "name": "python",
   "nbconvert_exporter": "python",
   "pygments_lexer": "ipython3",
   "version": "3.7.9"
  }
 },
 "nbformat": 4,
 "nbformat_minor": 4
}
