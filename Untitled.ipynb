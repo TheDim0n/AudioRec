{
 "cells": [
  {
   "cell_type": "code",
   "execution_count": 1,
   "metadata": {},
   "outputs": [],
   "source": [
    "import librosa as li\n",
    "import numpy as np\n",
    "import IPython.display as ipd\n",
    "from preprocessing import Audio"
   ]
  },
  {
   "cell_type": "code",
   "execution_count": 31,
   "metadata": {},
   "outputs": [],
   "source": [
    "PATH_0 = r'AudioData/0 Данные' # negative class\n",
    "PATH_1 = r'AudioData/1 Мира' # positive class\n",
    "\n",
    "PATHS = li.util.find_files(PATH_0)[:3000] + li.util.find_files(PATH_1)\n",
    "N = len(PATHS)\n",
    "\n",
    "np.random.shuffle(PATHS)"
   ]
  },
  {
   "cell_type": "code",
   "execution_count": 32,
   "metadata": {},
   "outputs": [
    {
     "name": "stdout",
     "output_type": "stream",
     "text": [
      "D:\\Work\\AudioRec\\AudioData\\1 Мира\\1 Мира\\22.wav\n"
     ]
    }
   ],
   "source": [
    "path = PATHS[3000]\n",
    "print(path)\n",
    "sr = 41000"
   ]
  },
  {
   "cell_type": "code",
   "execution_count": 33,
   "metadata": {},
   "outputs": [],
   "source": [
    "sound = Audio(path)"
   ]
  },
  {
   "cell_type": "code",
   "execution_count": 4,
   "metadata": {},
   "outputs": [],
   "source": [
    "a = sound.augmented()"
   ]
  },
  {
   "cell_type": "code",
   "execution_count": 12,
   "metadata": {},
   "outputs": [
    {
     "data": {
      "text/plain": [
       "array([4.55151106e-05, 1.00582214e+00, 3.27639855e+00, 9.22262349e+00,\n",
       "       2.21687447e+01, 3.38340377e+01, 6.34222062e+01, 1.58361026e+02,\n",
       "       1.39595086e+02, 2.18228006e+00, 2.37378532e+01, 2.25445272e+02,\n",
       "       9.99765843e+01, 3.75612997e+01, 7.52966845e+00, 7.77911099e-01,\n",
       "       1.77521555e-01, 9.98947516e-02, 6.45884149e-04, 9.52966208e-05])"
      ]
     },
     "execution_count": 12,
     "metadata": {},
     "output_type": "execute_result"
    }
   ],
   "source": [
    "a[0]"
   ]
  },
  {
   "cell_type": "code",
   "execution_count": 34,
   "metadata": {},
   "outputs": [
    {
     "data": {
      "text/plain": [
       "1"
      ]
     },
     "execution_count": 34,
     "metadata": {},
     "output_type": "execute_result"
    }
   ],
   "source": [
    "sound.label"
   ]
  },
  {
   "cell_type": "code",
   "execution_count": 38,
   "metadata": {},
   "outputs": [
    {
     "name": "stdout",
     "output_type": "stream",
     "text": [
      "[6.95332138e-03 5.75356275e-02 6.37808689e+00 1.29767530e+01\n",
      " 2.51386697e+01 4.47011450e+01 5.42561400e+01 4.82896381e+01\n",
      " 8.26259670e+00 1.15648103e+02 1.37807350e+02 1.15463884e+02\n",
      " 1.72674207e+02 6.49081058e+01 4.15554944e+00 8.88500686e-01\n",
      " 2.42541340e-01 6.44877669e-06 0.00000000e+00 0.00000000e+00]\n"
     ]
    }
   ],
   "source": [
    "for e in [sound.e_parts]:\n",
    "    print(e)"
   ]
  },
  {
   "cell_type": "code",
   "execution_count": 5,
   "metadata": {},
   "outputs": [],
   "source": [
    "a = [[1]]"
   ]
  },
  {
   "cell_type": "code",
   "execution_count": 6,
   "metadata": {},
   "outputs": [],
   "source": [
    "a += [2]"
   ]
  },
  {
   "cell_type": "code",
   "execution_count": 7,
   "metadata": {},
   "outputs": [
    {
     "data": {
      "text/plain": [
       "[[1], 2]"
      ]
     },
     "execution_count": 7,
     "metadata": {},
     "output_type": "execute_result"
    }
   ],
   "source": [
    "a"
   ]
  },
  {
   "cell_type": "code",
   "execution_count": null,
   "metadata": {},
   "outputs": [],
   "source": []
  }
 ],
 "metadata": {
  "kernelspec": {
   "display_name": "rtuassistant-starter",
   "language": "python",
   "name": "rtuassistant-starter"
  },
  "language_info": {
   "codemirror_mode": {
    "name": "ipython",
    "version": 3
   },
   "file_extension": ".py",
   "mimetype": "text/x-python",
   "name": "python",
   "nbconvert_exporter": "python",
   "pygments_lexer": "ipython3",
   "version": "3.8.3"
  }
 },
 "nbformat": 4,
 "nbformat_minor": 4
}
