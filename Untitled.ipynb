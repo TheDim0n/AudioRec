{
 "cells": [
  {
   "cell_type": "code",
   "execution_count": 1,
   "metadata": {},
   "outputs": [],
   "source": [
    "import librosa as li\n",
    "import numpy as np\n",
    "import IPython.display as ipd\n",
    "from preprocessing import Audio"
   ]
  },
  {
   "cell_type": "code",
   "execution_count": 2,
   "metadata": {},
   "outputs": [],
   "source": [
    "path = r'AudioData/1 Мира/1 Мира/4.wav'\n",
    "sr = 41000"
   ]
  },
  {
   "cell_type": "code",
   "execution_count": 3,
   "metadata": {},
   "outputs": [],
   "source": [
    "sound = Audio(path)"
   ]
  },
  {
   "cell_type": "code",
   "execution_count": 4,
   "metadata": {},
   "outputs": [],
   "source": [
    "a = sound.augmented()"
   ]
  },
  {
   "cell_type": "code",
   "execution_count": 5,
   "metadata": {},
   "outputs": [
    {
     "data": {
      "text/plain": [
       "6"
      ]
     },
     "execution_count": 5,
     "metadata": {},
     "output_type": "execute_result"
    }
   ],
   "source": [
    "len(a)"
   ]
  },
  {
   "cell_type": "code",
   "execution_count": 6,
   "metadata": {},
   "outputs": [
    {
     "data": {
      "text/plain": [
       "[array([4.55151106e-05, 1.00582214e+00, 3.27639855e+00, 9.22262349e+00,\n",
       "        2.21687447e+01, 3.38340377e+01, 6.34222062e+01, 1.58361026e+02,\n",
       "        1.39595086e+02, 2.18228006e+00, 2.37378532e+01, 2.25445272e+02,\n",
       "        9.99765843e+01, 3.75612997e+01, 7.52966845e+00, 7.77911099e-01,\n",
       "        1.77521555e-01, 9.98947516e-02, 6.45884149e-04, 9.52966208e-05]),\n",
       " array([6.55361925e-03, 9.94008424e-01, 3.34299120e+00, 9.17764502e+00,\n",
       "        2.22976611e+01, 3.39876670e+01, 6.36677695e+01, 1.58707122e+02,\n",
       "        1.40076791e+02, 2.20527993e+00, 2.36774036e+01, 2.25124116e+02,\n",
       "        9.98911319e+01, 3.74378679e+01, 7.42974927e+00, 7.88968347e-01,\n",
       "        1.81381442e-01, 1.02528574e-01, 5.65494500e-03, 3.00292678e-03]),\n",
       " array([5.15587998e-04, 1.60661026e+00, 5.96387688e+00, 1.33450917e+01,\n",
       "        3.12209531e+01, 4.84814696e+01, 1.03787577e+02, 2.23374304e+02,\n",
       "        1.92429648e+02, 2.59799436e+01, 2.18007683e+01, 1.20354226e+02,\n",
       "        7.81634830e+01, 5.83162636e+01, 1.40154835e+01, 8.36555371e-01,\n",
       "        9.26843588e-02, 1.12469204e-01, 1.89636751e-03, 3.18100622e-05]),\n",
       " array([8.13888012e-03, 2.16146253e+00, 5.60833570e+00, 6.70893620e+00,\n",
       "        2.00259501e+01, 2.40560852e+01, 7.09106942e+01, 1.88419031e+02,\n",
       "        1.80996198e+02, 2.58261045e+01, 4.57725350e+01, 1.75174275e+02,\n",
       "        1.11864954e+02, 3.51538672e+01, 9.99077061e+00, 1.57139564e+00,\n",
       "        1.91604410e-01, 8.84878736e-02, 5.89602700e-03, 9.28676552e-05]),\n",
       " array([1.39605045e-02, 1.61613845e+00, 6.16340134e+00, 1.38842520e+01,\n",
       "        3.24509968e+01, 5.02257836e+01, 1.07791801e+02, 2.32215198e+02,\n",
       "        1.99782069e+02, 2.66174351e+01, 2.27988681e+01, 1.17984913e+02,\n",
       "        8.46758470e+01, 5.17571845e+01, 1.16906427e+01, 7.87400674e-01,\n",
       "        1.08564557e-01, 1.06956713e-01, 7.09779984e-03, 1.85497905e-03]),\n",
       " array([2.34592684e-02, 2.01427385e+00, 4.15580006e+00, 5.18162155e+00,\n",
       "        1.63522377e+01, 1.97892293e+01, 5.75275584e+01, 2.05453556e+02,\n",
       "        1.58740192e+02, 2.25575041e+01, 3.94679894e+01, 1.37278474e+02,\n",
       "        8.19750187e+01, 3.24312493e+01, 1.17692156e+01, 1.07662468e+00,\n",
       "        1.81215008e-01, 9.78247816e-02, 4.86527947e-03, 2.67634414e-03])]"
      ]
     },
     "execution_count": 6,
     "metadata": {},
     "output_type": "execute_result"
    }
   ],
   "source": [
    "a"
   ]
  },
  {
   "cell_type": "code",
   "execution_count": 9,
   "metadata": {},
   "outputs": [
    {
     "name": "stdout",
     "output_type": "stream",
     "text": [
      "1\n"
     ]
    }
   ],
   "source": [
    "if y is None:\n",
    "    print(1)"
   ]
  },
  {
   "cell_type": "code",
   "execution_count": 5,
   "metadata": {},
   "outputs": [],
   "source": [
    "a = [[1]]"
   ]
  },
  {
   "cell_type": "code",
   "execution_count": 6,
   "metadata": {},
   "outputs": [],
   "source": [
    "a += [2]"
   ]
  },
  {
   "cell_type": "code",
   "execution_count": 7,
   "metadata": {},
   "outputs": [
    {
     "data": {
      "text/plain": [
       "[[1], 2]"
      ]
     },
     "execution_count": 7,
     "metadata": {},
     "output_type": "execute_result"
    }
   ],
   "source": [
    "a"
   ]
  },
  {
   "cell_type": "code",
   "execution_count": null,
   "metadata": {},
   "outputs": [],
   "source": []
  }
 ],
 "metadata": {
  "kernelspec": {
   "display_name": "rtuassistant-starter",
   "language": "python",
   "name": "rtuassistant-starter"
  },
  "language_info": {
   "codemirror_mode": {
    "name": "ipython",
    "version": 3
   },
   "file_extension": ".py",
   "mimetype": "text/x-python",
   "name": "python",
   "nbconvert_exporter": "python",
   "pygments_lexer": "ipython3",
   "version": "3.8.3"
  }
 },
 "nbformat": 4,
 "nbformat_minor": 4
}
